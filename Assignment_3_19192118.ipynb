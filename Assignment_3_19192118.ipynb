{
  "cells": [
    {
      "cell_type": "markdown",
      "metadata": {
        "id": "view-in-github",
        "colab_type": "text"
      },
      "source": [
        "<a href=\"https://colab.research.google.com/github/Ger-oc/XAi/blob/main/Assignment_3_19192118.ipynb\" target=\"_parent\"><img src=\"https://colab.research.google.com/assets/colab-badge.svg\" alt=\"Open In Colab\"/></a>"
      ]
    },
    {
      "cell_type": "markdown",
      "id": "b8e5ed62",
      "metadata": {
        "id": "b8e5ed62"
      },
      "source": [
        "#### <div>\n",
        "<img src=\"https://www.ul.ie/themes/custom/ul/logo.svg\" width=\"350\"/>\n",
        "</div>\n",
        "\n",
        "# **Artificial Intelligence - MSc**\n",
        "\n",
        "## CS6462 - PROBABILISTIC AND EXPLAINABLE AI\n",
        "## SEM2 2024/25\n",
        "\n",
        "### CS6462 Assignment 3 - Causal Graphical Model vs Bayesian Graphical Model\n",
        "\n",
        "### Instructor: Emil Vassev\n",
        "April 8th, 2025\n",
        "<br><br>\n",
        "Copyright (C) 2025 - All rights reserved, do not copy or distribute without permission of the author.\n",
        "***"
      ]
    },
    {
      "cell_type": "markdown",
      "id": "6c2603d7",
      "metadata": {
        "id": "6c2603d7"
      },
      "source": [
        "## Submission Info\n",
        "### Student Name: <span style=\"color:red\"> Gerard</span>\n",
        "### Student Surname: <span style=\"color:red\"> O Connell</span>\n",
        "### Student ID: <span style=\"color:red\">: 19192118</span>\n",
        "### Date of Final Submission: <span style=\"color:red\"> 22/04/2025</span>\n",
        "***"
      ]
    },
    {
      "cell_type": "markdown",
      "id": "a2b8d751",
      "metadata": {
        "id": "a2b8d751"
      },
      "source": [
        "## Task\n",
        "In this e-tivity, you are asked to build a Causal Graphical Model by using the <b>causalgraphicalmodels</b> library and do interventions on this model. Then you are asked to build the same model but as a Bayesian Network by using the <b>BayesianNetwork</b> construct of the <b>pgmpy.models</b> library. Both models need to cover a real-life scenario targeting getting late at work.\n",
        "\n",
        "## The real-life scenario\n",
        "\n",
        "Here, you can find a set of random variables X = {X1, X2, ... , X12}:\n",
        "<li>X1 = “late for work”</li>\n",
        "<li>X2 = “low speed due to long vehicle queues”</li>\n",
        "<li>X3 = “traffic jam”</li>\n",
        "<li>X4 = “traffic accident”</li>\n",
        "<li>X5 = “heavy rain”</li>\n",
        "<li>X6 = “snow”</li>\n",
        "<li>X7 = “slippery road”</li>\n",
        "<li>X8 = “getting up late”</li>\n",
        "<li>X9 = “road is blocked”</li>\n",
        "<li>X10 = “taking a longer alternative route”</li>\n",
        "<li>X11 = “car malfunction”</li>\n",
        "<li>X12 = “car towing”</li>\n",
        "\n",
        "Use your logic to build a <b>realistic</b> causal network, which then can be transformed to a Bayesian Network (Causal Bayesian Network). In this network, the parent-child relationships should be deduced based on your logic. You need to use all the random variables.\n",
        "    \n",
        "### Here are the steps you need to follow:"
      ]
    },
    {
      "cell_type": "markdown",
      "id": "a2788722",
      "metadata": {
        "id": "a2788722"
      },
      "source": [
        "## Step 1: Create and Execute the Causal Network (50%)"
      ]
    },
    {
      "cell_type": "markdown",
      "id": "6b20db4c",
      "metadata": {
        "id": "6b20db4c"
      },
      "source": [
        "### Step 1.1. Describe your logic of deducing the causal relationships. (10%)\n",
        "Outline the problem in terms of:\n",
        "<li>causal dependencies among the random variables</li>\n",
        "<li>short rationale on the parent-child relationships</li>    \n"
      ]
    },
    {
      "cell_type": "markdown",
      "id": "dc9249ff",
      "metadata": {
        "id": "dc9249ff"
      },
      "source": [
        "<span style=\"color:red\">In this causal model, we analyse the factors that may lead someone to be late for work. The central outcome variable is “late for work,” which can be influenced by several real-world conditions involving weather, traffic, personal behaviour, and vehicle reliability. Weather conditions like heavy rain and snow can lead to slippery roads, which in turn increase the likelihood of traffic accidents. Snow can also directly cause car malfunctions due to freezing temperatures. Traffic accidents may result in both traffic jams and road blockages. Traffic jams contribute to lower driving speed, while blocked roads may force a driver to take a longer alternative route. At the same time, car malfunctions can lead to the need for towing services. On the personal side, getting up late independently affects the chance of being late for work. Ultimately, the likelihood of arriving late is influenced by low speed, the need for a longer route, getting up late, car malfunction, and car towing. These relationships form a logical and realistic causal structure that connects environmental, behavioural, and mechanical factors to the final outcome.</span>\n",
        "\n",
        "\n"
      ]
    },
    {
      "cell_type": "markdown",
      "id": "ee5b9a4b",
      "metadata": {
        "id": "ee5b9a4b"
      },
      "source": [
        "### Step 1.2: Create and show the Causal DAG (30%)"
      ]
    },
    {
      "cell_type": "code",
      "source": [
        "!pip install causalgraphicalmodels graphviz\n",
        "!sed -i 's/from collections import Iterable/from collections.abc import Iterable/' /usr/local/lib/python*/dist-packages/causalgraphicalmodels/cgm.py\n"
      ],
      "metadata": {
        "colab": {
          "base_uri": "https://localhost:8080/"
        },
        "id": "8YqLkcVKbLdK",
        "outputId": "1c43f22b-1a02-4e86-dab5-91581004a3ec"
      },
      "id": "8YqLkcVKbLdK",
      "execution_count": 5,
      "outputs": [
        {
          "output_type": "stream",
          "name": "stdout",
          "text": [
            "Requirement already satisfied: causalgraphicalmodels in /usr/local/lib/python3.11/dist-packages (0.0.4)\n",
            "Requirement already satisfied: graphviz in /usr/local/lib/python3.11/dist-packages (0.20.3)\n",
            "Requirement already satisfied: networkx in /usr/local/lib/python3.11/dist-packages (from causalgraphicalmodels) (3.4.2)\n",
            "Requirement already satisfied: numpy in /usr/local/lib/python3.11/dist-packages (from causalgraphicalmodels) (2.0.2)\n",
            "Requirement already satisfied: pandas in /usr/local/lib/python3.11/dist-packages (from causalgraphicalmodels) (2.2.2)\n",
            "Requirement already satisfied: python-dateutil>=2.8.2 in /usr/local/lib/python3.11/dist-packages (from pandas->causalgraphicalmodels) (2.8.2)\n",
            "Requirement already satisfied: pytz>=2020.1 in /usr/local/lib/python3.11/dist-packages (from pandas->causalgraphicalmodels) (2025.2)\n",
            "Requirement already satisfied: tzdata>=2022.7 in /usr/local/lib/python3.11/dist-packages (from pandas->causalgraphicalmodels) (2025.2)\n",
            "Requirement already satisfied: six>=1.5 in /usr/local/lib/python3.11/dist-packages (from python-dateutil>=2.8.2->pandas->causalgraphicalmodels) (1.17.0)\n"
          ]
        }
      ]
    },
    {
      "cell_type": "code",
      "source": [
        "import matplotlib.pyplot as plt\n",
        "\n",
        "from causalgraphicalmodels import CausalGraphicalModel"
      ],
      "metadata": {
        "id": "kq8vSkqVadeq"
      },
      "id": "kq8vSkqVadeq",
      "execution_count": 6,
      "outputs": []
    },
    {
      "cell_type": "code",
      "execution_count": 12,
      "id": "7ed86963",
      "metadata": {
        "colab": {
          "base_uri": "https://localhost:8080/",
          "height": 559
        },
        "id": "7ed86963",
        "outputId": "58dadbce-8daa-4008-e160-f33dc0b06af0"
      },
      "outputs": [
        {
          "output_type": "execute_result",
          "data": {
            "image/svg+xml": "<?xml version=\"1.0\" encoding=\"UTF-8\" standalone=\"no\"?>\n<!DOCTYPE svg PUBLIC \"-//W3C//DTD SVG 1.1//EN\"\n \"http://www.w3.org/Graphics/SVG/1.1/DTD/svg11.dtd\">\n<!-- Generated by graphviz version 2.43.0 (0)\n -->\n<!-- Title: %3 Pages: 1 -->\n<svg width=\"545pt\" height=\"404pt\"\n viewBox=\"0.00 0.00 545.14 404.00\" xmlns=\"http://www.w3.org/2000/svg\" xmlns:xlink=\"http://www.w3.org/1999/xlink\">\n<g id=\"graph0\" class=\"graph\" transform=\"scale(1 1) rotate(0) translate(4 400)\">\n<title>%3</title>\n<polygon fill=\"white\" stroke=\"transparent\" points=\"-4,4 -4,-400 541.14,-400 541.14,4 -4,4\"/>\n<!-- heavy_rain -->\n<g id=\"node1\" class=\"node\">\n<title>heavy_rain</title>\n<ellipse fill=\"none\" stroke=\"black\" cx=\"205.49\" cy=\"-378\" rx=\"50.09\" ry=\"18\"/>\n<text text-anchor=\"middle\" x=\"205.49\" y=\"-374.3\" font-family=\"Times,serif\" font-size=\"14.00\">heavy_rain</text>\n</g>\n<!-- slippery_road -->\n<g id=\"node6\" class=\"node\">\n<title>slippery_road</title>\n<ellipse fill=\"none\" stroke=\"black\" cx=\"205.49\" cy=\"-306\" rx=\"59.29\" ry=\"18\"/>\n<text text-anchor=\"middle\" x=\"205.49\" y=\"-302.3\" font-family=\"Times,serif\" font-size=\"14.00\">slippery_road</text>\n</g>\n<!-- heavy_rain&#45;&gt;slippery_road -->\n<g id=\"edge5\" class=\"edge\">\n<title>heavy_rain&#45;&gt;slippery_road</title>\n<path fill=\"none\" stroke=\"black\" d=\"M205.49,-359.7C205.49,-351.98 205.49,-342.71 205.49,-334.11\"/>\n<polygon fill=\"black\" stroke=\"black\" points=\"208.99,-334.1 205.49,-324.1 201.99,-334.1 208.99,-334.1\"/>\n</g>\n<!-- road_blocked -->\n<g id=\"node2\" class=\"node\">\n<title>road_blocked</title>\n<ellipse fill=\"none\" stroke=\"black\" cx=\"58.49\" cy=\"-162\" rx=\"58.49\" ry=\"18\"/>\n<text text-anchor=\"middle\" x=\"58.49\" y=\"-158.3\" font-family=\"Times,serif\" font-size=\"14.00\">road_blocked</text>\n</g>\n<!-- longer_route -->\n<g id=\"node7\" class=\"node\">\n<title>longer_route</title>\n<ellipse fill=\"none\" stroke=\"black\" cx=\"60.49\" cy=\"-90\" rx=\"55.79\" ry=\"18\"/>\n<text text-anchor=\"middle\" x=\"60.49\" y=\"-86.3\" font-family=\"Times,serif\" font-size=\"14.00\">longer_route</text>\n</g>\n<!-- road_blocked&#45;&gt;longer_route -->\n<g id=\"edge10\" class=\"edge\">\n<title>road_blocked&#45;&gt;longer_route</title>\n<path fill=\"none\" stroke=\"black\" d=\"M58.99,-143.7C59.21,-135.98 59.47,-126.71 59.72,-118.11\"/>\n<polygon fill=\"black\" stroke=\"black\" points=\"63.22,-118.2 60.01,-108.1 56.22,-118 63.22,-118.2\"/>\n</g>\n<!-- traffic_accident -->\n<g id=\"node3\" class=\"node\">\n<title>traffic_accident</title>\n<ellipse fill=\"none\" stroke=\"black\" cx=\"185.49\" cy=\"-234\" rx=\"65.79\" ry=\"18\"/>\n<text text-anchor=\"middle\" x=\"185.49\" y=\"-230.3\" font-family=\"Times,serif\" font-size=\"14.00\">traffic_accident</text>\n</g>\n<!-- traffic_accident&#45;&gt;road_blocked -->\n<g id=\"edge4\" class=\"edge\">\n<title>traffic_accident&#45;&gt;road_blocked</title>\n<path fill=\"none\" stroke=\"black\" d=\"M157.62,-217.64C139.13,-207.45 114.69,-193.97 94.7,-182.95\"/>\n<polygon fill=\"black\" stroke=\"black\" points=\"96.31,-179.85 85.86,-178.09 92.93,-185.98 96.31,-179.85\"/>\n</g>\n<!-- traffic_jam -->\n<g id=\"node10\" class=\"node\">\n<title>traffic_jam</title>\n<ellipse fill=\"none\" stroke=\"black\" cx=\"185.49\" cy=\"-162\" rx=\"50.09\" ry=\"18\"/>\n<text text-anchor=\"middle\" x=\"185.49\" y=\"-158.3\" font-family=\"Times,serif\" font-size=\"14.00\">traffic_jam</text>\n</g>\n<!-- traffic_accident&#45;&gt;traffic_jam -->\n<g id=\"edge3\" class=\"edge\">\n<title>traffic_accident&#45;&gt;traffic_jam</title>\n<path fill=\"none\" stroke=\"black\" d=\"M185.49,-215.7C185.49,-207.98 185.49,-198.71 185.49,-190.11\"/>\n<polygon fill=\"black\" stroke=\"black\" points=\"188.99,-190.1 185.49,-180.1 181.99,-190.1 188.99,-190.1\"/>\n</g>\n<!-- low_speed -->\n<g id=\"node4\" class=\"node\">\n<title>low_speed</title>\n<ellipse fill=\"none\" stroke=\"black\" cx=\"183.49\" cy=\"-90\" rx=\"48.19\" ry=\"18\"/>\n<text text-anchor=\"middle\" x=\"183.49\" y=\"-86.3\" font-family=\"Times,serif\" font-size=\"14.00\">low_speed</text>\n</g>\n<!-- late_for_work -->\n<g id=\"node12\" class=\"node\">\n<title>late_for_work</title>\n<ellipse fill=\"none\" stroke=\"black\" cx=\"299.49\" cy=\"-18\" rx=\"60.39\" ry=\"18\"/>\n<text text-anchor=\"middle\" x=\"299.49\" y=\"-14.3\" font-family=\"Times,serif\" font-size=\"14.00\">late_for_work</text>\n</g>\n<!-- low_speed&#45;&gt;late_for_work -->\n<g id=\"edge1\" class=\"edge\">\n<title>low_speed&#45;&gt;late_for_work</title>\n<path fill=\"none\" stroke=\"black\" d=\"M207.81,-74.33C224.48,-64.27 246.84,-50.78 265.3,-39.64\"/>\n<polygon fill=\"black\" stroke=\"black\" points=\"267.25,-42.55 274,-34.38 263.63,-36.55 267.25,-42.55\"/>\n</g>\n<!-- car_malfunction -->\n<g id=\"node5\" class=\"node\">\n<title>car_malfunction</title>\n<ellipse fill=\"none\" stroke=\"black\" cx=\"322.49\" cy=\"-162\" rx=\"68.79\" ry=\"18\"/>\n<text text-anchor=\"middle\" x=\"322.49\" y=\"-158.3\" font-family=\"Times,serif\" font-size=\"14.00\">car_malfunction</text>\n</g>\n<!-- car_towing -->\n<g id=\"node8\" class=\"node\">\n<title>car_towing</title>\n<ellipse fill=\"none\" stroke=\"black\" cx=\"299.49\" cy=\"-90\" rx=\"50.09\" ry=\"18\"/>\n<text text-anchor=\"middle\" x=\"299.49\" y=\"-86.3\" font-family=\"Times,serif\" font-size=\"14.00\">car_towing</text>\n</g>\n<!-- car_malfunction&#45;&gt;car_towing -->\n<g id=\"edge12\" class=\"edge\">\n<title>car_malfunction&#45;&gt;car_towing</title>\n<path fill=\"none\" stroke=\"black\" d=\"M316.93,-144.05C314.34,-136.18 311.2,-126.62 308.3,-117.79\"/>\n<polygon fill=\"black\" stroke=\"black\" points=\"311.62,-116.68 305.17,-108.28 304.97,-118.87 311.62,-116.68\"/>\n</g>\n<!-- car_malfunction&#45;&gt;late_for_work -->\n<g id=\"edge13\" class=\"edge\">\n<title>car_malfunction&#45;&gt;late_for_work</title>\n<path fill=\"none\" stroke=\"black\" d=\"M337.68,-144.12C351.94,-126.11 369.56,-96.81 358.49,-72 353.05,-59.8 343.26,-49.23 333.19,-40.81\"/>\n<polygon fill=\"black\" stroke=\"black\" points=\"335.18,-37.92 325.14,-34.53 330.87,-43.44 335.18,-37.92\"/>\n</g>\n<!-- slippery_road&#45;&gt;traffic_accident -->\n<g id=\"edge8\" class=\"edge\">\n<title>slippery_road&#45;&gt;traffic_accident</title>\n<path fill=\"none\" stroke=\"black\" d=\"M200.65,-288.05C198.43,-280.26 195.73,-270.82 193.23,-262.08\"/>\n<polygon fill=\"black\" stroke=\"black\" points=\"196.54,-260.93 190.43,-252.28 189.81,-262.85 196.54,-260.93\"/>\n</g>\n<!-- longer_route&#45;&gt;late_for_work -->\n<g id=\"edge11\" class=\"edge\">\n<title>longer_route&#45;&gt;late_for_work</title>\n<path fill=\"none\" stroke=\"black\" d=\"M100.5,-77.28C141.02,-65.42 203.86,-47.01 248.06,-34.06\"/>\n<polygon fill=\"black\" stroke=\"black\" points=\"249.14,-37.4 257.75,-31.23 247.17,-30.68 249.14,-37.4\"/>\n</g>\n<!-- car_towing&#45;&gt;late_for_work -->\n<g id=\"edge14\" class=\"edge\">\n<title>car_towing&#45;&gt;late_for_work</title>\n<path fill=\"none\" stroke=\"black\" d=\"M299.49,-71.7C299.49,-63.98 299.49,-54.71 299.49,-46.11\"/>\n<polygon fill=\"black\" stroke=\"black\" points=\"302.99,-46.1 299.49,-36.1 295.99,-46.1 302.99,-46.1\"/>\n</g>\n<!-- snow -->\n<g id=\"node9\" class=\"node\">\n<title>snow</title>\n<ellipse fill=\"none\" stroke=\"black\" cx=\"312.49\" cy=\"-378\" rx=\"29.5\" ry=\"18\"/>\n<text text-anchor=\"middle\" x=\"312.49\" y=\"-374.3\" font-family=\"Times,serif\" font-size=\"14.00\">snow</text>\n</g>\n<!-- snow&#45;&gt;car_malfunction -->\n<g id=\"edge7\" class=\"edge\">\n<title>snow&#45;&gt;car_malfunction</title>\n<path fill=\"none\" stroke=\"black\" d=\"M313.3,-359.85C315.03,-322.83 319.12,-235.18 321.22,-190.39\"/>\n<polygon fill=\"black\" stroke=\"black\" points=\"324.72,-190.38 321.69,-180.23 317.73,-190.06 324.72,-190.38\"/>\n</g>\n<!-- snow&#45;&gt;slippery_road -->\n<g id=\"edge6\" class=\"edge\">\n<title>snow&#45;&gt;slippery_road</title>\n<path fill=\"none\" stroke=\"black\" d=\"M292.87,-364.16C277.52,-354.12 255.86,-339.95 237.94,-328.23\"/>\n<polygon fill=\"black\" stroke=\"black\" points=\"239.78,-325.24 229.49,-322.7 235.94,-331.1 239.78,-325.24\"/>\n</g>\n<!-- traffic_jam&#45;&gt;low_speed -->\n<g id=\"edge2\" class=\"edge\">\n<title>traffic_jam&#45;&gt;low_speed</title>\n<path fill=\"none\" stroke=\"black\" d=\"M185,-143.7C184.78,-135.98 184.52,-126.71 184.27,-118.11\"/>\n<polygon fill=\"black\" stroke=\"black\" points=\"187.77,-118 183.98,-108.1 180.77,-118.2 187.77,-118\"/>\n</g>\n<!-- getting_up_late -->\n<g id=\"node11\" class=\"node\">\n<title>getting_up_late</title>\n<ellipse fill=\"none\" stroke=\"black\" cx=\"471.49\" cy=\"-90\" rx=\"65.79\" ry=\"18\"/>\n<text text-anchor=\"middle\" x=\"471.49\" y=\"-86.3\" font-family=\"Times,serif\" font-size=\"14.00\">getting_up_late</text>\n</g>\n<!-- getting_up_late&#45;&gt;late_for_work -->\n<g id=\"edge9\" class=\"edge\">\n<title>getting_up_late&#45;&gt;late_for_work</title>\n<path fill=\"none\" stroke=\"black\" d=\"M436.27,-74.67C409.34,-63.7 372.06,-48.53 343.22,-36.79\"/>\n<polygon fill=\"black\" stroke=\"black\" points=\"344.37,-33.48 333.79,-32.96 341.73,-39.97 344.37,-33.48\"/>\n</g>\n</g>\n</svg>\n",
            "text/plain": [
              "<graphviz.graphs.Digraph at 0x7d583ef5f910>"
            ]
          },
          "metadata": {},
          "execution_count": 12
        }
      ],
      "source": [
        "from causalgraphicalmodels import CausalGraphicalModel\n",
        "\n",
        "causal_dag = CausalGraphicalModel(\n",
        "    nodes=[\n",
        "        \"late_for_work\", \"low_speed\", \"traffic_jam\", \"traffic_accident\", \"heavy_rain\", \"snow\",\n",
        "        \"slippery_road\", \"getting_up_late\", \"road_blocked\", \"longer_route\", \"car_malfunction\", \"car_towing\"\n",
        "    ],\n",
        "    edges=[\n",
        "        (\"heavy_rain\", \"slippery_road\"),\n",
        "        (\"snow\", \"slippery_road\"),\n",
        "        (\"snow\", \"car_malfunction\"),\n",
        "        (\"slippery_road\", \"traffic_accident\"),\n",
        "        (\"traffic_accident\", \"traffic_jam\"),\n",
        "        (\"traffic_accident\", \"road_blocked\"),\n",
        "        (\"traffic_jam\", \"low_speed\"),\n",
        "        (\"road_blocked\", \"longer_route\"),\n",
        "        (\"car_malfunction\", \"car_towing\"),\n",
        "        (\"getting_up_late\", \"late_for_work\"),\n",
        "        (\"low_speed\", \"late_for_work\"),\n",
        "        (\"longer_route\", \"late_for_work\"),\n",
        "        (\"car_malfunction\", \"late_for_work\"),\n",
        "        (\"car_towing\", \"late_for_work\")\n",
        "    ]\n",
        ")\n",
        "\n",
        "\n",
        "causal_dag.draw()"
      ]
    },
    {
      "cell_type": "markdown",
      "id": "c0ecd215",
      "metadata": {
        "id": "c0ecd215"
      },
      "source": [
        "### Step 1.3: Show the Joint Distibution of the Causal Network (1%)"
      ]
    },
    {
      "cell_type": "code",
      "execution_count": 15,
      "id": "db48a940",
      "metadata": {
        "colab": {
          "base_uri": "https://localhost:8080/"
        },
        "id": "db48a940",
        "outputId": "8e8b586e-6356-4e69-990e-18794824499a"
      },
      "outputs": [
        {
          "output_type": "stream",
          "name": "stdout",
          "text": [
            "P(X1, X2, X3, X4, X5, X6, X7, X8, X9, X10, X11, X12) = P(X5) * P(X6) * P(X8) * P(X7|X5,X6) * P(X11|X6) * P(X4|X7) * P(X3|X4) * P(X9|X4) * P(X2|X3) * P(X10|X9) * P(X12|X11) * P(X1|X2,X8,X10,X11,X12)\n"
          ]
        }
      ],
      "source": [
        "print(\"P(X1, X2, X3, X4, X5, X6, X7, X8, X9, X10, X11, X12) = P(X5) * P(X6) * P(X8) * P(X7|X5,X6) * P(X11|X6) * P(X4|X7) * P(X3|X4) * P(X9|X4) * P(X2|X3) * P(X10|X9) * P(X12|X11) * P(X1|X2,X8,X10,X11,X12)\")\n",
        "\n"
      ]
    },
    {
      "cell_type": "markdown",
      "id": "f33fdb51",
      "metadata": {
        "id": "f33fdb51"
      },
      "source": [
        "### Step 1.4: Run the intervention do(“road is blocked”) (7%)"
      ]
    },
    {
      "cell_type": "code",
      "execution_count": 13,
      "id": "047e9c72",
      "metadata": {
        "colab": {
          "base_uri": "https://localhost:8080/",
          "height": 559
        },
        "id": "047e9c72",
        "outputId": "5944f9dc-57bb-4a1c-f196-d700fdf3c870"
      },
      "outputs": [
        {
          "output_type": "execute_result",
          "data": {
            "image/svg+xml": "<?xml version=\"1.0\" encoding=\"UTF-8\" standalone=\"no\"?>\n<!DOCTYPE svg PUBLIC \"-//W3C//DTD SVG 1.1//EN\"\n \"http://www.w3.org/Graphics/SVG/1.1/DTD/svg11.dtd\">\n<!-- Generated by graphviz version 2.43.0 (0)\n -->\n<!-- Title: %3 Pages: 1 -->\n<svg width=\"545pt\" height=\"404pt\"\n viewBox=\"0.00 0.00 544.69 404.00\" xmlns=\"http://www.w3.org/2000/svg\" xmlns:xlink=\"http://www.w3.org/1999/xlink\">\n<g id=\"graph0\" class=\"graph\" transform=\"scale(1 1) rotate(0) translate(4 400)\">\n<title>%3</title>\n<polygon fill=\"white\" stroke=\"transparent\" points=\"-4,4 -4,-400 540.69,-400 540.69,4 -4,4\"/>\n<!-- heavy_rain -->\n<g id=\"node1\" class=\"node\">\n<title>heavy_rain</title>\n<ellipse fill=\"none\" stroke=\"black\" cx=\"80.05\" cy=\"-378\" rx=\"50.09\" ry=\"18\"/>\n<text text-anchor=\"middle\" x=\"80.05\" y=\"-374.3\" font-family=\"Times,serif\" font-size=\"14.00\">heavy_rain</text>\n</g>\n<!-- slippery_road -->\n<g id=\"node6\" class=\"node\">\n<title>slippery_road</title>\n<ellipse fill=\"none\" stroke=\"black\" cx=\"80.05\" cy=\"-306\" rx=\"59.29\" ry=\"18\"/>\n<text text-anchor=\"middle\" x=\"80.05\" y=\"-302.3\" font-family=\"Times,serif\" font-size=\"14.00\">slippery_road</text>\n</g>\n<!-- heavy_rain&#45;&gt;slippery_road -->\n<g id=\"edge4\" class=\"edge\">\n<title>heavy_rain&#45;&gt;slippery_road</title>\n<path fill=\"none\" stroke=\"black\" d=\"M80.05,-359.7C80.05,-351.98 80.05,-342.71 80.05,-334.11\"/>\n<polygon fill=\"black\" stroke=\"black\" points=\"83.55,-334.1 80.05,-324.1 76.55,-334.1 83.55,-334.1\"/>\n</g>\n<!-- road_blocked -->\n<g id=\"node2\" class=\"node\">\n<title>road_blocked</title>\n<ellipse fill=\"none\" stroke=\"black\" cx=\"332.05\" cy=\"-162\" rx=\"58.49\" ry=\"18\"/>\n<text text-anchor=\"middle\" x=\"332.05\" y=\"-158.3\" font-family=\"Times,serif\" font-size=\"14.00\">road_blocked</text>\n</g>\n<!-- longer_route -->\n<g id=\"node7\" class=\"node\">\n<title>longer_route</title>\n<ellipse fill=\"none\" stroke=\"black\" cx=\"331.05\" cy=\"-90\" rx=\"55.79\" ry=\"18\"/>\n<text text-anchor=\"middle\" x=\"331.05\" y=\"-86.3\" font-family=\"Times,serif\" font-size=\"14.00\">longer_route</text>\n</g>\n<!-- road_blocked&#45;&gt;longer_route -->\n<g id=\"edge9\" class=\"edge\">\n<title>road_blocked&#45;&gt;longer_route</title>\n<path fill=\"none\" stroke=\"black\" d=\"M331.8,-143.7C331.69,-135.98 331.56,-126.71 331.43,-118.11\"/>\n<polygon fill=\"black\" stroke=\"black\" points=\"334.93,-118.05 331.29,-108.1 327.93,-118.15 334.93,-118.05\"/>\n</g>\n<!-- traffic_accident -->\n<g id=\"node3\" class=\"node\">\n<title>traffic_accident</title>\n<ellipse fill=\"none\" stroke=\"black\" cx=\"70.05\" cy=\"-234\" rx=\"65.79\" ry=\"18\"/>\n<text text-anchor=\"middle\" x=\"70.05\" y=\"-230.3\" font-family=\"Times,serif\" font-size=\"14.00\">traffic_accident</text>\n</g>\n<!-- traffic_jam -->\n<g id=\"node10\" class=\"node\">\n<title>traffic_jam</title>\n<ellipse fill=\"none\" stroke=\"black\" cx=\"50.05\" cy=\"-162\" rx=\"50.09\" ry=\"18\"/>\n<text text-anchor=\"middle\" x=\"50.05\" y=\"-158.3\" font-family=\"Times,serif\" font-size=\"14.00\">traffic_jam</text>\n</g>\n<!-- traffic_accident&#45;&gt;traffic_jam -->\n<g id=\"edge3\" class=\"edge\">\n<title>traffic_accident&#45;&gt;traffic_jam</title>\n<path fill=\"none\" stroke=\"black\" d=\"M65.1,-215.7C62.87,-207.9 60.19,-198.51 57.71,-189.83\"/>\n<polygon fill=\"black\" stroke=\"black\" points=\"61.05,-188.76 54.93,-180.1 54.31,-190.68 61.05,-188.76\"/>\n</g>\n<!-- low_speed -->\n<g id=\"node4\" class=\"node\">\n<title>low_speed</title>\n<ellipse fill=\"none\" stroke=\"black\" cx=\"52.05\" cy=\"-90\" rx=\"48.19\" ry=\"18\"/>\n<text text-anchor=\"middle\" x=\"52.05\" y=\"-86.3\" font-family=\"Times,serif\" font-size=\"14.00\">low_speed</text>\n</g>\n<!-- late_for_work -->\n<g id=\"node12\" class=\"node\">\n<title>late_for_work</title>\n<ellipse fill=\"none\" stroke=\"black\" cx=\"247.05\" cy=\"-18\" rx=\"60.39\" ry=\"18\"/>\n<text text-anchor=\"middle\" x=\"247.05\" y=\"-14.3\" font-family=\"Times,serif\" font-size=\"14.00\">late_for_work</text>\n</g>\n<!-- low_speed&#45;&gt;late_for_work -->\n<g id=\"edge1\" class=\"edge\">\n<title>low_speed&#45;&gt;late_for_work</title>\n<path fill=\"none\" stroke=\"black\" d=\"M85.57,-76.97C117.22,-65.6 164.98,-48.46 200.35,-35.76\"/>\n<polygon fill=\"black\" stroke=\"black\" points=\"201.75,-38.98 209.98,-32.31 199.38,-32.39 201.75,-38.98\"/>\n</g>\n<!-- car_malfunction -->\n<g id=\"node5\" class=\"node\">\n<title>car_malfunction</title>\n<ellipse fill=\"none\" stroke=\"black\" cx=\"187.05\" cy=\"-162\" rx=\"68.79\" ry=\"18\"/>\n<text text-anchor=\"middle\" x=\"187.05\" y=\"-158.3\" font-family=\"Times,serif\" font-size=\"14.00\">car_malfunction</text>\n</g>\n<!-- car_towing -->\n<g id=\"node8\" class=\"node\">\n<title>car_towing</title>\n<ellipse fill=\"none\" stroke=\"black\" cx=\"169.05\" cy=\"-90\" rx=\"50.09\" ry=\"18\"/>\n<text text-anchor=\"middle\" x=\"169.05\" y=\"-86.3\" font-family=\"Times,serif\" font-size=\"14.00\">car_towing</text>\n</g>\n<!-- car_malfunction&#45;&gt;car_towing -->\n<g id=\"edge11\" class=\"edge\">\n<title>car_malfunction&#45;&gt;car_towing</title>\n<path fill=\"none\" stroke=\"black\" d=\"M182.6,-143.7C180.59,-135.9 178.18,-126.51 175.94,-117.83\"/>\n<polygon fill=\"black\" stroke=\"black\" points=\"179.32,-116.92 173.44,-108.1 172.54,-118.66 179.32,-116.92\"/>\n</g>\n<!-- car_malfunction&#45;&gt;late_for_work -->\n<g id=\"edge12\" class=\"edge\">\n<title>car_malfunction&#45;&gt;late_for_work</title>\n<path fill=\"none\" stroke=\"black\" d=\"M203.25,-144.17C211.85,-134.34 221.88,-121.3 228.05,-108 237.16,-88.35 241.96,-64.22 244.46,-46.05\"/>\n<polygon fill=\"black\" stroke=\"black\" points=\"247.93,-46.47 245.67,-36.11 240.98,-45.61 247.93,-46.47\"/>\n</g>\n<!-- slippery_road&#45;&gt;traffic_accident -->\n<g id=\"edge7\" class=\"edge\">\n<title>slippery_road&#45;&gt;traffic_accident</title>\n<path fill=\"none\" stroke=\"black\" d=\"M77.57,-287.7C76.47,-279.98 75.15,-270.71 73.92,-262.11\"/>\n<polygon fill=\"black\" stroke=\"black\" points=\"77.37,-261.51 72.49,-252.1 70.44,-262.5 77.37,-261.51\"/>\n</g>\n<!-- longer_route&#45;&gt;late_for_work -->\n<g id=\"edge10\" class=\"edge\">\n<title>longer_route&#45;&gt;late_for_work</title>\n<path fill=\"none\" stroke=\"black\" d=\"M311.56,-72.76C300.43,-63.49 286.3,-51.71 274.11,-41.55\"/>\n<polygon fill=\"black\" stroke=\"black\" points=\"276.35,-38.86 266.42,-35.15 271.86,-44.24 276.35,-38.86\"/>\n</g>\n<!-- car_towing&#45;&gt;late_for_work -->\n<g id=\"edge13\" class=\"edge\">\n<title>car_towing&#45;&gt;late_for_work</title>\n<path fill=\"none\" stroke=\"black\" d=\"M186.74,-73.12C196.97,-63.94 210.01,-52.23 221.35,-42.06\"/>\n<polygon fill=\"black\" stroke=\"black\" points=\"223.77,-44.59 228.87,-35.31 219.09,-39.38 223.77,-44.59\"/>\n</g>\n<!-- snow -->\n<g id=\"node9\" class=\"node\">\n<title>snow</title>\n<ellipse fill=\"none\" stroke=\"black\" cx=\"182.05\" cy=\"-378\" rx=\"29.5\" ry=\"18\"/>\n<text text-anchor=\"middle\" x=\"182.05\" y=\"-374.3\" font-family=\"Times,serif\" font-size=\"14.00\">snow</text>\n</g>\n<!-- snow&#45;&gt;car_malfunction -->\n<g id=\"edge6\" class=\"edge\">\n<title>snow&#45;&gt;car_malfunction</title>\n<path fill=\"none\" stroke=\"black\" d=\"M182.45,-359.85C183.31,-322.83 185.36,-235.18 186.41,-190.39\"/>\n<polygon fill=\"black\" stroke=\"black\" points=\"189.91,-190.31 186.64,-180.23 182.91,-190.15 189.91,-190.31\"/>\n</g>\n<!-- snow&#45;&gt;slippery_road -->\n<g id=\"edge5\" class=\"edge\">\n<title>snow&#45;&gt;slippery_road</title>\n<path fill=\"none\" stroke=\"black\" d=\"M163.34,-364.16C148.84,-354.21 128.43,-340.21 111.44,-328.55\"/>\n<polygon fill=\"black\" stroke=\"black\" points=\"113.15,-325.47 102.92,-322.7 109.19,-331.24 113.15,-325.47\"/>\n</g>\n<!-- traffic_jam&#45;&gt;low_speed -->\n<g id=\"edge2\" class=\"edge\">\n<title>traffic_jam&#45;&gt;low_speed</title>\n<path fill=\"none\" stroke=\"black\" d=\"M50.54,-143.7C50.76,-135.98 51.03,-126.71 51.27,-118.11\"/>\n<polygon fill=\"black\" stroke=\"black\" points=\"54.77,-118.2 51.56,-108.1 47.77,-118 54.77,-118.2\"/>\n</g>\n<!-- getting_up_late -->\n<g id=\"node11\" class=\"node\">\n<title>getting_up_late</title>\n<ellipse fill=\"none\" stroke=\"black\" cx=\"471.05\" cy=\"-90\" rx=\"65.79\" ry=\"18\"/>\n<text text-anchor=\"middle\" x=\"471.05\" y=\"-86.3\" font-family=\"Times,serif\" font-size=\"14.00\">getting_up_late</text>\n</g>\n<!-- getting_up_late&#45;&gt;late_for_work -->\n<g id=\"edge8\" class=\"edge\">\n<title>getting_up_late&#45;&gt;late_for_work</title>\n<path fill=\"none\" stroke=\"black\" d=\"M429.44,-76C392,-64.3 336.91,-47.08 297.08,-34.63\"/>\n<polygon fill=\"black\" stroke=\"black\" points=\"297.89,-31.22 287.3,-31.58 295.8,-37.9 297.89,-31.22\"/>\n</g>\n</g>\n</svg>\n",
            "text/plain": [
              "<graphviz.graphs.Digraph at 0x7d584a6d5350>"
            ]
          },
          "metadata": {},
          "execution_count": 13
        }
      ],
      "source": [
        "from causalgraphicalmodels import CausalGraphicalModel\n",
        "\n",
        "nodes = [\n",
        "    \"late_for_work\", \"low_speed\", \"traffic_jam\", \"traffic_accident\", \"heavy_rain\", \"snow\",\n",
        "    \"slippery_road\", \"getting_up_late\", \"road_blocked\", \"longer_route\", \"car_malfunction\", \"car_towing\"\n",
        "]\n",
        "\n",
        "edges = [\n",
        "    (\"heavy_rain\", \"slippery_road\"),\n",
        "    (\"snow\", \"slippery_road\"),\n",
        "    (\"snow\", \"car_malfunction\"),\n",
        "    (\"slippery_road\", \"traffic_accident\"),\n",
        "    (\"traffic_accident\", \"traffic_jam\"),\n",
        "    (\"traffic_accident\", \"road_blocked\"),\n",
        "    (\"traffic_jam\", \"low_speed\"),\n",
        "    (\"road_blocked\", \"longer_route\"),\n",
        "    (\"car_malfunction\", \"car_towing\"),\n",
        "    (\"getting_up_late\", \"late_for_work\"),\n",
        "    (\"low_speed\", \"late_for_work\"),\n",
        "    (\"longer_route\", \"late_for_work\"),\n",
        "    (\"car_malfunction\", \"late_for_work\"),\n",
        "    (\"car_towing\", \"late_for_work\")\n",
        "]\n",
        "\n",
        "\n",
        "intervened_edges = [edge for edge in edges if edge[1] != \"road_blocked\"]\n",
        "\n",
        "\n",
        "intervened_graph = CausalGraphicalModel(\n",
        "    nodes=nodes,\n",
        "    edges=intervened_edges\n",
        ")\n",
        "\n",
        "\n",
        "intervened_graph.draw()\n"
      ]
    },
    {
      "cell_type": "markdown",
      "id": "c4a839dc",
      "metadata": {
        "id": "c4a839dc"
      },
      "source": [
        "### Step 1.5: Show the Causal DAG with the intervention \"on\" (1%)"
      ]
    },
    {
      "cell_type": "code",
      "execution_count": null,
      "id": "cd305a3b",
      "metadata": {
        "id": "cd305a3b"
      },
      "outputs": [],
      "source": [
        "# Graph above"
      ]
    },
    {
      "cell_type": "markdown",
      "id": "93c3bfd3",
      "metadata": {
        "id": "93c3bfd3"
      },
      "source": [
        "### Step 1.6: Show the Joint Distibution of the Causal Network with the intervention \"on\" (1%)"
      ]
    },
    {
      "cell_type": "code",
      "execution_count": 16,
      "id": "54ef9671",
      "metadata": {
        "colab": {
          "base_uri": "https://localhost:8080/"
        },
        "id": "54ef9671",
        "outputId": "d2865432-26d9-4103-8f59-0fcd97f163d2"
      },
      "outputs": [
        {
          "output_type": "stream",
          "name": "stdout",
          "text": [
            "P(X1, X2, X3, X4, X5, X6, X7, X8, X9, X10, X11, X12 | do(X9)) = P(X5) * P(X6) * P(X8) * P(X7|X5,X6) * P(X11|X6) * P(X4|X7) * P(X3|X4) * P(X2|X3) * P(X9) * P(X10|X9) * P(X12|X11) * P(X1|X2,X8,X10,X11,X12)\n"
          ]
        }
      ],
      "source": [
        "print(\"P(X1, X2, X3, X4, X5, X6, X7, X8, X9, X10, X11, X12 | do(X9)) = P(X5) * P(X6) * P(X8) * P(X7|X5,X6) * P(X11|X6) * P(X4|X7) * P(X3|X4) * P(X2|X3) * P(X9) * P(X10|X9) * P(X12|X11) * P(X1|X2,X8,X10,X11,X12)\")\n"
      ]
    },
    {
      "cell_type": "markdown",
      "id": "15270698",
      "metadata": {
        "id": "15270698"
      },
      "source": [
        "***\n",
        "## Note\n",
        "In <b>Step 2</b> you need to transform the model, you have built in Step 1, to a Bayesian Network. Here, you will need to repeat some of the activities you have already done in Assignment 2. Please, consider all the random variables <b>X</b> binary and the probability distribution of each variable as <b>{true=50%, false=50%}</b>.\n",
        "***"
      ]
    },
    {
      "cell_type": "markdown",
      "id": "e9de73a9",
      "metadata": {
        "id": "e9de73a9"
      },
      "source": [
        "## Step 2: Create and Execute the Bayesian Network (50%)"
      ]
    },
    {
      "cell_type": "markdown",
      "id": "bd3ae2ef",
      "metadata": {
        "id": "bd3ae2ef"
      },
      "source": [
        "### Step 2.1: Create and show the DAG of the Bayesian Network (20%)"
      ]
    },
    {
      "cell_type": "code",
      "source": [
        "!pip install pgmpy\n"
      ],
      "metadata": {
        "colab": {
          "base_uri": "https://localhost:8080/"
        },
        "collapsed": true,
        "id": "8d_Gj13ElUbF",
        "outputId": "c81f2997-70e1-4a63-ea91-d2aab5b412ff"
      },
      "id": "8d_Gj13ElUbF",
      "execution_count": 18,
      "outputs": [
        {
          "output_type": "stream",
          "name": "stdout",
          "text": [
            "Collecting pgmpy\n",
            "  Downloading pgmpy-1.0.0-py3-none-any.whl.metadata (9.4 kB)\n",
            "Requirement already satisfied: networkx in /usr/local/lib/python3.11/dist-packages (from pgmpy) (3.4.2)\n",
            "Requirement already satisfied: numpy in /usr/local/lib/python3.11/dist-packages (from pgmpy) (2.0.2)\n",
            "Requirement already satisfied: scipy in /usr/local/lib/python3.11/dist-packages (from pgmpy) (1.14.1)\n",
            "Requirement already satisfied: scikit-learn in /usr/local/lib/python3.11/dist-packages (from pgmpy) (1.6.1)\n",
            "Requirement already satisfied: pandas in /usr/local/lib/python3.11/dist-packages (from pgmpy) (2.2.2)\n",
            "Requirement already satisfied: torch in /usr/local/lib/python3.11/dist-packages (from pgmpy) (2.6.0+cu124)\n",
            "Requirement already satisfied: statsmodels in /usr/local/lib/python3.11/dist-packages (from pgmpy) (0.14.4)\n",
            "Requirement already satisfied: tqdm in /usr/local/lib/python3.11/dist-packages (from pgmpy) (4.67.1)\n",
            "Requirement already satisfied: joblib in /usr/local/lib/python3.11/dist-packages (from pgmpy) (1.4.2)\n",
            "Requirement already satisfied: opt-einsum in /usr/local/lib/python3.11/dist-packages (from pgmpy) (3.4.0)\n",
            "Collecting pyro-ppl (from pgmpy)\n",
            "  Downloading pyro_ppl-1.9.1-py3-none-any.whl.metadata (7.8 kB)\n",
            "Requirement already satisfied: python-dateutil>=2.8.2 in /usr/local/lib/python3.11/dist-packages (from pandas->pgmpy) (2.8.2)\n",
            "Requirement already satisfied: pytz>=2020.1 in /usr/local/lib/python3.11/dist-packages (from pandas->pgmpy) (2025.2)\n",
            "Requirement already satisfied: tzdata>=2022.7 in /usr/local/lib/python3.11/dist-packages (from pandas->pgmpy) (2025.2)\n",
            "Collecting pyro-api>=0.1.1 (from pyro-ppl->pgmpy)\n",
            "  Downloading pyro_api-0.1.2-py3-none-any.whl.metadata (2.5 kB)\n",
            "Requirement already satisfied: filelock in /usr/local/lib/python3.11/dist-packages (from torch->pgmpy) (3.18.0)\n",
            "Requirement already satisfied: typing-extensions>=4.10.0 in /usr/local/lib/python3.11/dist-packages (from torch->pgmpy) (4.13.2)\n",
            "Requirement already satisfied: jinja2 in /usr/local/lib/python3.11/dist-packages (from torch->pgmpy) (3.1.6)\n",
            "Requirement already satisfied: fsspec in /usr/local/lib/python3.11/dist-packages (from torch->pgmpy) (2025.3.2)\n",
            "Collecting nvidia-cuda-nvrtc-cu12==12.4.127 (from torch->pgmpy)\n",
            "  Downloading nvidia_cuda_nvrtc_cu12-12.4.127-py3-none-manylinux2014_x86_64.whl.metadata (1.5 kB)\n",
            "Collecting nvidia-cuda-runtime-cu12==12.4.127 (from torch->pgmpy)\n",
            "  Downloading nvidia_cuda_runtime_cu12-12.4.127-py3-none-manylinux2014_x86_64.whl.metadata (1.5 kB)\n",
            "Collecting nvidia-cuda-cupti-cu12==12.4.127 (from torch->pgmpy)\n",
            "  Downloading nvidia_cuda_cupti_cu12-12.4.127-py3-none-manylinux2014_x86_64.whl.metadata (1.6 kB)\n",
            "Collecting nvidia-cudnn-cu12==9.1.0.70 (from torch->pgmpy)\n",
            "  Downloading nvidia_cudnn_cu12-9.1.0.70-py3-none-manylinux2014_x86_64.whl.metadata (1.6 kB)\n",
            "Collecting nvidia-cublas-cu12==12.4.5.8 (from torch->pgmpy)\n",
            "  Downloading nvidia_cublas_cu12-12.4.5.8-py3-none-manylinux2014_x86_64.whl.metadata (1.5 kB)\n",
            "Collecting nvidia-cufft-cu12==11.2.1.3 (from torch->pgmpy)\n",
            "  Downloading nvidia_cufft_cu12-11.2.1.3-py3-none-manylinux2014_x86_64.whl.metadata (1.5 kB)\n",
            "Collecting nvidia-curand-cu12==10.3.5.147 (from torch->pgmpy)\n",
            "  Downloading nvidia_curand_cu12-10.3.5.147-py3-none-manylinux2014_x86_64.whl.metadata (1.5 kB)\n",
            "Collecting nvidia-cusolver-cu12==11.6.1.9 (from torch->pgmpy)\n",
            "  Downloading nvidia_cusolver_cu12-11.6.1.9-py3-none-manylinux2014_x86_64.whl.metadata (1.6 kB)\n",
            "Collecting nvidia-cusparse-cu12==12.3.1.170 (from torch->pgmpy)\n",
            "  Downloading nvidia_cusparse_cu12-12.3.1.170-py3-none-manylinux2014_x86_64.whl.metadata (1.6 kB)\n",
            "Requirement already satisfied: nvidia-cusparselt-cu12==0.6.2 in /usr/local/lib/python3.11/dist-packages (from torch->pgmpy) (0.6.2)\n",
            "Requirement already satisfied: nvidia-nccl-cu12==2.21.5 in /usr/local/lib/python3.11/dist-packages (from torch->pgmpy) (2.21.5)\n",
            "Requirement already satisfied: nvidia-nvtx-cu12==12.4.127 in /usr/local/lib/python3.11/dist-packages (from torch->pgmpy) (12.4.127)\n",
            "Collecting nvidia-nvjitlink-cu12==12.4.127 (from torch->pgmpy)\n",
            "  Downloading nvidia_nvjitlink_cu12-12.4.127-py3-none-manylinux2014_x86_64.whl.metadata (1.5 kB)\n",
            "Requirement already satisfied: triton==3.2.0 in /usr/local/lib/python3.11/dist-packages (from torch->pgmpy) (3.2.0)\n",
            "Requirement already satisfied: sympy==1.13.1 in /usr/local/lib/python3.11/dist-packages (from torch->pgmpy) (1.13.1)\n",
            "Requirement already satisfied: mpmath<1.4,>=1.1.0 in /usr/local/lib/python3.11/dist-packages (from sympy==1.13.1->torch->pgmpy) (1.3.0)\n",
            "Requirement already satisfied: threadpoolctl>=3.1.0 in /usr/local/lib/python3.11/dist-packages (from scikit-learn->pgmpy) (3.6.0)\n",
            "Requirement already satisfied: patsy>=0.5.6 in /usr/local/lib/python3.11/dist-packages (from statsmodels->pgmpy) (1.0.1)\n",
            "Requirement already satisfied: packaging>=21.3 in /usr/local/lib/python3.11/dist-packages (from statsmodels->pgmpy) (24.2)\n",
            "Requirement already satisfied: six>=1.5 in /usr/local/lib/python3.11/dist-packages (from python-dateutil>=2.8.2->pandas->pgmpy) (1.17.0)\n",
            "Requirement already satisfied: MarkupSafe>=2.0 in /usr/local/lib/python3.11/dist-packages (from jinja2->torch->pgmpy) (3.0.2)\n",
            "Downloading pgmpy-1.0.0-py3-none-any.whl (2.0 MB)\n",
            "\u001b[2K   \u001b[90m━━━━━━━━━━━━━━━━━━━━━━━━━━━━━━━━━━━━━━━━\u001b[0m \u001b[32m2.0/2.0 MB\u001b[0m \u001b[31m24.1 MB/s\u001b[0m eta \u001b[36m0:00:00\u001b[0m\n",
            "\u001b[?25hDownloading pyro_ppl-1.9.1-py3-none-any.whl (755 kB)\n",
            "\u001b[2K   \u001b[90m━━━━━━━━━━━━━━━━━━━━━━━━━━━━━━━━━━━━━━━━\u001b[0m \u001b[32m756.0/756.0 kB\u001b[0m \u001b[31m33.8 MB/s\u001b[0m eta \u001b[36m0:00:00\u001b[0m\n",
            "\u001b[?25hDownloading nvidia_cublas_cu12-12.4.5.8-py3-none-manylinux2014_x86_64.whl (363.4 MB)\n",
            "\u001b[2K   \u001b[90m━━━━━━━━━━━━━━━━━━━━━━━━━━━━━━━━━━━━━━━━\u001b[0m \u001b[32m363.4/363.4 MB\u001b[0m \u001b[31m1.3 MB/s\u001b[0m eta \u001b[36m0:00:00\u001b[0m\n",
            "\u001b[?25hDownloading nvidia_cuda_cupti_cu12-12.4.127-py3-none-manylinux2014_x86_64.whl (13.8 MB)\n",
            "\u001b[2K   \u001b[90m━━━━━━━━━━━━━━━━━━━━━━━━━━━━━━━━━━━━━━━━\u001b[0m \u001b[32m13.8/13.8 MB\u001b[0m \u001b[31m22.7 MB/s\u001b[0m eta \u001b[36m0:00:00\u001b[0m\n",
            "\u001b[?25hDownloading nvidia_cuda_nvrtc_cu12-12.4.127-py3-none-manylinux2014_x86_64.whl (24.6 MB)\n",
            "\u001b[2K   \u001b[90m━━━━━━━━━━━━━━━━━━━━━━━━━━━━━━━━━━━━━━━━\u001b[0m \u001b[32m24.6/24.6 MB\u001b[0m \u001b[31m20.1 MB/s\u001b[0m eta \u001b[36m0:00:00\u001b[0m\n",
            "\u001b[?25hDownloading nvidia_cuda_runtime_cu12-12.4.127-py3-none-manylinux2014_x86_64.whl (883 kB)\n",
            "\u001b[2K   \u001b[90m━━━━━━━━━━━━━━━━━━━━━━━━━━━━━━━━━━━━━━━━\u001b[0m \u001b[32m883.7/883.7 kB\u001b[0m \u001b[31m17.3 MB/s\u001b[0m eta \u001b[36m0:00:00\u001b[0m\n",
            "\u001b[?25hDownloading nvidia_cudnn_cu12-9.1.0.70-py3-none-manylinux2014_x86_64.whl (664.8 MB)\n",
            "\u001b[2K   \u001b[90m━━━━━━━━━━━━━━━━━━━━━━━━━━━━━━━━━━━━━━━\u001b[0m \u001b[32m664.8/664.8 MB\u001b[0m \u001b[31m865.3 kB/s\u001b[0m eta \u001b[36m0:00:00\u001b[0m\n",
            "\u001b[?25hDownloading nvidia_cufft_cu12-11.2.1.3-py3-none-manylinux2014_x86_64.whl (211.5 MB)\n",
            "\u001b[2K   \u001b[90m━━━━━━━━━━━━━━━━━━━━━━━━━━━━━━━━━━━━━━━━\u001b[0m \u001b[32m211.5/211.5 MB\u001b[0m \u001b[31m5.3 MB/s\u001b[0m eta \u001b[36m0:00:00\u001b[0m\n",
            "\u001b[?25hDownloading nvidia_curand_cu12-10.3.5.147-py3-none-manylinux2014_x86_64.whl (56.3 MB)\n",
            "\u001b[2K   \u001b[90m━━━━━━━━━━━━━━━━━━━━━━━━━━━━━━━━━━━━━━━━\u001b[0m \u001b[32m56.3/56.3 MB\u001b[0m \u001b[31m11.3 MB/s\u001b[0m eta \u001b[36m0:00:00\u001b[0m\n",
            "\u001b[?25hDownloading nvidia_cusolver_cu12-11.6.1.9-py3-none-manylinux2014_x86_64.whl (127.9 MB)\n",
            "\u001b[2K   \u001b[90m━━━━━━━━━━━━━━━━━━━━━━━━━━━━━━━━━━━━━━━━\u001b[0m \u001b[32m127.9/127.9 MB\u001b[0m \u001b[31m6.0 MB/s\u001b[0m eta \u001b[36m0:00:00\u001b[0m\n",
            "\u001b[?25hDownloading nvidia_cusparse_cu12-12.3.1.170-py3-none-manylinux2014_x86_64.whl (207.5 MB)\n",
            "\u001b[2K   \u001b[90m━━━━━━━━━━━━━━━━━━━━━━━━━━━━━━━━━━━━━━━━\u001b[0m \u001b[32m207.5/207.5 MB\u001b[0m \u001b[31m5.5 MB/s\u001b[0m eta \u001b[36m0:00:00\u001b[0m\n",
            "\u001b[?25hDownloading nvidia_nvjitlink_cu12-12.4.127-py3-none-manylinux2014_x86_64.whl (21.1 MB)\n",
            "\u001b[2K   \u001b[90m━━━━━━━━━━━━━━━━━━━━━━━━━━━━━━━━━━━━━━━━\u001b[0m \u001b[32m21.1/21.1 MB\u001b[0m \u001b[31m86.9 MB/s\u001b[0m eta \u001b[36m0:00:00\u001b[0m\n",
            "\u001b[?25hDownloading pyro_api-0.1.2-py3-none-any.whl (11 kB)\n",
            "Installing collected packages: pyro-api, nvidia-nvjitlink-cu12, nvidia-curand-cu12, nvidia-cufft-cu12, nvidia-cuda-runtime-cu12, nvidia-cuda-nvrtc-cu12, nvidia-cuda-cupti-cu12, nvidia-cublas-cu12, nvidia-cusparse-cu12, nvidia-cudnn-cu12, nvidia-cusolver-cu12, pyro-ppl, pgmpy\n",
            "  Attempting uninstall: nvidia-nvjitlink-cu12\n",
            "    Found existing installation: nvidia-nvjitlink-cu12 12.5.82\n",
            "    Uninstalling nvidia-nvjitlink-cu12-12.5.82:\n",
            "      Successfully uninstalled nvidia-nvjitlink-cu12-12.5.82\n",
            "  Attempting uninstall: nvidia-curand-cu12\n",
            "    Found existing installation: nvidia-curand-cu12 10.3.6.82\n",
            "    Uninstalling nvidia-curand-cu12-10.3.6.82:\n",
            "      Successfully uninstalled nvidia-curand-cu12-10.3.6.82\n",
            "  Attempting uninstall: nvidia-cufft-cu12\n",
            "    Found existing installation: nvidia-cufft-cu12 11.2.3.61\n",
            "    Uninstalling nvidia-cufft-cu12-11.2.3.61:\n",
            "      Successfully uninstalled nvidia-cufft-cu12-11.2.3.61\n",
            "  Attempting uninstall: nvidia-cuda-runtime-cu12\n",
            "    Found existing installation: nvidia-cuda-runtime-cu12 12.5.82\n",
            "    Uninstalling nvidia-cuda-runtime-cu12-12.5.82:\n",
            "      Successfully uninstalled nvidia-cuda-runtime-cu12-12.5.82\n",
            "  Attempting uninstall: nvidia-cuda-nvrtc-cu12\n",
            "    Found existing installation: nvidia-cuda-nvrtc-cu12 12.5.82\n",
            "    Uninstalling nvidia-cuda-nvrtc-cu12-12.5.82:\n",
            "      Successfully uninstalled nvidia-cuda-nvrtc-cu12-12.5.82\n",
            "  Attempting uninstall: nvidia-cuda-cupti-cu12\n",
            "    Found existing installation: nvidia-cuda-cupti-cu12 12.5.82\n",
            "    Uninstalling nvidia-cuda-cupti-cu12-12.5.82:\n",
            "      Successfully uninstalled nvidia-cuda-cupti-cu12-12.5.82\n",
            "  Attempting uninstall: nvidia-cublas-cu12\n",
            "    Found existing installation: nvidia-cublas-cu12 12.5.3.2\n",
            "    Uninstalling nvidia-cublas-cu12-12.5.3.2:\n",
            "      Successfully uninstalled nvidia-cublas-cu12-12.5.3.2\n",
            "  Attempting uninstall: nvidia-cusparse-cu12\n",
            "    Found existing installation: nvidia-cusparse-cu12 12.5.1.3\n",
            "    Uninstalling nvidia-cusparse-cu12-12.5.1.3:\n",
            "      Successfully uninstalled nvidia-cusparse-cu12-12.5.1.3\n",
            "  Attempting uninstall: nvidia-cudnn-cu12\n",
            "    Found existing installation: nvidia-cudnn-cu12 9.3.0.75\n",
            "    Uninstalling nvidia-cudnn-cu12-9.3.0.75:\n",
            "      Successfully uninstalled nvidia-cudnn-cu12-9.3.0.75\n",
            "  Attempting uninstall: nvidia-cusolver-cu12\n",
            "    Found existing installation: nvidia-cusolver-cu12 11.6.3.83\n",
            "    Uninstalling nvidia-cusolver-cu12-11.6.3.83:\n",
            "      Successfully uninstalled nvidia-cusolver-cu12-11.6.3.83\n",
            "Successfully installed nvidia-cublas-cu12-12.4.5.8 nvidia-cuda-cupti-cu12-12.4.127 nvidia-cuda-nvrtc-cu12-12.4.127 nvidia-cuda-runtime-cu12-12.4.127 nvidia-cudnn-cu12-9.1.0.70 nvidia-cufft-cu12-11.2.1.3 nvidia-curand-cu12-10.3.5.147 nvidia-cusolver-cu12-11.6.1.9 nvidia-cusparse-cu12-12.3.1.170 nvidia-nvjitlink-cu12-12.4.127 pgmpy-1.0.0 pyro-api-0.1.2 pyro-ppl-1.9.1\n"
          ]
        }
      ]
    },
    {
      "cell_type": "markdown",
      "source": [
        "**Colab doesnt support BayesianNetworks it now uses DiscreteBayesianNetworks**"
      ],
      "metadata": {
        "id": "T4S5XiwdmK43"
      },
      "id": "T4S5XiwdmK43"
    },
    {
      "cell_type": "code",
      "execution_count": 31,
      "id": "c350d2fb",
      "metadata": {
        "colab": {
          "base_uri": "https://localhost:8080/"
        },
        "id": "c350d2fb",
        "outputId": "aa9c6bfe-7e5c-47ad-c22a-193215b5607c"
      },
      "outputs": [
        {
          "output_type": "execute_result",
          "data": {
            "text/plain": [
              "OutEdgeView([('heavy_rain', 'slippery_road'), ('slippery_road', 'traffic_accident'), ('snow', 'slippery_road'), ('snow', 'car_malfunction'), ('car_malfunction', 'car_towing'), ('car_malfunction', 'late_for_work'), ('traffic_accident', 'traffic_jam'), ('traffic_accident', 'road_blocked'), ('traffic_jam', 'low_speed'), ('road_blocked', 'longer_route'), ('low_speed', 'late_for_work'), ('longer_route', 'late_for_work'), ('car_towing', 'late_for_work'), ('getting_up_late', 'late_for_work')])"
            ]
          },
          "metadata": {},
          "execution_count": 31
        }
      ],
      "source": [
        "# use the pgmpy library: \"from pgmpy.models import BayesianNetwork\"\n",
        "from pgmpy.models import DiscreteBayesianNetwork\n",
        "from pgmpy.factors.discrete import TabularCPD\n",
        "from pgmpy.inference import VariableElimination\n",
        "\n",
        "bn_model = DiscreteBayesianNetwork([\n",
        "    (\"heavy_rain\", \"slippery_road\"),\n",
        "    (\"snow\", \"slippery_road\"),\n",
        "    (\"snow\", \"car_malfunction\"),\n",
        "    (\"slippery_road\", \"traffic_accident\"),\n",
        "    (\"traffic_accident\", \"traffic_jam\"),\n",
        "    (\"traffic_accident\", \"road_blocked\"),\n",
        "    (\"traffic_jam\", \"low_speed\"),\n",
        "    (\"road_blocked\", \"longer_route\"),\n",
        "    (\"car_malfunction\", \"car_towing\"),\n",
        "    (\"getting_up_late\", \"late_for_work\"),\n",
        "    (\"low_speed\", \"late_for_work\"),\n",
        "    (\"longer_route\", \"late_for_work\"),\n",
        "    (\"car_malfunction\", \"late_for_work\"),\n",
        "    (\"car_towing\", \"late_for_work\")\n",
        "])\n",
        "bn_model.edges()"
      ]
    },
    {
      "cell_type": "markdown",
      "id": "9fc20d41",
      "metadata": {
        "id": "9fc20d41"
      },
      "source": [
        "### Step 2.2: Create the Conditional Probability Distributions of the Bayesian Network (20%)"
      ]
    },
    {
      "cell_type": "markdown",
      "id": "c75f3377",
      "metadata": {
        "id": "c75f3377"
      },
      "source": [
        "#### Step 2.2.1: Build the probability distribution tables with TabularCPD (16%)"
      ]
    },
    {
      "cell_type": "code",
      "execution_count": 32,
      "id": "b4241adf",
      "metadata": {
        "id": "b4241adf"
      },
      "outputs": [],
      "source": [
        "cpd_heavy_rain = TabularCPD(\"heavy_rain\", 2, [[0.5], [0.5]])\n",
        "cpd_snow = TabularCPD(\"snow\", 2, [[0.5], [0.5]])\n",
        "cpd_getting_up_late = TabularCPD(\"getting_up_late\", 2, [[0.5], [0.5]])\n",
        "\n",
        "cpd_slippery = TabularCPD(\"slippery_road\", 2,\n",
        "    [[0.9, 0.7, 0.6, 0.1], [0.1, 0.3, 0.4, 0.9]],\n",
        "    evidence=[\"heavy_rain\", \"snow\"], evidence_card=[2, 2]\n",
        ")\n",
        "\n",
        "cpd_malfunction = TabularCPD(\"car_malfunction\", 2,\n",
        "    [[0.8, 0.3], [0.2, 0.7]],\n",
        "    evidence=[\"snow\"], evidence_card=[2]\n",
        ")\n",
        "\n",
        "cpd_accident = TabularCPD(\"traffic_accident\", 2,\n",
        "    [[0.95, 0.2], [0.05, 0.8]],\n",
        "    evidence=[\"slippery_road\"], evidence_card=[2]\n",
        ")\n",
        "\n",
        "cpd_traffic_jam = TabularCPD(\"traffic_jam\", 2,\n",
        "    [[0.9, 0.3], [0.1, 0.7]],\n",
        "    evidence=[\"traffic_accident\"], evidence_card=[2]\n",
        ")\n",
        "\n",
        "cpd_road_blocked = TabularCPD(\"road_blocked\", 2,\n",
        "    [[0.85, 0.3], [0.15, 0.7]],\n",
        "    evidence=[\"traffic_accident\"], evidence_card=[2]\n",
        ")\n",
        "\n",
        "cpd_low_speed = TabularCPD(\"low_speed\", 2,\n",
        "    [[0.9, 0.2], [0.1, 0.8]],\n",
        "    evidence=[\"traffic_jam\"], evidence_card=[2]\n",
        ")\n",
        "\n",
        "cpd_longer_route = TabularCPD(\"longer_route\", 2,\n",
        "    [[0.95, 0.2], [0.05, 0.8]],\n",
        "    evidence=[\"road_blocked\"], evidence_card=[2]\n",
        ")\n",
        "\n",
        "cpd_car_towing = TabularCPD(\"car_towing\", 2,\n",
        "    [[0.9, 0.3], [0.1, 0.7]],\n",
        "    evidence=[\"car_malfunction\"], evidence_card=[2]\n",
        ")\n",
        "\n",
        "cpd_late_for_work = TabularCPD(\"late_for_work\", 2,\n",
        "    [\n",
        "        # False row\n",
        "        [0.99, 0.8, 0.85, 0.7, 0.7, 0.5, 0.4, 0.3, 0.2, 0.1, 0.05, 0.01, 0.01, 0.01, 0.01, 0.01, 0.01, 0.01, 0.01, 0.01, 0.01, 0.01, 0.01, 0.01, 0.01, 0.01, 0.01, 0.01, 0.01, 0.01, 0.01, 0.01],\n",
        "        # True row\n",
        "        [0.01, 0.2, 0.15, 0.3, 0.3, 0.5, 0.6, 0.7, 0.8, 0.9, 0.95, 0.99, 0.99, 0.99, 0.99, 0.99, 0.99, 0.99, 0.99, 0.99, 0.99, 0.99, 0.99, 0.99, 0.99, 0.99, 0.99, 0.99, 0.99, 0.99, 0.99, 0.99]\n",
        "    ],\n",
        "    evidence=[\"low_speed\", \"getting_up_late\", \"longer_route\", \"car_malfunction\", \"car_towing\"],\n",
        "    evidence_card=[2, 2, 2, 2, 2]\n",
        ")\n"
      ]
    },
    {
      "cell_type": "markdown",
      "id": "b6b85948",
      "metadata": {
        "id": "b6b85948"
      },
      "source": [
        "#### Step 2.2.2: Associate the distribution models with the network structure (2%)"
      ]
    },
    {
      "cell_type": "code",
      "execution_count": 33,
      "id": "9c60a865",
      "metadata": {
        "id": "9c60a865"
      },
      "outputs": [],
      "source": [
        "bn_model.add_cpds(\n",
        "    cpd_heavy_rain, cpd_snow, cpd_getting_up_late, cpd_slippery, cpd_malfunction,\n",
        "    cpd_accident, cpd_traffic_jam, cpd_road_blocked, cpd_low_speed,\n",
        "    cpd_longer_route, cpd_car_towing, cpd_late_for_work\n",
        ")"
      ]
    },
    {
      "cell_type": "markdown",
      "id": "5a52a7fa",
      "metadata": {
        "id": "5a52a7fa"
      },
      "source": [
        "#### Step 2.2.3: Check the model (2%)"
      ]
    },
    {
      "cell_type": "code",
      "execution_count": 34,
      "id": "06b6fdc3",
      "metadata": {
        "colab": {
          "base_uri": "https://localhost:8080/"
        },
        "id": "06b6fdc3",
        "outputId": "6ba37473-111e-4873-f0e7-9091c6209ded"
      },
      "outputs": [
        {
          "output_type": "execute_result",
          "data": {
            "text/plain": [
              "True"
            ]
          },
          "metadata": {},
          "execution_count": 34
        }
      ],
      "source": [
        "bn_model.check_model()"
      ]
    },
    {
      "cell_type": "markdown",
      "id": "9b258b7f",
      "metadata": {
        "id": "9b258b7f"
      },
      "source": [
        "### Step 2.3: Infer Posterior Probability of “road is blocked” considering \"late for work\" as evidence. (10%)"
      ]
    },
    {
      "cell_type": "code",
      "execution_count": null,
      "id": "a1acf2f0",
      "metadata": {
        "id": "a1acf2f0"
      },
      "outputs": [],
      "source": [
        "# show the probability results\n",
        "# your code goes here:"
      ]
    },
    {
      "cell_type": "code",
      "execution_count": 35,
      "id": "983fabb1",
      "metadata": {
        "colab": {
          "base_uri": "https://localhost:8080/"
        },
        "id": "983fabb1",
        "outputId": "582e2cbc-894a-4cc6-fb0f-d2e0c79fd1bf"
      },
      "outputs": [
        {
          "output_type": "stream",
          "name": "stdout",
          "text": [
            "+-----------------+---------------------+\n",
            "| road_blocked    |   phi(road_blocked) |\n",
            "+=================+=====================+\n",
            "| road_blocked(0) |              0.5795 |\n",
            "+-----------------+---------------------+\n",
            "| road_blocked(1) |              0.4205 |\n",
            "+-----------------+---------------------+\n"
          ]
        }
      ],
      "source": [
        "inference = VariableElimination(bn_model)\n",
        "posterior = inference.query(variables=[\"road_blocked\"], evidence={\"late_for_work\": 1})\n",
        "print(posterior)"
      ]
    }
  ],
  "metadata": {
    "kernelspec": {
      "display_name": "Python 3 (ipykernel)",
      "language": "python",
      "name": "python3"
    },
    "language_info": {
      "codemirror_mode": {
        "name": "ipython",
        "version": 3
      },
      "file_extension": ".py",
      "mimetype": "text/x-python",
      "name": "python",
      "nbconvert_exporter": "python",
      "pygments_lexer": "ipython3",
      "version": "3.11.5"
    },
    "colab": {
      "provenance": [],
      "include_colab_link": true
    }
  },
  "nbformat": 4,
  "nbformat_minor": 5
}