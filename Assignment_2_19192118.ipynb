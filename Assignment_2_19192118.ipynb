{
  "cells": [
    {
      "cell_type": "markdown",
      "metadata": {
        "id": "view-in-github",
        "colab_type": "text"
      },
      "source": [
        "<a href=\"https://colab.research.google.com/github/Ger-oc/XAi/blob/main/Assignment_2_19192118.ipynb\" target=\"_parent\"><img src=\"https://colab.research.google.com/assets/colab-badge.svg\" alt=\"Open In Colab\"/></a>"
      ]
    },
    {
      "cell_type": "markdown",
      "id": "b8e5ed62",
      "metadata": {
        "id": "b8e5ed62"
      },
      "source": [
        "<div>\n",
        "<img src=\"https://drive.google.com/uc?export=view&id=1vK33e_EqaHgBHcbRV_m38hx6IkG0blK_\" width=\"350\"/>\n",
        "</div>\n",
        "\n",
        "# **Artificial Intelligence - MSc**\n",
        "\n",
        "## CS6462 - PROBABILISTIC AND EXPLAINABLE AI\n",
        "## SEM2 2024/5\n",
        "\n",
        "### CS6462 Assignment 2 - Bayesian Networks, ML with Python\n",
        "\n",
        "### Instructor: Emil Vassev\n",
        "March 13th, 2025\n",
        "<br><br>\n",
        "Copyright (C) 2025 - All rights reserved, do not copy or distribute without permission of the author.\n",
        "***"
      ]
    },
    {
      "cell_type": "markdown",
      "id": "6c2603d7",
      "metadata": {
        "id": "6c2603d7"
      },
      "source": [
        "## Submission Info\n",
        "### Student Name: <span style=\"color:red\">TODO: Gerard</span>\n",
        "### Student Surname: <span style=\"color:red\">TODO: O Connell</span>\n",
        "### Student ID: <span style=\"color:red\">TODO: 19192118</span>\n",
        "### Date of Final Submission: <span style=\"color:red\">TODO: 06/04/2025</span>\n",
        "***"
      ]
    },
    {
      "cell_type": "markdown",
      "id": "a2b8d751",
      "metadata": {
        "id": "a2b8d751"
      },
      "source": [
        "# Task #1: Bayesian Networks (50%)\n",
        "\n",
        "In this e-tivity, you are asked to build a Bayesian Network by following the steps outlined in “**Notebook Lesson: Building Bayesian Networks with Python**”. This Bayesian Network needs to cover a real-life scenario, which is a modified version of the “Recommendation Letter” example provided by the lectures.\n",
        "## The real-life scenario\n",
        "Let’s suppose that a UL student is taking the CS6264 module “Probabilistic and Explainable AI”. The student’s grade for this module will depend on their intelligence (low or high), module difficulty (easy, hard), and their health status (sick or healthy). Our student asks their professor for a recommendation letter. To come up with the idea of the quality of that recommendation letter (weak or strong), the professor can only look at the student’s grade (A, B or C) and the student’s forum activity (not active, moderate or active). Hence, the actual quality of the letter depends stochastically on the grade and on the forum activity.\n",
        "\n",
        "### Here are the steps you need to follow:"
      ]
    },
    {
      "cell_type": "markdown",
      "id": "a2788722",
      "metadata": {
        "id": "a2788722"
      },
      "source": [
        "## Step 1: Create the DAG of the Bayesian Network (10%)"
      ]
    },
    {
      "cell_type": "markdown",
      "id": "6b20db4c",
      "metadata": {
        "id": "6b20db4c"
      },
      "source": [
        "### Step 1.1. Describe the problem (2%)\n",
        "Outline the problem in terms of:\n",
        "<ul>\n",
        "<li>random variables and their domain</li>\n",
        "<li>dependencies among these random variables</li>\n",
        "<ul>\n",
        "\n",
        "We are modeling a Bayesian Network based on a real-life academic scenario. The goal is to capture the relationships between various factors that influence a student's performance and the subsequent quality of a recommendation letter. The student's grade depends on three key factors: their intelligence which can be high or low, the difficulty of the module easy or hard, and their health status healthy or sick. These three variables directly impact the student's final grade, which can be A, B, or C.\n",
        "\n",
        "After completing the module, the student requests a recommendation letter from the professor. However, the professor only considers the student's grade and their forum activity when deciding the strength of the recommendation, which can be either strong or weak. Therefore, the recommendation letter's quality is probabilistically dependent on both the grade and the level of forum activity. This network of dependencies forms the basis for our Bayesian Network model."
      ]
    },
    {
      "cell_type": "markdown",
      "id": "dc9249ff",
      "metadata": {
        "id": "dc9249ff"
      },
      "source": [
        "<span style=\"color:red\">TODO: your description goes here</span>"
      ]
    },
    {
      "cell_type": "code",
      "source": [
        "!pip install pgmpy\n"
      ],
      "metadata": {
        "colab": {
          "base_uri": "https://localhost:8080/"
        },
        "collapsed": true,
        "id": "bmtkeJBgwklS",
        "outputId": "f45677c1-fd03-405f-fd26-a2553f0a566c"
      },
      "id": "bmtkeJBgwklS",
      "execution_count": 1,
      "outputs": [
        {
          "output_type": "stream",
          "name": "stdout",
          "text": [
            "Requirement already satisfied: pgmpy in /usr/local/lib/python3.11/dist-packages (1.0.0)\n",
            "Requirement already satisfied: networkx in /usr/local/lib/python3.11/dist-packages (from pgmpy) (3.4.2)\n",
            "Requirement already satisfied: numpy in /usr/local/lib/python3.11/dist-packages (from pgmpy) (2.0.2)\n",
            "Requirement already satisfied: scipy in /usr/local/lib/python3.11/dist-packages (from pgmpy) (1.14.1)\n",
            "Requirement already satisfied: scikit-learn in /usr/local/lib/python3.11/dist-packages (from pgmpy) (1.6.1)\n",
            "Requirement already satisfied: pandas in /usr/local/lib/python3.11/dist-packages (from pgmpy) (2.2.2)\n",
            "Requirement already satisfied: torch in /usr/local/lib/python3.11/dist-packages (from pgmpy) (2.6.0+cu124)\n",
            "Requirement already satisfied: statsmodels in /usr/local/lib/python3.11/dist-packages (from pgmpy) (0.14.4)\n",
            "Requirement already satisfied: tqdm in /usr/local/lib/python3.11/dist-packages (from pgmpy) (4.67.1)\n",
            "Requirement already satisfied: joblib in /usr/local/lib/python3.11/dist-packages (from pgmpy) (1.4.2)\n",
            "Requirement already satisfied: opt-einsum in /usr/local/lib/python3.11/dist-packages (from pgmpy) (3.4.0)\n",
            "Requirement already satisfied: pyro-ppl in /usr/local/lib/python3.11/dist-packages (from pgmpy) (1.9.1)\n",
            "Requirement already satisfied: python-dateutil>=2.8.2 in /usr/local/lib/python3.11/dist-packages (from pandas->pgmpy) (2.8.2)\n",
            "Requirement already satisfied: pytz>=2020.1 in /usr/local/lib/python3.11/dist-packages (from pandas->pgmpy) (2025.2)\n",
            "Requirement already satisfied: tzdata>=2022.7 in /usr/local/lib/python3.11/dist-packages (from pandas->pgmpy) (2025.2)\n",
            "Requirement already satisfied: pyro-api>=0.1.1 in /usr/local/lib/python3.11/dist-packages (from pyro-ppl->pgmpy) (0.1.2)\n",
            "Requirement already satisfied: filelock in /usr/local/lib/python3.11/dist-packages (from torch->pgmpy) (3.18.0)\n",
            "Requirement already satisfied: typing-extensions>=4.10.0 in /usr/local/lib/python3.11/dist-packages (from torch->pgmpy) (4.13.0)\n",
            "Requirement already satisfied: jinja2 in /usr/local/lib/python3.11/dist-packages (from torch->pgmpy) (3.1.6)\n",
            "Requirement already satisfied: fsspec in /usr/local/lib/python3.11/dist-packages (from torch->pgmpy) (2025.3.2)\n",
            "Requirement already satisfied: nvidia-cuda-nvrtc-cu12==12.4.127 in /usr/local/lib/python3.11/dist-packages (from torch->pgmpy) (12.4.127)\n",
            "Requirement already satisfied: nvidia-cuda-runtime-cu12==12.4.127 in /usr/local/lib/python3.11/dist-packages (from torch->pgmpy) (12.4.127)\n",
            "Requirement already satisfied: nvidia-cuda-cupti-cu12==12.4.127 in /usr/local/lib/python3.11/dist-packages (from torch->pgmpy) (12.4.127)\n",
            "Requirement already satisfied: nvidia-cudnn-cu12==9.1.0.70 in /usr/local/lib/python3.11/dist-packages (from torch->pgmpy) (9.1.0.70)\n",
            "Requirement already satisfied: nvidia-cublas-cu12==12.4.5.8 in /usr/local/lib/python3.11/dist-packages (from torch->pgmpy) (12.4.5.8)\n",
            "Requirement already satisfied: nvidia-cufft-cu12==11.2.1.3 in /usr/local/lib/python3.11/dist-packages (from torch->pgmpy) (11.2.1.3)\n",
            "Requirement already satisfied: nvidia-curand-cu12==10.3.5.147 in /usr/local/lib/python3.11/dist-packages (from torch->pgmpy) (10.3.5.147)\n",
            "Requirement already satisfied: nvidia-cusolver-cu12==11.6.1.9 in /usr/local/lib/python3.11/dist-packages (from torch->pgmpy) (11.6.1.9)\n",
            "Requirement already satisfied: nvidia-cusparse-cu12==12.3.1.170 in /usr/local/lib/python3.11/dist-packages (from torch->pgmpy) (12.3.1.170)\n",
            "Requirement already satisfied: nvidia-cusparselt-cu12==0.6.2 in /usr/local/lib/python3.11/dist-packages (from torch->pgmpy) (0.6.2)\n",
            "Requirement already satisfied: nvidia-nccl-cu12==2.21.5 in /usr/local/lib/python3.11/dist-packages (from torch->pgmpy) (2.21.5)\n",
            "Requirement already satisfied: nvidia-nvtx-cu12==12.4.127 in /usr/local/lib/python3.11/dist-packages (from torch->pgmpy) (12.4.127)\n",
            "Requirement already satisfied: nvidia-nvjitlink-cu12==12.4.127 in /usr/local/lib/python3.11/dist-packages (from torch->pgmpy) (12.4.127)\n",
            "Requirement already satisfied: triton==3.2.0 in /usr/local/lib/python3.11/dist-packages (from torch->pgmpy) (3.2.0)\n",
            "Requirement already satisfied: sympy==1.13.1 in /usr/local/lib/python3.11/dist-packages (from torch->pgmpy) (1.13.1)\n",
            "Requirement already satisfied: mpmath<1.4,>=1.1.0 in /usr/local/lib/python3.11/dist-packages (from sympy==1.13.1->torch->pgmpy) (1.3.0)\n",
            "Requirement already satisfied: threadpoolctl>=3.1.0 in /usr/local/lib/python3.11/dist-packages (from scikit-learn->pgmpy) (3.6.0)\n",
            "Requirement already satisfied: patsy>=0.5.6 in /usr/local/lib/python3.11/dist-packages (from statsmodels->pgmpy) (1.0.1)\n",
            "Requirement already satisfied: packaging>=21.3 in /usr/local/lib/python3.11/dist-packages (from statsmodels->pgmpy) (24.2)\n",
            "Requirement already satisfied: six>=1.5 in /usr/local/lib/python3.11/dist-packages (from python-dateutil>=2.8.2->pandas->pgmpy) (1.17.0)\n",
            "Requirement already satisfied: MarkupSafe>=2.0 in /usr/local/lib/python3.11/dist-packages (from jinja2->torch->pgmpy) (3.0.2)\n"
          ]
        }
      ]
    },
    {
      "cell_type": "markdown",
      "id": "ee5b9a4b",
      "metadata": {
        "id": "ee5b9a4b"
      },
      "source": [
        "### Step 1.2. Draw and show the DAG (2%)"
      ]
    },
    {
      "cell_type": "code",
      "execution_count": 2,
      "id": "7ed86963",
      "metadata": {
        "colab": {
          "base_uri": "https://localhost:8080/",
          "height": 659
        },
        "id": "7ed86963",
        "outputId": "4d3a9139-cb16-4794-98cd-2e217225dbf3"
      },
      "outputs": [
        {
          "output_type": "display_data",
          "data": {
            "text/plain": [
              "<Figure size 1000x600 with 1 Axes>"
            ],
            "image/png": "[encoded data removed]"
          },
          "metadata": {}
        }
      ],
      "source": [
        "import networkx as nx\n",
        "import matplotlib.pyplot as plt\n",
        "\n",
        "G = nx.DiGraph()\n",
        "G.add_edges_from([\n",
        "    (\"Intelligence\", \"Grade\"),\n",
        "    (\"Difficulty\", \"Grade\"),\n",
        "    (\"Health\", \"Grade\"),\n",
        "    (\"Grade\", \"Recommendation\"),\n",
        "    (\"Forum Activity\", \"Recommendation\")\n",
        "])\n",
        "\n",
        "plt.figure(figsize=(10, 6))\n",
        "pos = nx.spring_layout(G)\n",
        "nx.draw(G, pos, with_labels=True, node_size=2000, node_color='lightblue', font_size=10, font_weight='bold')\n",
        "plt.title(\"Bayesian Network DAG\")\n",
        "plt.show()"
      ]
    },
    {
      "cell_type": "markdown",
      "id": "c0ecd215",
      "metadata": {
        "id": "c0ecd215"
      },
      "source": [
        "### Step 1.3. Create the DAG of the Bayesian Network by using the pgmpy library (5%)"
      ]
    },
    {
      "cell_type": "code",
      "execution_count": 3,
      "id": "db48a940",
      "metadata": {
        "id": "db48a940"
      },
      "outputs": [],
      "source": [
        "from pgmpy.models import DiscreteBayesianNetwork\n",
        "\n",
        "model = DiscreteBayesianNetwork([\n",
        "    (\"Intelligence\", \"Grade\"),\n",
        "    (\"Difficulty\", \"Grade\"),\n",
        "    (\"Health\", \"Grade\"),\n",
        "    (\"Grade\", \"Recommendation\"),\n",
        "    (\"Forum Activity\", \"Recommendation\")\n",
        "])\n"
      ]
    },
    {
      "cell_type": "markdown",
      "id": "c4a839dc",
      "metadata": {
        "id": "c4a839dc"
      },
      "source": [
        "### Step 1.4. Show the DAG of the Bayesian Network (1%)"
      ]
    },
    {
      "cell_type": "code",
      "execution_count": 4,
      "id": "cd305a3b",
      "metadata": {
        "colab": {
          "base_uri": "https://localhost:8080/"
        },
        "id": "cd305a3b",
        "outputId": "8ed2d64e-6358-4889-e903-bd626c4215eb"
      },
      "outputs": [
        {
          "output_type": "execute_result",
          "data": {
            "text/plain": [
              "OutEdgeView([('Intelligence', 'Grade'), ('Grade', 'Recommendation'), ('Difficulty', 'Grade'), ('Health', 'Grade'), ('Forum Activity', 'Recommendation')])"
            ]
          },
          "metadata": {},
          "execution_count": 4
        }
      ],
      "source": [
        "model.nodes()\n",
        "model.edges()\n"
      ]
    },
    {
      "cell_type": "markdown",
      "id": "e9de73a9",
      "metadata": {
        "id": "e9de73a9"
      },
      "source": [
        "## Step 2: Create the Conditional Probability Distributions of the Bayesian Network (25%)"
      ]
    },
    {
      "cell_type": "markdown",
      "id": "bd3ae2ef",
      "metadata": {
        "id": "bd3ae2ef"
      },
      "source": [
        "### Step 2.1: Build the probability distribution tables with TabularCPD (22%)"
      ]
    },
    {
      "cell_type": "code",
      "execution_count": 5,
      "id": "c350d2fb",
      "metadata": {
        "id": "c350d2fb"
      },
      "outputs": [],
      "source": [
        "from pgmpy.factors.discrete import TabularCPD\n",
        "\n",
        "cpd_intelligence = TabularCPD(\n",
        "    variable='Intelligence', variable_card=2,\n",
        "    values=[[0.7], [0.3]],\n",
        "    state_names={'Intelligence': ['High', 'Low']}\n",
        ")\n",
        "\n",
        "cpd_difficulty = TabularCPD(\n",
        "    variable='Difficulty', variable_card=2,\n",
        "    values=[[0.6], [0.4]],\n",
        "    state_names={'Difficulty': ['Easy', 'Hard']}\n",
        ")\n",
        "\n",
        "cpd_health = TabularCPD(\n",
        "    variable='Health', variable_card=2,\n",
        "    values=[[0.8], [0.2]],\n",
        "    state_names={'Health': ['Healthy', 'Sick']}\n",
        ")\n",
        "\n",
        "cpd_grade = TabularCPD(\n",
        "    variable='Grade', variable_card=3,\n",
        "    values=[\n",
        "        [0.9, 0.7, 0.6, 0.6, 0.7, 0.5, 0.8, 0.5],\n",
        "        [0.08, 0.2, 0.3, 0.3, 0.2, 0.3, 0.15, 0.3],\n",
        "        [0.02, 0.1, 0.1, 0.1, 0.1, 0.2, 0.05, 0.2]\n",
        "    ],\n",
        "    evidence=['Intelligence', 'Difficulty', 'Health'],\n",
        "    evidence_card=[2, 2, 2],\n",
        "    state_names={\n",
        "        'Grade': ['A', 'B', 'C'],\n",
        "        'Intelligence': ['High', 'Low'],\n",
        "        'Difficulty': ['Easy', 'Hard'],\n",
        "        'Health': ['Healthy', 'Sick']\n",
        "    }\n",
        ")\n",
        "\n",
        "cpd_forum = TabularCPD(\n",
        "    variable='Forum Activity', variable_card=3,\n",
        "    values=[[0.3], [0.4], [0.3]],\n",
        "    state_names={'Forum Activity': ['Not Active', 'Moderate', 'Active']}\n",
        ")\n",
        "\n",
        "cpd_recommendation = TabularCPD(\n",
        "    variable='Recommendation', variable_card=2,\n",
        "    values=[\n",
        "        [0.9, 0.8, 0.7, 0.6, 0.5, 0.4, 0.3, 0.2, 0.1],\n",
        "        [0.1, 0.2, 0.3, 0.4, 0.5, 0.6, 0.7, 0.8, 0.9]\n",
        "    ],\n",
        "    evidence=['Grade', 'Forum Activity'],\n",
        "    evidence_card=[3, 3],\n",
        "    state_names={\n",
        "        'Recommendation': ['Strong', 'Weak'],\n",
        "        'Grade': ['A', 'B', 'C'],\n",
        "        'Forum Activity': ['Not Active', 'Moderate', 'Active']\n",
        "    }\n",
        ")\n"
      ]
    },
    {
      "cell_type": "markdown",
      "id": "9fc20d41",
      "metadata": {
        "id": "9fc20d41"
      },
      "source": [
        "### Step 2.2: Associate the distribution models with the network structure (2%)"
      ]
    },
    {
      "cell_type": "code",
      "execution_count": 6,
      "id": "b4241adf",
      "metadata": {
        "id": "b4241adf"
      },
      "outputs": [],
      "source": [
        "model.add_cpds(cpd_intelligence, cpd_difficulty, cpd_health, cpd_grade, cpd_forum, cpd_recommendation)\n"
      ]
    },
    {
      "cell_type": "markdown",
      "id": "b6b85948",
      "metadata": {
        "id": "b6b85948"
      },
      "source": [
        "### Step 2.3: Check the model (1%)"
      ]
    },
    {
      "cell_type": "code",
      "execution_count": 7,
      "id": "9c60a865",
      "metadata": {
        "colab": {
          "base_uri": "https://localhost:8080/"
        },
        "id": "9c60a865",
        "outputId": "d252282e-c276-4f3d-fe6b-36ae0814fc47"
      },
      "outputs": [
        {
          "output_type": "execute_result",
          "data": {
            "text/plain": [
              "True"
            ]
          },
          "metadata": {},
          "execution_count": 7
        }
      ],
      "source": [
        "model.check_model()"
      ]
    },
    {
      "cell_type": "markdown",
      "id": "ce96e2a3",
      "metadata": {
        "id": "ce96e2a3"
      },
      "source": [
        "## Step 3: Inference with the Bayesian Network (15%)"
      ]
    },
    {
      "cell_type": "markdown",
      "id": "5a52a7fa",
      "metadata": {
        "id": "5a52a7fa"
      },
      "source": [
        "### Step 3.1: Infer Posterior Probability of having a grade A if the evidence is a strong recommendation letter (5%)"
      ]
    },
    {
      "cell_type": "markdown",
      "source": [],
      "metadata": {
        "id": "Eh_zcs_l1p0z"
      },
      "id": "Eh_zcs_l1p0z"
    },
    {
      "cell_type": "code",
      "execution_count": 8,
      "id": "06b6fdc3",
      "metadata": {
        "colab": {
          "base_uri": "https://localhost:8080/"
        },
        "id": "06b6fdc3",
        "outputId": "f0d3400b-e272-4f1e-9083-81c0fd66a498"
      },
      "outputs": [
        {
          "output_type": "stream",
          "name": "stdout",
          "text": [
            "+----------+--------------+\n",
            "| Grade    |   phi(Grade) |\n",
            "+==========+==============+\n",
            "| Grade(A) |       0.8436 |\n",
            "+----------+--------------+\n",
            "| Grade(B) |       0.1352 |\n",
            "+----------+--------------+\n",
            "| Grade(C) |       0.0213 |\n",
            "+----------+--------------+\n"
          ]
        }
      ],
      "source": [
        "from pgmpy.inference import VariableElimination\n",
        "\n",
        "infer = VariableElimination(model)\n",
        "posterior = infer.query(variables=['Grade'], evidence={'Recommendation': 'Strong'})\n",
        "print(posterior)\n",
        "\n"
      ]
    },
    {
      "cell_type": "markdown",
      "id": "9b258b7f",
      "metadata": {
        "id": "9b258b7f"
      },
      "source": [
        "### Step 3.2: Infer Prior Probability of having a strong recommendation letter (no evidence) (5%)"
      ]
    },
    {
      "cell_type": "code",
      "execution_count": 9,
      "id": "a1acf2f0",
      "metadata": {
        "colab": {
          "base_uri": "https://localhost:8080/"
        },
        "id": "a1acf2f0",
        "outputId": "4448195c-5018-4d50-c8b9-44a0077d1a87"
      },
      "outputs": [
        {
          "output_type": "stream",
          "name": "stdout",
          "text": [
            "+------------------------+-----------------------+\n",
            "| Recommendation         |   phi(Recommendation) |\n",
            "+========================+=======================+\n",
            "| Recommendation(Strong) |                0.6987 |\n",
            "+------------------------+-----------------------+\n",
            "| Recommendation(Weak)   |                0.3013 |\n",
            "+------------------------+-----------------------+\n"
          ]
        }
      ],
      "source": [
        "prior = infer.query(variables=['Recommendation'])\n",
        "print(prior)\n"
      ]
    },
    {
      "cell_type": "markdown",
      "id": "f8e8fba0",
      "metadata": {
        "id": "f8e8fba0"
      },
      "source": [
        "### Step 3.3: Infer Prior Probability of having a strong recommendation letter with a weak forum activity as a prior evidence (5%)"
      ]
    },
    {
      "cell_type": "code",
      "execution_count": 10,
      "id": "806bbe99",
      "metadata": {
        "colab": {
          "base_uri": "https://localhost:8080/"
        },
        "id": "806bbe99",
        "outputId": "a6010d1e-a7cb-4be4-b6c4-c3be6437e921"
      },
      "outputs": [
        {
          "output_type": "stream",
          "name": "stdout",
          "text": [
            "+------------------------+-----------------------+\n",
            "| Recommendation         |   phi(Recommendation) |\n",
            "+========================+=======================+\n",
            "| Recommendation(Strong) |                0.7987 |\n",
            "+------------------------+-----------------------+\n",
            "| Recommendation(Weak)   |                0.2013 |\n",
            "+------------------------+-----------------------+\n"
          ]
        }
      ],
      "source": [
        "posterior2 = infer.query(variables=['Recommendation'], evidence={'Forum Activity': 'Not Active'})\n",
        "print(posterior2)"
      ]
    },
    {
      "cell_type": "markdown",
      "id": "ea801431",
      "metadata": {
        "id": "ea801431"
      },
      "source": [
        "# Task #2: Machine Learning with Python (50%)"
      ]
    },
    {
      "cell_type": "markdown",
      "id": "b2a3b454",
      "metadata": {
        "id": "b2a3b454"
      },
      "source": [
        "In this task, you are asked to follow the ML process to:\n",
        "\n",
        "* preprocess a provided dataset, so it will become suitable for ML operations;\n",
        "* select an appropriate ML model, so it will cope with the specifics of data and ML tasks;\n",
        "* train the selected ML model on the preprocessed dataset;\n",
        "* test the selected ML model on the preprocessed dataset.\n",
        "\n",
        "Please, consult the \"**Notebook Lesson: Machine Learning with Python**\" for the specifics of the different ML models, the Data Preprocessing staeps and the specifics of Model Training and Testing.\n",
        "\n",
        "## The Dataset\n",
        "The provided dataset covers bond trading operations (buy and sell) on a financial market. The data is labeled and provided in its raw format, so it needs to be preprocessed."
      ]
    },
    {
      "cell_type": "markdown",
      "id": "2373b561",
      "metadata": {
        "id": "2373b561"
      },
      "source": [
        "The provided dataset can be loaded as following:"
      ]
    },
    {
      "cell_type": "code",
      "source": [
        "# For use offline only, uncomment if needed\n",
        "\n",
        "#!pip install wget\n",
        "\n",
        "#import wget\n",
        "#wget.download(url_dataset, 'trade_combined.csv')"
      ],
      "metadata": {
        "colab": {
          "base_uri": "https://localhost:8080/"
        },
        "id": "n5nMHV1p584w",
        "outputId": "8cd69a4b-613f-4e15-85ba-f2c75865030a"
      },
      "id": "n5nMHV1p584w",
      "execution_count": 11,
      "outputs": [
        {
          "output_type": "stream",
          "name": "stdout",
          "text": [
            "Requirement already satisfied: wget in /usr/local/lib/python3.11/dist-packages (3.2)\n"
          ]
        }
      ]
    },
    {
      "cell_type": "code",
      "execution_count": 12,
      "id": "815833f1",
      "metadata": {
        "colab": {
          "base_uri": "https://localhost:8080/",
          "height": 586
        },
        "id": "815833f1",
        "outputId": "bc2c776b-5ec9-4263-e401-b36defdb587e"
      },
      "outputs": [
        {
          "output_type": "execute_result",
          "data": {
            "text/plain": [
              "   NoRelatedSym     Symbol SymbolSfx  SecurityID  SecurityIDSource  \\\n",
              "0             1  135087L93        WI         NaN                 1   \n",
              "1             1  135087L93        WI         NaN                 1   \n",
              "2             1  135087L93        WI         NaN                 1   \n",
              "3             1  135087L93        WI         NaN                 1   \n",
              "4             1  135087L93        WI         NaN                 1   \n",
              "5             1  135087M76        WI         NaN                 1   \n",
              "6             1  135087M76        WI         NaN                 1   \n",
              "7             1  135087M76        WI         NaN                 1   \n",
              "8             1  135087M76        WI         NaN                 1   \n",
              "9             1  135087L93        WI         NaN                 1   \n",
              "\n",
              "  SecurityType MaturityDate       IssueDate  Side  OrderQty  ... NoPartIDs  \\\n",
              "0         BOND     9/1/2026  4/16/2021 0:00   BUY   2400000  ...         1   \n",
              "1         BOND     9/1/2026  4/16/2021 0:00   BUY   2400000  ...         1   \n",
              "2         BOND     9/1/2026  4/16/2021 0:00   BUY   2400000  ...         1   \n",
              "3         BOND     9/1/2026  4/16/2021 0:00   BUY   2400000  ...         1   \n",
              "4         BOND     9/1/2026  4/16/2021 0:00   BUY   2400000  ...         1   \n",
              "5         BOND    11/1/2023   8/9/2021 0:00  SELL  15000000  ...         1   \n",
              "6         BOND    11/1/2023   8/9/2021 0:00  SELL  15000000  ...         1   \n",
              "7         BOND    11/1/2023   8/9/2021 0:00  SELL  15000000  ...         1   \n",
              "8         BOND    11/1/2023   8/9/2021 0:00  SELL  15000000  ...         1   \n",
              "9         BOND     9/1/2026  4/16/2021 0:00  SELL    600000  ...         1   \n",
              "\n",
              "  PartyID  DealerID DealerTraderID  CustomerTraderID  CustomerID  \\\n",
              "0       1       334        10792.0              6549         129   \n",
              "1       1       335       117793.0              6549         129   \n",
              "2       1       325       119290.0              6549         129   \n",
              "3       1       327       113852.0              6549         129   \n",
              "4       1       337       117795.0              6549         129   \n",
              "5       1       325       119752.0              7019         277   \n",
              "6       1       336       117794.0              7019         277   \n",
              "7       1       323       117786.0              7019         277   \n",
              "8       1       337       117795.0              7019         277   \n",
              "9       1       335       117793.0             11532         177   \n",
              "\n",
              "   PartyIDSource  PartyRole  DealerCount  OrdSubType  \n",
              "0              D         13            5    OUTRIGHT  \n",
              "1              D         13            5    OUTRIGHT  \n",
              "2              D         13            5    OUTRIGHT  \n",
              "3              D         13            5    OUTRIGHT  \n",
              "4              D         13            5    OUTRIGHT  \n",
              "5              D         13            4    OUTRIGHT  \n",
              "6              D         13            4    OUTRIGHT  \n",
              "7              D         13            4    OUTRIGHT  \n",
              "8              D         13            4    OUTRIGHT  \n",
              "9              D         13            4    OUTRIGHT  \n",
              "\n",
              "[10 rows x 27 columns]"
            ],
            "text/html": [
              "\n",
              "  <div id=\"df-e0e657fd-16c9-4631-979a-bc86567223d6\" class=\"colab-df-container\">\n",
              "    <div>\n",
              "<style scoped>\n",
              "    .dataframe tbody tr th:only-of-type {\n",
              "        vertical-align: middle;\n",
              "    }\n",
              "\n",
              "    .dataframe tbody tr th {\n",
              "        vertical-align: top;\n",
              "    }\n",
              "\n",
              "    .dataframe thead th {\n",
              "        text-align: right;\n",
              "    }\n",
              "</style>\n",
              "<table border=\"1\" class=\"dataframe\">\n",
              "  <thead>\n",
              "    <tr style=\"text-align: right;\">\n",
              "      <th></th>\n",
              "      <th>NoRelatedSym</th>\n",
              "      <th>Symbol</th>\n",
              "      <th>SymbolSfx</th>\n",
              "      <th>SecurityID</th>\n",
              "      <th>SecurityIDSource</th>\n",
              "      <th>SecurityType</th>\n",
              "      <th>MaturityDate</th>\n",
              "      <th>IssueDate</th>\n",
              "      <th>Side</th>\n",
              "      <th>OrderQty</th>\n",
              "      <th>...</th>\n",
              "      <th>NoPartIDs</th>\n",
              "      <th>PartyID</th>\n",
              "      <th>DealerID</th>\n",
              "      <th>DealerTraderID</th>\n",
              "      <th>CustomerTraderID</th>\n",
              "      <th>CustomerID</th>\n",
              "      <th>PartyIDSource</th>\n",
              "      <th>PartyRole</th>\n",
              "      <th>DealerCount</th>\n",
              "      <th>OrdSubType</th>\n",
              "    </tr>\n",
              "  </thead>\n",
              "  <tbody>\n",
              "    <tr>\n",
              "      <th>0</th>\n",
              "      <td>1</td>\n",
              "      <td>135087L93</td>\n",
              "      <td>WI</td>\n",
              "      <td>NaN</td>\n",
              "      <td>1</td>\n",
              "      <td>BOND</td>\n",
              "      <td>9/1/2026</td>\n",
              "      <td>4/16/2021 0:00</td>\n",
              "      <td>BUY</td>\n",
              "      <td>2400000</td>\n",
              "      <td>...</td>\n",
              "      <td>1</td>\n",
              "      <td>1</td>\n",
              "      <td>334</td>\n",
              "      <td>10792.0</td>\n",
              "      <td>6549</td>\n",
              "      <td>129</td>\n",
              "      <td>D</td>\n",
              "      <td>13</td>\n",
              "      <td>5</td>\n",
              "      <td>OUTRIGHT</td>\n",
              "    </tr>\n",
              "    <tr>\n",
              "      <th>1</th>\n",
              "      <td>1</td>\n",
              "      <td>135087L93</td>\n",
              "      <td>WI</td>\n",
              "      <td>NaN</td>\n",
              "      <td>1</td>\n",
              "      <td>BOND</td>\n",
              "      <td>9/1/2026</td>\n",
              "      <td>4/16/2021 0:00</td>\n",
              "      <td>BUY</td>\n",
              "      <td>2400000</td>\n",
              "      <td>...</td>\n",
              "      <td>1</td>\n",
              "      <td>1</td>\n",
              "      <td>335</td>\n",
              "      <td>117793.0</td>\n",
              "      <td>6549</td>\n",
              "      <td>129</td>\n",
              "      <td>D</td>\n",
              "      <td>13</td>\n",
              "      <td>5</td>\n",
              "      <td>OUTRIGHT</td>\n",
              "    </tr>\n",
              "    <tr>\n",
              "      <th>2</th>\n",
              "      <td>1</td>\n",
              "      <td>135087L93</td>\n",
              "      <td>WI</td>\n",
              "      <td>NaN</td>\n",
              "      <td>1</td>\n",
              "      <td>BOND</td>\n",
              "      <td>9/1/2026</td>\n",
              "      <td>4/16/2021 0:00</td>\n",
              "      <td>BUY</td>\n",
              "      <td>2400000</td>\n",
              "      <td>...</td>\n",
              "      <td>1</td>\n",
              "      <td>1</td>\n",
              "      <td>325</td>\n",
              "      <td>119290.0</td>\n",
              "      <td>6549</td>\n",
              "      <td>129</td>\n",
              "      <td>D</td>\n",
              "      <td>13</td>\n",
              "      <td>5</td>\n",
              "      <td>OUTRIGHT</td>\n",
              "    </tr>\n",
              "    <tr>\n",
              "      <th>3</th>\n",
              "      <td>1</td>\n",
              "      <td>135087L93</td>\n",
              "      <td>WI</td>\n",
              "      <td>NaN</td>\n",
              "      <td>1</td>\n",
              "      <td>BOND</td>\n",
              "      <td>9/1/2026</td>\n",
              "      <td>4/16/2021 0:00</td>\n",
              "      <td>BUY</td>\n",
              "      <td>2400000</td>\n",
              "      <td>...</td>\n",
              "      <td>1</td>\n",
              "      <td>1</td>\n",
              "      <td>327</td>\n",
              "      <td>113852.0</td>\n",
              "      <td>6549</td>\n",
              "      <td>129</td>\n",
              "      <td>D</td>\n",
              "      <td>13</td>\n",
              "      <td>5</td>\n",
              "      <td>OUTRIGHT</td>\n",
              "    </tr>\n",
              "    <tr>\n",
              "      <th>4</th>\n",
              "      <td>1</td>\n",
              "      <td>135087L93</td>\n",
              "      <td>WI</td>\n",
              "      <td>NaN</td>\n",
              "      <td>1</td>\n",
              "      <td>BOND</td>\n",
              "      <td>9/1/2026</td>\n",
              "      <td>4/16/2021 0:00</td>\n",
              "      <td>BUY</td>\n",
              "      <td>2400000</td>\n",
              "      <td>...</td>\n",
              "      <td>1</td>\n",
              "      <td>1</td>\n",
              "      <td>337</td>\n",
              "      <td>117795.0</td>\n",
              "      <td>6549</td>\n",
              "      <td>129</td>\n",
              "      <td>D</td>\n",
              "      <td>13</td>\n",
              "      <td>5</td>\n",
              "      <td>OUTRIGHT</td>\n",
              "    </tr>\n",
              "    <tr>\n",
              "      <th>5</th>\n",
              "      <td>1</td>\n",
              "      <td>135087M76</td>\n",
              "      <td>WI</td>\n",
              "      <td>NaN</td>\n",
              "      <td>1</td>\n",
              "      <td>BOND</td>\n",
              "      <td>11/1/2023</td>\n",
              "      <td>8/9/2021 0:00</td>\n",
              "      <td>SELL</td>\n",
              "      <td>15000000</td>\n",
              "      <td>...</td>\n",
              "      <td>1</td>\n",
              "      <td>1</td>\n",
              "      <td>325</td>\n",
              "      <td>119752.0</td>\n",
              "      <td>7019</td>\n",
              "      <td>277</td>\n",
              "      <td>D</td>\n",
              "      <td>13</td>\n",
              "      <td>4</td>\n",
              "      <td>OUTRIGHT</td>\n",
              "    </tr>\n",
              "    <tr>\n",
              "      <th>6</th>\n",
              "      <td>1</td>\n",
              "      <td>135087M76</td>\n",
              "      <td>WI</td>\n",
              "      <td>NaN</td>\n",
              "      <td>1</td>\n",
              "      <td>BOND</td>\n",
              "      <td>11/1/2023</td>\n",
              "      <td>8/9/2021 0:00</td>\n",
              "      <td>SELL</td>\n",
              "      <td>15000000</td>\n",
              "      <td>...</td>\n",
              "      <td>1</td>\n",
              "      <td>1</td>\n",
              "      <td>336</td>\n",
              "      <td>117794.0</td>\n",
              "      <td>7019</td>\n",
              "      <td>277</td>\n",
              "      <td>D</td>\n",
              "      <td>13</td>\n",
              "      <td>4</td>\n",
              "      <td>OUTRIGHT</td>\n",
              "    </tr>\n",
              "    <tr>\n",
              "      <th>7</th>\n",
              "      <td>1</td>\n",
              "      <td>135087M76</td>\n",
              "      <td>WI</td>\n",
              "      <td>NaN</td>\n",
              "      <td>1</td>\n",
              "      <td>BOND</td>\n",
              "      <td>11/1/2023</td>\n",
              "      <td>8/9/2021 0:00</td>\n",
              "      <td>SELL</td>\n",
              "      <td>15000000</td>\n",
              "      <td>...</td>\n",
              "      <td>1</td>\n",
              "      <td>1</td>\n",
              "      <td>323</td>\n",
              "      <td>117786.0</td>\n",
              "      <td>7019</td>\n",
              "      <td>277</td>\n",
              "      <td>D</td>\n",
              "      <td>13</td>\n",
              "      <td>4</td>\n",
              "      <td>OUTRIGHT</td>\n",
              "    </tr>\n",
              "    <tr>\n",
              "      <th>8</th>\n",
              "      <td>1</td>\n",
              "      <td>135087M76</td>\n",
              "      <td>WI</td>\n",
              "      <td>NaN</td>\n",
              "      <td>1</td>\n",
              "      <td>BOND</td>\n",
              "      <td>11/1/2023</td>\n",
              "      <td>8/9/2021 0:00</td>\n",
              "      <td>SELL</td>\n",
              "      <td>15000000</td>\n",
              "      <td>...</td>\n",
              "      <td>1</td>\n",
              "      <td>1</td>\n",
              "      <td>337</td>\n",
              "      <td>117795.0</td>\n",
              "      <td>7019</td>\n",
              "      <td>277</td>\n",
              "      <td>D</td>\n",
              "      <td>13</td>\n",
              "      <td>4</td>\n",
              "      <td>OUTRIGHT</td>\n",
              "    </tr>\n",
              "    <tr>\n",
              "      <th>9</th>\n",
              "      <td>1</td>\n",
              "      <td>135087L93</td>\n",
              "      <td>WI</td>\n",
              "      <td>NaN</td>\n",
              "      <td>1</td>\n",
              "      <td>BOND</td>\n",
              "      <td>9/1/2026</td>\n",
              "      <td>4/16/2021 0:00</td>\n",
              "      <td>SELL</td>\n",
              "      <td>600000</td>\n",
              "      <td>...</td>\n",
              "      <td>1</td>\n",
              "      <td>1</td>\n",
              "      <td>335</td>\n",
              "      <td>117793.0</td>\n",
              "      <td>11532</td>\n",
              "      <td>177</td>\n",
              "      <td>D</td>\n",
              "      <td>13</td>\n",
              "      <td>4</td>\n",
              "      <td>OUTRIGHT</td>\n",
              "    </tr>\n",
              "  </tbody>\n",
              "</table>\n",
              "<p>10 rows × 27 columns</p>\n",
              "</div>\n",
              "    <div class=\"colab-df-buttons\">\n",
              "\n",
              "  <div class=\"colab-df-container\">\n",
              "    <button class=\"colab-df-convert\" onclick=\"convertToInteractive('df-e0e657fd-16c9-4631-979a-bc86567223d6')\"\n",
              "            title=\"Convert this dataframe to an interactive table.\"\n",
              "            style=\"display:none;\">\n",
              "\n",
              "  <svg xmlns=\"http://www.w3.org/2000/svg\" height=\"24px\" viewBox=\"0 -960 960 960\">\n",
              "    <path d=\"M120-120v-720h720v720H120Zm60-500h600v-160H180v160Zm220 220h160v-160H400v160Zm0 220h160v-160H400v160ZM180-400h160v-160H180v160Zm440 0h160v-160H620v160ZM180-180h160v-160H180v160Zm440 0h160v-160H620v160Z\"/>\n",
              "  </svg>\n",
              "    </button>\n",
              "\n",
              "  <style>\n",
              "    .colab-df-container {\n",
              "      display:flex;\n",
              "      gap: 12px;\n",
              "    }\n",
              "\n",
              "    .colab-df-convert {\n",
              "      background-color: #E8F0FE;\n",
              "      border: none;\n",
              "      border-radius: 50%;\n",
              "      cursor: pointer;\n",
              "      display: none;\n",
              "      fill: #1967D2;\n",
              "      height: 32px;\n",
              "      padding: 0 0 0 0;\n",
              "      width: 32px;\n",
              "    }\n",
              "\n",
              "    .colab-df-convert:hover {\n",
              "      background-color: #E2EBFA;\n",
              "      box-shadow: 0px 1px 2px rgba(60, 64, 67, 0.3), 0px 1px 3px 1px rgba(60, 64, 67, 0.15);\n",
              "      fill: #174EA6;\n",
              "    }\n",
              "\n",
              "    .colab-df-buttons div {\n",
              "      margin-bottom: 4px;\n",
              "    }\n",
              "\n",
              "    [theme=dark] .colab-df-convert {\n",
              "      background-color: #3B4455;\n",
              "      fill: #D2E3FC;\n",
              "    }\n",
              "\n",
              "    [theme=dark] .colab-df-convert:hover {\n",
              "      background-color: #434B5C;\n",
              "      box-shadow: 0px 1px 3px 1px rgba(0, 0, 0, 0.15);\n",
              "      filter: drop-shadow(0px 1px 2px rgba(0, 0, 0, 0.3));\n",
              "      fill: #FFFFFF;\n",
              "    }\n",
              "  </style>\n",
              "\n",
              "    <script>\n",
              "      const buttonEl =\n",
              "        document.querySelector('#df-e0e657fd-16c9-4631-979a-bc86567223d6 button.colab-df-convert');\n",
              "      buttonEl.style.display =\n",
              "        google.colab.kernel.accessAllowed ? 'block' : 'none';\n",
              "\n",
              "      async function convertToInteractive(key) {\n",
              "        const element = document.querySelector('#df-e0e657fd-16c9-4631-979a-bc86567223d6');\n",
              "        const dataTable =\n",
              "          await google.colab.kernel.invokeFunction('convertToInteractive',\n",
              "                                                    [key], {});\n",
              "        if (!dataTable) return;\n",
              "\n",
              "        const docLinkHtml = 'Like what you see? Visit the ' +\n",
              "          '<a target=\"_blank\" href=https://colab.research.google.com/notebooks/data_table.ipynb>data table notebook</a>'\n",
              "          + ' to learn more about interactive tables.';\n",
              "        element.innerHTML = '';\n",
              "        dataTable['output_type'] = 'display_data';\n",
              "        await google.colab.output.renderOutput(dataTable, element);\n",
              "        const docLink = document.createElement('div');\n",
              "        docLink.innerHTML = docLinkHtml;\n",
              "        element.appendChild(docLink);\n",
              "      }\n",
              "    </script>\n",
              "  </div>\n",
              "\n",
              "\n",
              "<div id=\"df-68f59c90-3410-4b7d-882c-1428ad6bef05\">\n",
              "  <button class=\"colab-df-quickchart\" onclick=\"quickchart('df-68f59c90-3410-4b7d-882c-1428ad6bef05')\"\n",
              "            title=\"Suggest charts\"\n",
              "            style=\"display:none;\">\n",
              "\n",
              "<svg xmlns=\"http://www.w3.org/2000/svg\" height=\"24px\"viewBox=\"0 0 24 24\"\n",
              "     width=\"24px\">\n",
              "    <g>\n",
              "        <path d=\"M19 3H5c-1.1 0-2 .9-2 2v14c0 1.1.9 2 2 2h14c1.1 0 2-.9 2-2V5c0-1.1-.9-2-2-2zM9 17H7v-7h2v7zm4 0h-2V7h2v10zm4 0h-2v-4h2v4z\"/>\n",
              "    </g>\n",
              "</svg>\n",
              "  </button>\n",
              "\n",
              "<style>\n",
              "  .colab-df-quickchart {\n",
              "      --bg-color: #E8F0FE;\n",
              "      --fill-color: #1967D2;\n",
              "      --hover-bg-color: #E2EBFA;\n",
              "      --hover-fill-color: #174EA6;\n",
              "      --disabled-fill-color: #AAA;\n",
              "      --disabled-bg-color: #DDD;\n",
              "  }\n",
              "\n",
              "  [theme=dark] .colab-df-quickchart {\n",
              "      --bg-color: #3B4455;\n",
              "      --fill-color: #D2E3FC;\n",
              "      --hover-bg-color: #434B5C;\n",
              "      --hover-fill-color: #FFFFFF;\n",
              "      --disabled-bg-color: #3B4455;\n",
              "      --disabled-fill-color: #666;\n",
              "  }\n",
              "\n",
              "  .colab-df-quickchart {\n",
              "    background-color: var(--bg-color);\n",
              "    border: none;\n",
              "    border-radius: 50%;\n",
              "    cursor: pointer;\n",
              "    display: none;\n",
              "    fill: var(--fill-color);\n",
              "    height: 32px;\n",
              "    padding: 0;\n",
              "    width: 32px;\n",
              "  }\n",
              "\n",
              "  .colab-df-quickchart:hover {\n",
              "    background-color: var(--hover-bg-color);\n",
              "    box-shadow: 0 1px 2px rgba(60, 64, 67, 0.3), 0 1px 3px 1px rgba(60, 64, 67, 0.15);\n",
              "    fill: var(--button-hover-fill-color);\n",
              "  }\n",
              "\n",
              "  .colab-df-quickchart-complete:disabled,\n",
              "  .colab-df-quickchart-complete:disabled:hover {\n",
              "    background-color: var(--disabled-bg-color);\n",
              "    fill: var(--disabled-fill-color);\n",
              "    box-shadow: none;\n",
              "  }\n",
              "\n",
              "  .colab-df-spinner {\n",
              "    border: 2px solid var(--fill-color);\n",
              "    border-color: transparent;\n",
              "    border-bottom-color: var(--fill-color);\n",
              "    animation:\n",
              "      spin 1s steps(1) infinite;\n",
              "  }\n",
              "\n",
              "  @keyframes spin {\n",
              "    0% {\n",
              "      border-color: transparent;\n",
              "      border-bottom-color: var(--fill-color);\n",
              "      border-left-color: var(--fill-color);\n",
              "    }\n",
              "    20% {\n",
              "      border-color: transparent;\n",
              "      border-left-color: var(--fill-color);\n",
              "      border-top-color: var(--fill-color);\n",
              "    }\n",
              "    30% {\n",
              "      border-color: transparent;\n",
              "      border-left-color: var(--fill-color);\n",
              "      border-top-color: var(--fill-color);\n",
              "      border-right-color: var(--fill-color);\n",
              "    }\n",
              "    40% {\n",
              "      border-color: transparent;\n",
              "      border-right-color: var(--fill-color);\n",
              "      border-top-color: var(--fill-color);\n",
              "    }\n",
              "    60% {\n",
              "      border-color: transparent;\n",
              "      border-right-color: var(--fill-color);\n",
              "    }\n",
              "    80% {\n",
              "      border-color: transparent;\n",
              "      border-right-color: var(--fill-color);\n",
              "      border-bottom-color: var(--fill-color);\n",
              "    }\n",
              "    90% {\n",
              "      border-color: transparent;\n",
              "      border-bottom-color: var(--fill-color);\n",
              "    }\n",
              "  }\n",
              "</style>\n",
              "\n",
              "  <script>\n",
              "    async function quickchart(key) {\n",
              "      const quickchartButtonEl =\n",
              "        document.querySelector('#' + key + ' button');\n",
              "      quickchartButtonEl.disabled = true;  // To prevent multiple clicks.\n",
              "      quickchartButtonEl.classList.add('colab-df-spinner');\n",
              "      try {\n",
              "        const charts = await google.colab.kernel.invokeFunction(\n",
              "            'suggestCharts', [key], {});\n",
              "      } catch (error) {\n",
              "        console.error('Error during call to suggestCharts:', error);\n",
              "      }\n",
              "      quickchartButtonEl.classList.remove('colab-df-spinner');\n",
              "      quickchartButtonEl.classList.add('colab-df-quickchart-complete');\n",
              "    }\n",
              "    (() => {\n",
              "      let quickchartButtonEl =\n",
              "        document.querySelector('#df-68f59c90-3410-4b7d-882c-1428ad6bef05 button');\n",
              "      quickchartButtonEl.style.display =\n",
              "        google.colab.kernel.accessAllowed ? 'block' : 'none';\n",
              "    })();\n",
              "  </script>\n",
              "</div>\n",
              "\n",
              "    </div>\n",
              "  </div>\n"
            ],
            "application/vnd.google.colaboratory.intrinsic+json": {
              "type": "dataframe",
              "variable_name": "df"
            }
          },
          "metadata": {},
          "execution_count": 12
        }
      ],
      "source": [
        "import pandas as pd\n",
        "\n",
        "url_dataset = \"https://raw.githubusercontent.com/evassev/ET5003_SEM1_2022/main/Etivities/data/trade_combined.csv\"\n",
        "df = pd.read_csv(url_dataset)\n",
        "\n",
        "df.head(10)"
      ]
    },
    {
      "cell_type": "markdown",
      "id": "87383a67",
      "metadata": {
        "id": "87383a67"
      },
      "source": [
        "## Target: In this task you are asked to predict the  <span style=\"color:red\">Bond Price</span>."
      ]
    },
    {
      "cell_type": "markdown",
      "id": "00c2e2b6",
      "metadata": {
        "id": "00c2e2b6"
      },
      "source": [
        "## Note: In the following steps use the dataframe object <span style=\"color:red\">df</span>.  "
      ]
    },
    {
      "cell_type": "markdown",
      "id": "b7ede5a8",
      "metadata": {
        "id": "b7ede5a8"
      },
      "source": [
        "## Here are the steps you need to follow:"
      ]
    },
    {
      "cell_type": "markdown",
      "id": "9c4daace",
      "metadata": {
        "id": "9c4daace"
      },
      "source": [
        "## Step 1: Determine the ML Model: Supervised-Classification, Supervised-Regression, or Unsupervised ML Model.  (5%)"
      ]
    },
    {
      "cell_type": "markdown",
      "id": "008535e9",
      "metadata": {
        "id": "008535e9"
      },
      "source": [
        "<span style=\"color:red\">TODO: your rationale goes here</span>"
      ]
    },
    {
      "cell_type": "markdown",
      "source": [
        "The task is to predict the Bond Price, which is a continuous numerical value, this is a Supervised Regression problem. In supervised learning, we use labeled data to train the model — and in this case, the label is the bond price. Regression models are specifically designed to predict continuous outcomes, as opposed to classification models which predict categories or unsupervised models which find structure in unlabeled data."
      ],
      "metadata": {
        "id": "cthenZf99Tcu"
      },
      "id": "cthenZf99Tcu"
    },
    {
      "cell_type": "markdown",
      "id": "3065b01f",
      "metadata": {
        "id": "3065b01f"
      },
      "source": [
        "## Step 2: Data Preprocessing.  (35%)"
      ]
    },
    {
      "cell_type": "markdown",
      "id": "754a7f0b",
      "metadata": {
        "id": "754a7f0b"
      },
      "source": [
        "### Step 2.1: Specifics of the dataset.  (5%)\n",
        "<span style=\"color:red\">\n",
        "    TODO: Show the specifics of the dataset in terms of:\n",
        "    <ul>\n",
        "    <li>shape</li>\n",
        "    <li>columns (features)</li>\n",
        "    <li>data types</li>\n",
        "    <li>statistics for the 'Price' feature</li>\n",
        "    <li>plot the 'Price' feature</li>\n",
        "    </ul>    \n",
        "</span>"
      ]
    },
    {
      "cell_type": "code",
      "source": [
        "import matplotlib.pyplot as plt\n",
        "\n",
        "print(\"Shape:\", df.shape)\n",
        "print(\"\\nColumns:\\n\", df.columns.tolist())\n",
        "print(\"\\nData Types:\\n\", df.dtypes)\n",
        "print(\"\\n'Price' Feature Stats:\\n\", df[\"Price\"].describe())\n",
        "\n",
        "# Plotting the 'Price' distribution\n",
        "df[\"Price\"].hist(bins=50)\n",
        "plt.title(\"Bond Price Distribution\")\n",
        "plt.xlabel(\"Price\")\n",
        "plt.ylabel(\"Frequency\")\n",
        "plt.show()\n"
      ],
      "metadata": {
        "colab": {
          "base_uri": "https://localhost:8080/",
          "height": 1000
        },
        "id": "2bMeJ6MT3g-H",
        "outputId": "6faf6e3c-f469-4904-d5c1-24e821de4bd7"
      },
      "id": "2bMeJ6MT3g-H",
      "execution_count": 14,
      "outputs": [
        {
          "output_type": "stream",
          "name": "stdout",
          "text": [
            "Shape: (20000, 27)\n",
            "\n",
            "Columns:\n",
            " ['NoRelatedSym', 'Symbol', 'SymbolSfx', 'SecurityID', 'SecurityIDSource', 'SecurityType', 'MaturityDate', 'IssueDate', 'Side', 'OrderQty', 'SettlDate', 'Currency', 'OrdType', 'TransactTime', 'Price', 'PriceType', 'Yield', 'NoPartIDs', 'PartyID', 'DealerID', 'DealerTraderID', 'CustomerTraderID', 'CustomerID', 'PartyIDSource', 'PartyRole', 'DealerCount', 'OrdSubType']\n",
            "\n",
            "Data Types:\n",
            " NoRelatedSym          int64\n",
            "Symbol               object\n",
            "SymbolSfx            object\n",
            "SecurityID          float64\n",
            "SecurityIDSource      int64\n",
            "SecurityType         object\n",
            "MaturityDate         object\n",
            "IssueDate            object\n",
            "Side                 object\n",
            "OrderQty              int64\n",
            "SettlDate            object\n",
            "Currency             object\n",
            "OrdType               int64\n",
            "TransactTime         object\n",
            "Price               float64\n",
            "PriceType             int64\n",
            "Yield               float64\n",
            "NoPartIDs             int64\n",
            "PartyID               int64\n",
            "DealerID              int64\n",
            "DealerTraderID      float64\n",
            "CustomerTraderID      int64\n",
            "CustomerID            int64\n",
            "PartyIDSource        object\n",
            "PartyRole             int64\n",
            "DealerCount           int64\n",
            "OrdSubType           object\n",
            "dtype: object\n",
            "\n",
            "'Price' Feature Stats:\n",
            " count    18692.000000\n",
            "mean       107.535666\n",
            "std         14.445474\n",
            "min          0.000000\n",
            "25%         99.749750\n",
            "50%        103.324500\n",
            "75%        110.360500\n",
            "max        174.278000\n",
            "Name: Price, dtype: float64\n"
          ]
        },
        {
          "output_type": "display_data",
          "data": {
            "text/plain": [
              "<Figure size 640x480 with 1 Axes>"
            ],
            "image/png": "[encoded data removed]"
          },
          "metadata": {}
        }
      ]
    },
    {
      "cell_type": "markdown",
      "id": "9456830b",
      "metadata": {
        "id": "9456830b"
      },
      "source": [
        "### Step 2.2: Data Cleaning: Remove features with unique values for each row in the dataset. (5%)\n",
        "<span style=\"color:red\">\n",
        "    TODO:\n",
        "    <ul>\n",
        "    <li>Show the features with unique values for each row in the dataset.</li>\n",
        "    <li>Remove the features with unique values for each row in the dataset.</li>\n",
        "    </ul>    \n",
        "</span>"
      ]
    },
    {
      "cell_type": "code",
      "source": [
        "# Show features with all unique values\n",
        "unique_row_features = [col for col in df.columns if df[col].nunique() == len(df)]\n",
        "print(\"Unique-per-row features:\", unique_row_features)\n",
        "\n",
        "# Drop\n",
        "df = df.drop(columns=unique_row_features)\n"
      ],
      "metadata": {
        "colab": {
          "base_uri": "https://localhost:8080/"
        },
        "id": "iRy7ZmNX3yNT",
        "outputId": "45a055ef-0020-4660-f96e-8f17c9db96b7"
      },
      "id": "iRy7ZmNX3yNT",
      "execution_count": 15,
      "outputs": [
        {
          "output_type": "stream",
          "name": "stdout",
          "text": [
            "Unique-per-row features: []\n"
          ]
        }
      ]
    },
    {
      "cell_type": "markdown",
      "id": "f92bcb93",
      "metadata": {
        "id": "f92bcb93"
      },
      "source": [
        "### Step 2.3: Data Cleaning: Remove features with one unique value for the entire dataset. (5%)\n",
        "<span style=\"color:red\">\n",
        "    TODO:\n",
        "    <ul>\n",
        "    <li>Show the features with one unique value for the entire dataset.</li>\n",
        "    <li>Remove the features with one unique value for the entire dataset.</li>\n",
        "    </ul>    \n",
        "</span>"
      ]
    },
    {
      "cell_type": "code",
      "source": [
        "# Show features with only one unique value across all rows\n",
        "constant_features = [col for col in df.columns if df[col].nunique() == 1]\n",
        "print(\"One-value features:\", constant_features)\n",
        "\n",
        "# Drop\n",
        "df = df.drop(columns=constant_features)\n"
      ],
      "metadata": {
        "colab": {
          "base_uri": "https://localhost:8080/"
        },
        "id": "17CZGfZF6_j7",
        "outputId": "c6130ea2-82fe-485a-982a-951b5aed3e9a"
      },
      "id": "17CZGfZF6_j7",
      "execution_count": 16,
      "outputs": [
        {
          "output_type": "stream",
          "name": "stdout",
          "text": [
            "One-value features: ['NoRelatedSym', 'SymbolSfx', 'SecurityIDSource', 'Currency', 'OrdType', 'PriceType', 'NoPartIDs', 'PartyID', 'PartyIDSource', 'PartyRole', 'OrdSubType']\n"
          ]
        }
      ]
    },
    {
      "cell_type": "markdown",
      "id": "a27777b8",
      "metadata": {
        "id": "a27777b8"
      },
      "source": [
        "### Step 2.4: Data Cleaning: Remove records with null (NAN) values. (5%)\n",
        "<span style=\"color:red\">\n",
        "    TODO:\n",
        "    <ul>\n",
        "    <li>Show the number of null values per feature.</li>\n",
        "    <li>For any feature, remove the rows containg a null value.</li>\n",
        "    </ul>    \n",
        "</span>"
      ]
    },
    {
      "cell_type": "code",
      "source": [
        "# Show missing values per column\n",
        "print(\"Missing values:\\n\", df.isnull().sum())\n",
        "\n",
        "# Drop rows with any nulls\n",
        "df = df.dropna()\n",
        "print(\"New shape after dropping nulls:\", df.shape)\n"
      ],
      "metadata": {
        "colab": {
          "base_uri": "https://localhost:8080/"
        },
        "id": "XHuFe1wp7Et-",
        "outputId": "0fa1f986-c7a6-4632-dbbf-331a046071ee"
      },
      "id": "XHuFe1wp7Et-",
      "execution_count": 17,
      "outputs": [
        {
          "output_type": "stream",
          "name": "stdout",
          "text": [
            "Missing values:\n",
            " Symbol                  0\n",
            "SecurityID          13959\n",
            "SecurityType            0\n",
            "MaturityDate            0\n",
            "IssueDate               0\n",
            "Side                    0\n",
            "OrderQty                0\n",
            "SettlDate               0\n",
            "TransactTime            0\n",
            "Price                1308\n",
            "Yield                1297\n",
            "DealerID                0\n",
            "DealerTraderID       1055\n",
            "CustomerTraderID        0\n",
            "CustomerID              0\n",
            "DealerCount             0\n",
            "dtype: int64\n",
            "New shape after dropping nulls: (5685, 16)\n"
          ]
        }
      ]
    },
    {
      "cell_type": "markdown",
      "id": "991a885a",
      "metadata": {
        "id": "991a885a"
      },
      "source": [
        "### Step 2.5: Data Transformation: Convert all non-numeric features to numeric. (15%)\n",
        "<span style=\"color:red\">\n",
        "    TODO:\n",
        "    <ul>\n",
        "    <li>Show all non-numeric features.</li>\n",
        "    <li>Convert the non-numeric features to numeric.</li>\n",
        "    </ul>    \n",
        "</span>"
      ]
    },
    {
      "cell_type": "code",
      "source": [
        "# Show non-numeric features\n",
        "non_numeric_features = df.select_dtypes(include=['object']).columns.tolist()\n",
        "print(\"Non-numeric features:\", non_numeric_features)\n",
        "\n",
        "# Convert to numeric using one-hot encoding\n",
        "df = pd.get_dummies(df, columns=non_numeric_features)\n"
      ],
      "metadata": {
        "colab": {
          "base_uri": "https://localhost:8080/"
        },
        "id": "woFZV9JW7Jqi",
        "outputId": "7cef4074-643c-4523-fba2-92c3e06f2f15"
      },
      "id": "woFZV9JW7Jqi",
      "execution_count": 18,
      "outputs": [
        {
          "output_type": "stream",
          "name": "stdout",
          "text": [
            "Non-numeric features: ['Symbol', 'SecurityType', 'MaturityDate', 'IssueDate', 'Side', 'SettlDate', 'TransactTime']\n"
          ]
        }
      ]
    },
    {
      "cell_type": "markdown",
      "id": "e0a1c418",
      "metadata": {
        "id": "e0a1c418"
      },
      "source": [
        "## Step 3: Model Training and Testing.  (10%)"
      ]
    },
    {
      "cell_type": "code",
      "execution_count": 19,
      "id": "8a146d81",
      "metadata": {
        "colab": {
          "base_uri": "https://localhost:8080/"
        },
        "id": "8a146d81",
        "outputId": "6c8ef543-ca22-4f83-c5a6-0e5c34b4e4ad"
      },
      "outputs": [
        {
          "output_type": "execute_result",
          "data": {
            "text/plain": [
              "(5685, 2548)"
            ]
          },
          "metadata": {},
          "execution_count": 19
        }
      ],
      "source": [
        "df.shape"
      ]
    },
    {
      "cell_type": "code",
      "execution_count": 20,
      "id": "5841e331",
      "metadata": {
        "colab": {
          "base_uri": "https://localhost:8080/",
          "height": 412
        },
        "id": "5841e331",
        "outputId": "4a754153-bb6e-46c3-9f85-f187ecdffc90"
      },
      "outputs": [
        {
          "output_type": "execute_result",
          "data": {
            "text/plain": [
              "      SecurityID  OrderQty    Price  Yield  DealerID  DealerTraderID  \\\n",
              "6204   1657312.0   1000000  111.140  2.243       334        113683.0   \n",
              "6205   1657312.0   1000000  111.220  2.240       335        114347.0   \n",
              "6206   1657313.0   5000000   99.760  1.881       323        118599.0   \n",
              "6207   1657317.0   1250000  111.198  2.241       321          7177.0   \n",
              "6208   1657317.0   1250000  111.130  2.244       327          7687.0   \n",
              "6209   1657317.0   1250000  111.190  2.241       334        113683.0   \n",
              "6210   1657317.0   1250000  111.300  2.236       337          5168.0   \n",
              "6211   1657324.0   1250000  111.180  2.241       321          7177.0   \n",
              "6212   1657324.0   1250000  111.130  2.244       327          7687.0   \n",
              "6213   1657324.0   1250000  111.150  2.243       334        113683.0   \n",
              "\n",
              "      CustomerTraderID  CustomerID  DealerCount  Symbol_013051CZ8  ...  \\\n",
              "6204             11570         454            4             False  ...   \n",
              "6205             11570         454            4             False  ...   \n",
              "6206              6753         204            1             False  ...   \n",
              "6207              6687         178            4             False  ...   \n",
              "6208              6687         178            4             False  ...   \n",
              "6209              6687         178            4             False  ...   \n",
              "6210              6687         178            4             False  ...   \n",
              "6211              6687         178            4             False  ...   \n",
              "6212              6687         178            4             False  ...   \n",
              "6213              6687         178            4             False  ...   \n",
              "\n",
              "      TransactTime_21:48:21  TransactTime_21:48:41  TransactTime_21:50:04  \\\n",
              "6204                  False                  False                  False   \n",
              "6205                  False                  False                  False   \n",
              "6206                  False                  False                  False   \n",
              "6207                  False                  False                  False   \n",
              "6208                  False                  False                  False   \n",
              "6209                  False                  False                  False   \n",
              "6210                  False                  False                  False   \n",
              "6211                  False                  False                  False   \n",
              "6212                  False                  False                  False   \n",
              "6213                  False                  False                  False   \n",
              "\n",
              "      TransactTime_21:52:51  TransactTime_21:54:57  TransactTime_21:55:51  \\\n",
              "6204                  False                  False                  False   \n",
              "6205                  False                  False                  False   \n",
              "6206                  False                  False                  False   \n",
              "6207                  False                  False                  False   \n",
              "6208                  False                  False                  False   \n",
              "6209                  False                  False                  False   \n",
              "6210                  False                  False                  False   \n",
              "6211                  False                  False                  False   \n",
              "6212                  False                  False                  False   \n",
              "6213                  False                  False                  False   \n",
              "\n",
              "      TransactTime_21:56:30  TransactTime_21:57:33  TransactTime_21:57:36  \\\n",
              "6204                  False                  False                  False   \n",
              "6205                  False                  False                  False   \n",
              "6206                  False                  False                  False   \n",
              "6207                  False                  False                  False   \n",
              "6208                  False                  False                  False   \n",
              "6209                  False                  False                  False   \n",
              "6210                  False                  False                  False   \n",
              "6211                  False                  False                  False   \n",
              "6212                  False                  False                  False   \n",
              "6213                  False                  False                  False   \n",
              "\n",
              "      TransactTime_21:57:41  \n",
              "6204                  False  \n",
              "6205                  False  \n",
              "6206                  False  \n",
              "6207                  False  \n",
              "6208                  False  \n",
              "6209                  False  \n",
              "6210                  False  \n",
              "6211                  False  \n",
              "6212                  False  \n",
              "6213                  False  \n",
              "\n",
              "[10 rows x 2548 columns]"
            ],
            "text/html": [
              "\n",
              "  <div id=\"df-fad08785-f7a5-47f6-8fd2-91899ead41d8\" class=\"colab-df-container\">\n",
              "    <div>\n",
              "<style scoped>\n",
              "    .dataframe tbody tr th:only-of-type {\n",
              "        vertical-align: middle;\n",
              "    }\n",
              "\n",
              "    .dataframe tbody tr th {\n",
              "        vertical-align: top;\n",
              "    }\n",
              "\n",
              "    .dataframe thead th {\n",
              "        text-align: right;\n",
              "    }\n",
              "</style>\n",
              "<table border=\"1\" class=\"dataframe\">\n",
              "  <thead>\n",
              "    <tr style=\"text-align: right;\">\n",
              "      <th></th>\n",
              "      <th>SecurityID</th>\n",
              "      <th>OrderQty</th>\n",
              "      <th>Price</th>\n",
              "      <th>Yield</th>\n",
              "      <th>DealerID</th>\n",
              "      <th>DealerTraderID</th>\n",
              "      <th>CustomerTraderID</th>\n",
              "      <th>CustomerID</th>\n",
              "      <th>DealerCount</th>\n",
              "      <th>Symbol_013051CZ8</th>\n",
              "      <th>...</th>\n",
              "      <th>TransactTime_21:48:21</th>\n",
              "      <th>TransactTime_21:48:41</th>\n",
              "      <th>TransactTime_21:50:04</th>\n",
              "      <th>TransactTime_21:52:51</th>\n",
              "      <th>TransactTime_21:54:57</th>\n",
              "      <th>TransactTime_21:55:51</th>\n",
              "      <th>TransactTime_21:56:30</th>\n",
              "      <th>TransactTime_21:57:33</th>\n",
              "      <th>TransactTime_21:57:36</th>\n",
              "      <th>TransactTime_21:57:41</th>\n",
              "    </tr>\n",
              "  </thead>\n",
              "  <tbody>\n",
              "    <tr>\n",
              "      <th>6204</th>\n",
              "      <td>1657312.0</td>\n",
              "      <td>1000000</td>\n",
              "      <td>111.140</td>\n",
              "      <td>2.243</td>\n",
              "      <td>334</td>\n",
              "      <td>113683.0</td>\n",
              "      <td>11570</td>\n",
              "      <td>454</td>\n",
              "      <td>4</td>\n",
              "      <td>False</td>\n",
              "      <td>...</td>\n",
              "      <td>False</td>\n",
              "      <td>False</td>\n",
              "      <td>False</td>\n",
              "      <td>False</td>\n",
              "      <td>False</td>\n",
              "      <td>False</td>\n",
              "      <td>False</td>\n",
              "      <td>False</td>\n",
              "      <td>False</td>\n",
              "      <td>False</td>\n",
              "    </tr>\n",
              "    <tr>\n",
              "      <th>6205</th>\n",
              "      <td>1657312.0</td>\n",
              "      <td>1000000</td>\n",
              "      <td>111.220</td>\n",
              "      <td>2.240</td>\n",
              "      <td>335</td>\n",
              "      <td>114347.0</td>\n",
              "      <td>11570</td>\n",
              "      <td>454</td>\n",
              "      <td>4</td>\n",
              "      <td>False</td>\n",
              "      <td>...</td>\n",
              "      <td>False</td>\n",
              "      <td>False</td>\n",
              "      <td>False</td>\n",
              "      <td>False</td>\n",
              "      <td>False</td>\n",
              "      <td>False</td>\n",
              "      <td>False</td>\n",
              "      <td>False</td>\n",
              "      <td>False</td>\n",
              "      <td>False</td>\n",
              "    </tr>\n",
              "    <tr>\n",
              "      <th>6206</th>\n",
              "      <td>1657313.0</td>\n",
              "      <td>5000000</td>\n",
              "      <td>99.760</td>\n",
              "      <td>1.881</td>\n",
              "      <td>323</td>\n",
              "      <td>118599.0</td>\n",
              "      <td>6753</td>\n",
              "      <td>204</td>\n",
              "      <td>1</td>\n",
              "      <td>False</td>\n",
              "      <td>...</td>\n",
              "      <td>False</td>\n",
              "      <td>False</td>\n",
              "      <td>False</td>\n",
              "      <td>False</td>\n",
              "      <td>False</td>\n",
              "      <td>False</td>\n",
              "      <td>False</td>\n",
              "      <td>False</td>\n",
              "      <td>False</td>\n",
              "      <td>False</td>\n",
              "    </tr>\n",
              "    <tr>\n",
              "      <th>6207</th>\n",
              "      <td>1657317.0</td>\n",
              "      <td>1250000</td>\n",
              "      <td>111.198</td>\n",
              "      <td>2.241</td>\n",
              "      <td>321</td>\n",
              "      <td>7177.0</td>\n",
              "      <td>6687</td>\n",
              "      <td>178</td>\n",
              "      <td>4</td>\n",
              "      <td>False</td>\n",
              "      <td>...</td>\n",
              "      <td>False</td>\n",
              "      <td>False</td>\n",
              "      <td>False</td>\n",
              "      <td>False</td>\n",
              "      <td>False</td>\n",
              "      <td>False</td>\n",
              "      <td>False</td>\n",
              "      <td>False</td>\n",
              "      <td>False</td>\n",
              "      <td>False</td>\n",
              "    </tr>\n",
              "    <tr>\n",
              "      <th>6208</th>\n",
              "      <td>1657317.0</td>\n",
              "      <td>1250000</td>\n",
              "      <td>111.130</td>\n",
              "      <td>2.244</td>\n",
              "      <td>327</td>\n",
              "      <td>7687.0</td>\n",
              "      <td>6687</td>\n",
              "      <td>178</td>\n",
              "      <td>4</td>\n",
              "      <td>False</td>\n",
              "      <td>...</td>\n",
              "      <td>False</td>\n",
              "      <td>False</td>\n",
              "      <td>False</td>\n",
              "      <td>False</td>\n",
              "      <td>False</td>\n",
              "      <td>False</td>\n",
              "      <td>False</td>\n",
              "      <td>False</td>\n",
              "      <td>False</td>\n",
              "      <td>False</td>\n",
              "    </tr>\n",
              "    <tr>\n",
              "      <th>6209</th>\n",
              "      <td>1657317.0</td>\n",
              "      <td>1250000</td>\n",
              "      <td>111.190</td>\n",
              "      <td>2.241</td>\n",
              "      <td>334</td>\n",
              "      <td>113683.0</td>\n",
              "      <td>6687</td>\n",
              "      <td>178</td>\n",
              "      <td>4</td>\n",
              "      <td>False</td>\n",
              "      <td>...</td>\n",
              "      <td>False</td>\n",
              "      <td>False</td>\n",
              "      <td>False</td>\n",
              "      <td>False</td>\n",
              "      <td>False</td>\n",
              "      <td>False</td>\n",
              "      <td>False</td>\n",
              "      <td>False</td>\n",
              "      <td>False</td>\n",
              "      <td>False</td>\n",
              "    </tr>\n",
              "    <tr>\n",
              "      <th>6210</th>\n",
              "      <td>1657317.0</td>\n",
              "      <td>1250000</td>\n",
              "      <td>111.300</td>\n",
              "      <td>2.236</td>\n",
              "      <td>337</td>\n",
              "      <td>5168.0</td>\n",
              "      <td>6687</td>\n",
              "      <td>178</td>\n",
              "      <td>4</td>\n",
              "      <td>False</td>\n",
              "      <td>...</td>\n",
              "      <td>False</td>\n",
              "      <td>False</td>\n",
              "      <td>False</td>\n",
              "      <td>False</td>\n",
              "      <td>False</td>\n",
              "      <td>False</td>\n",
              "      <td>False</td>\n",
              "      <td>False</td>\n",
              "      <td>False</td>\n",
              "      <td>False</td>\n",
              "    </tr>\n",
              "    <tr>\n",
              "      <th>6211</th>\n",
              "      <td>1657324.0</td>\n",
              "      <td>1250000</td>\n",
              "      <td>111.180</td>\n",
              "      <td>2.241</td>\n",
              "      <td>321</td>\n",
              "      <td>7177.0</td>\n",
              "      <td>6687</td>\n",
              "      <td>178</td>\n",
              "      <td>4</td>\n",
              "      <td>False</td>\n",
              "      <td>...</td>\n",
              "      <td>False</td>\n",
              "      <td>False</td>\n",
              "      <td>False</td>\n",
              "      <td>False</td>\n",
              "      <td>False</td>\n",
              "      <td>False</td>\n",
              "      <td>False</td>\n",
              "      <td>False</td>\n",
              "      <td>False</td>\n",
              "      <td>False</td>\n",
              "    </tr>\n",
              "    <tr>\n",
              "      <th>6212</th>\n",
              "      <td>1657324.0</td>\n",
              "      <td>1250000</td>\n",
              "      <td>111.130</td>\n",
              "      <td>2.244</td>\n",
              "      <td>327</td>\n",
              "      <td>7687.0</td>\n",
              "      <td>6687</td>\n",
              "      <td>178</td>\n",
              "      <td>4</td>\n",
              "      <td>False</td>\n",
              "      <td>...</td>\n",
              "      <td>False</td>\n",
              "      <td>False</td>\n",
              "      <td>False</td>\n",
              "      <td>False</td>\n",
              "      <td>False</td>\n",
              "      <td>False</td>\n",
              "      <td>False</td>\n",
              "      <td>False</td>\n",
              "      <td>False</td>\n",
              "      <td>False</td>\n",
              "    </tr>\n",
              "    <tr>\n",
              "      <th>6213</th>\n",
              "      <td>1657324.0</td>\n",
              "      <td>1250000</td>\n",
              "      <td>111.150</td>\n",
              "      <td>2.243</td>\n",
              "      <td>334</td>\n",
              "      <td>113683.0</td>\n",
              "      <td>6687</td>\n",
              "      <td>178</td>\n",
              "      <td>4</td>\n",
              "      <td>False</td>\n",
              "      <td>...</td>\n",
              "      <td>False</td>\n",
              "      <td>False</td>\n",
              "      <td>False</td>\n",
              "      <td>False</td>\n",
              "      <td>False</td>\n",
              "      <td>False</td>\n",
              "      <td>False</td>\n",
              "      <td>False</td>\n",
              "      <td>False</td>\n",
              "      <td>False</td>\n",
              "    </tr>\n",
              "  </tbody>\n",
              "</table>\n",
              "<p>10 rows × 2548 columns</p>\n",
              "</div>\n",
              "    <div class=\"colab-df-buttons\">\n",
              "\n",
              "  <div class=\"colab-df-container\">\n",
              "    <button class=\"colab-df-convert\" onclick=\"convertToInteractive('df-fad08785-f7a5-47f6-8fd2-91899ead41d8')\"\n",
              "            title=\"Convert this dataframe to an interactive table.\"\n",
              "            style=\"display:none;\">\n",
              "\n",
              "  <svg xmlns=\"http://www.w3.org/2000/svg\" height=\"24px\" viewBox=\"0 -960 960 960\">\n",
              "    <path d=\"M120-120v-720h720v720H120Zm60-500h600v-160H180v160Zm220 220h160v-160H400v160Zm0 220h160v-160H400v160ZM180-400h160v-160H180v160Zm440 0h160v-160H620v160ZM180-180h160v-160H180v160Zm440 0h160v-160H620v160Z\"/>\n",
              "  </svg>\n",
              "    </button>\n",
              "\n",
              "  <style>\n",
              "    .colab-df-container {\n",
              "      display:flex;\n",
              "      gap: 12px;\n",
              "    }\n",
              "\n",
              "    .colab-df-convert {\n",
              "      background-color: #E8F0FE;\n",
              "      border: none;\n",
              "      border-radius: 50%;\n",
              "      cursor: pointer;\n",
              "      display: none;\n",
              "      fill: #1967D2;\n",
              "      height: 32px;\n",
              "      padding: 0 0 0 0;\n",
              "      width: 32px;\n",
              "    }\n",
              "\n",
              "    .colab-df-convert:hover {\n",
              "      background-color: #E2EBFA;\n",
              "      box-shadow: 0px 1px 2px rgba(60, 64, 67, 0.3), 0px 1px 3px 1px rgba(60, 64, 67, 0.15);\n",
              "      fill: #174EA6;\n",
              "    }\n",
              "\n",
              "    .colab-df-buttons div {\n",
              "      margin-bottom: 4px;\n",
              "    }\n",
              "\n",
              "    [theme=dark] .colab-df-convert {\n",
              "      background-color: #3B4455;\n",
              "      fill: #D2E3FC;\n",
              "    }\n",
              "\n",
              "    [theme=dark] .colab-df-convert:hover {\n",
              "      background-color: #434B5C;\n",
              "      box-shadow: 0px 1px 3px 1px rgba(0, 0, 0, 0.15);\n",
              "      filter: drop-shadow(0px 1px 2px rgba(0, 0, 0, 0.3));\n",
              "      fill: #FFFFFF;\n",
              "    }\n",
              "  </style>\n",
              "\n",
              "    <script>\n",
              "      const buttonEl =\n",
              "        document.querySelector('#df-fad08785-f7a5-47f6-8fd2-91899ead41d8 button.colab-df-convert');\n",
              "      buttonEl.style.display =\n",
              "        google.colab.kernel.accessAllowed ? 'block' : 'none';\n",
              "\n",
              "      async function convertToInteractive(key) {\n",
              "        const element = document.querySelector('#df-fad08785-f7a5-47f6-8fd2-91899ead41d8');\n",
              "        const dataTable =\n",
              "          await google.colab.kernel.invokeFunction('convertToInteractive',\n",
              "                                                    [key], {});\n",
              "        if (!dataTable) return;\n",
              "\n",
              "        const docLinkHtml = 'Like what you see? Visit the ' +\n",
              "          '<a target=\"_blank\" href=https://colab.research.google.com/notebooks/data_table.ipynb>data table notebook</a>'\n",
              "          + ' to learn more about interactive tables.';\n",
              "        element.innerHTML = '';\n",
              "        dataTable['output_type'] = 'display_data';\n",
              "        await google.colab.output.renderOutput(dataTable, element);\n",
              "        const docLink = document.createElement('div');\n",
              "        docLink.innerHTML = docLinkHtml;\n",
              "        element.appendChild(docLink);\n",
              "      }\n",
              "    </script>\n",
              "  </div>\n",
              "\n",
              "\n",
              "<div id=\"df-851ee325-bf84-4d65-ad71-120a1da38982\">\n",
              "  <button class=\"colab-df-quickchart\" onclick=\"quickchart('df-851ee325-bf84-4d65-ad71-120a1da38982')\"\n",
              "            title=\"Suggest charts\"\n",
              "            style=\"display:none;\">\n",
              "\n",
              "<svg xmlns=\"http://www.w3.org/2000/svg\" height=\"24px\"viewBox=\"0 0 24 24\"\n",
              "     width=\"24px\">\n",
              "    <g>\n",
              "        <path d=\"M19 3H5c-1.1 0-2 .9-2 2v14c0 1.1.9 2 2 2h14c1.1 0 2-.9 2-2V5c0-1.1-.9-2-2-2zM9 17H7v-7h2v7zm4 0h-2V7h2v10zm4 0h-2v-4h2v4z\"/>\n",
              "    </g>\n",
              "</svg>\n",
              "  </button>\n",
              "\n",
              "<style>\n",
              "  .colab-df-quickchart {\n",
              "      --bg-color: #E8F0FE;\n",
              "      --fill-color: #1967D2;\n",
              "      --hover-bg-color: #E2EBFA;\n",
              "      --hover-fill-color: #174EA6;\n",
              "      --disabled-fill-color: #AAA;\n",
              "      --disabled-bg-color: #DDD;\n",
              "  }\n",
              "\n",
              "  [theme=dark] .colab-df-quickchart {\n",
              "      --bg-color: #3B4455;\n",
              "      --fill-color: #D2E3FC;\n",
              "      --hover-bg-color: #434B5C;\n",
              "      --hover-fill-color: #FFFFFF;\n",
              "      --disabled-bg-color: #3B4455;\n",
              "      --disabled-fill-color: #666;\n",
              "  }\n",
              "\n",
              "  .colab-df-quickchart {\n",
              "    background-color: var(--bg-color);\n",
              "    border: none;\n",
              "    border-radius: 50%;\n",
              "    cursor: pointer;\n",
              "    display: none;\n",
              "    fill: var(--fill-color);\n",
              "    height: 32px;\n",
              "    padding: 0;\n",
              "    width: 32px;\n",
              "  }\n",
              "\n",
              "  .colab-df-quickchart:hover {\n",
              "    background-color: var(--hover-bg-color);\n",
              "    box-shadow: 0 1px 2px rgba(60, 64, 67, 0.3), 0 1px 3px 1px rgba(60, 64, 67, 0.15);\n",
              "    fill: var(--button-hover-fill-color);\n",
              "  }\n",
              "\n",
              "  .colab-df-quickchart-complete:disabled,\n",
              "  .colab-df-quickchart-complete:disabled:hover {\n",
              "    background-color: var(--disabled-bg-color);\n",
              "    fill: var(--disabled-fill-color);\n",
              "    box-shadow: none;\n",
              "  }\n",
              "\n",
              "  .colab-df-spinner {\n",
              "    border: 2px solid var(--fill-color);\n",
              "    border-color: transparent;\n",
              "    border-bottom-color: var(--fill-color);\n",
              "    animation:\n",
              "      spin 1s steps(1) infinite;\n",
              "  }\n",
              "\n",
              "  @keyframes spin {\n",
              "    0% {\n",
              "      border-color: transparent;\n",
              "      border-bottom-color: var(--fill-color);\n",
              "      border-left-color: var(--fill-color);\n",
              "    }\n",
              "    20% {\n",
              "      border-color: transparent;\n",
              "      border-left-color: var(--fill-color);\n",
              "      border-top-color: var(--fill-color);\n",
              "    }\n",
              "    30% {\n",
              "      border-color: transparent;\n",
              "      border-left-color: var(--fill-color);\n",
              "      border-top-color: var(--fill-color);\n",
              "      border-right-color: var(--fill-color);\n",
              "    }\n",
              "    40% {\n",
              "      border-color: transparent;\n",
              "      border-right-color: var(--fill-color);\n",
              "      border-top-color: var(--fill-color);\n",
              "    }\n",
              "    60% {\n",
              "      border-color: transparent;\n",
              "      border-right-color: var(--fill-color);\n",
              "    }\n",
              "    80% {\n",
              "      border-color: transparent;\n",
              "      border-right-color: var(--fill-color);\n",
              "      border-bottom-color: var(--fill-color);\n",
              "    }\n",
              "    90% {\n",
              "      border-color: transparent;\n",
              "      border-bottom-color: var(--fill-color);\n",
              "    }\n",
              "  }\n",
              "</style>\n",
              "\n",
              "  <script>\n",
              "    async function quickchart(key) {\n",
              "      const quickchartButtonEl =\n",
              "        document.querySelector('#' + key + ' button');\n",
              "      quickchartButtonEl.disabled = true;  // To prevent multiple clicks.\n",
              "      quickchartButtonEl.classList.add('colab-df-spinner');\n",
              "      try {\n",
              "        const charts = await google.colab.kernel.invokeFunction(\n",
              "            'suggestCharts', [key], {});\n",
              "      } catch (error) {\n",
              "        console.error('Error during call to suggestCharts:', error);\n",
              "      }\n",
              "      quickchartButtonEl.classList.remove('colab-df-spinner');\n",
              "      quickchartButtonEl.classList.add('colab-df-quickchart-complete');\n",
              "    }\n",
              "    (() => {\n",
              "      let quickchartButtonEl =\n",
              "        document.querySelector('#df-851ee325-bf84-4d65-ad71-120a1da38982 button');\n",
              "      quickchartButtonEl.style.display =\n",
              "        google.colab.kernel.accessAllowed ? 'block' : 'none';\n",
              "    })();\n",
              "  </script>\n",
              "</div>\n",
              "\n",
              "    </div>\n",
              "  </div>\n"
            ],
            "application/vnd.google.colaboratory.intrinsic+json": {
              "type": "dataframe",
              "variable_name": "df"
            }
          },
          "metadata": {},
          "execution_count": 20
        }
      ],
      "source": [
        "df.head(10)"
      ]
    },
    {
      "cell_type": "markdown",
      "id": "1bdfd108",
      "metadata": {
        "id": "1bdfd108"
      },
      "source": [
        "### Step 3.1: Select and Import a ML Algorithm. (2%)\n",
        "<span style=\"color:red\">\n",
        "    TODO: Based on your rationale provided in Step 1, import one of the following algorithms:\n",
        "    <ul>\n",
        "    <li>for Supervised Classification ML use <b>'from sklearn.ensemble import RandomForestClassifier'</b></li>\n",
        "    <li>for Supervised Regression ML use <b>'from sklearn.ensemble import RandomForestRegressor'</b></li>\n",
        "    <li>for Unsupervised ML use <b>'from sklearn.cluster import KMeans'</b></li>\n",
        "    </ul>    \n",
        "</span>"
      ]
    },
    {
      "cell_type": "code",
      "execution_count": 21,
      "id": "f9b993cd",
      "metadata": {
        "id": "f9b993cd"
      },
      "outputs": [],
      "source": [
        "# For regression tasks, I use RandomForestRegressor\n",
        "from sklearn.ensemble import RandomForestRegressor\n",
        "from sklearn.model_selection import train_test_split\n"
      ]
    },
    {
      "cell_type": "markdown",
      "id": "64ae4203",
      "metadata": {
        "id": "64ae4203"
      },
      "source": [
        "### Step 3.2: Train the ML Model. (5%)\n",
        "<span style=\"color:red\">\n",
        "    TODO:\n",
        "    <ul>\n",
        "    <li>from the preprocessed dataset, extract 𝑋 - a dataset of all the features but 'Price'</li>\n",
        "    <li>from the preprocessed dataset, extract 𝑌  - vector that contains all the values of 'Price'</li>\n",
        "    <li>slice the dataset: 80% for training and 20% for testing</li>\n",
        "    <li>create an instance of the selected ML algorithm and train</li>\n",
        "    </ul>    \n",
        "</span>"
      ]
    },
    {
      "cell_type": "code",
      "source": [
        "from sklearn import metrics\n",
        "X = df.drop(columns=['Price'])\n",
        "y = df['Price']\n",
        "\n",
        "# Split into training and testing\n",
        "X_train, X_test, y_train, y_test = train_test_split(X, y, test_size=0.2, random_state=42)\n",
        "\n",
        "# Train the model\n",
        "model = RandomForestRegressor()\n",
        "model.fit(X_train, y_train)\n",
        "\n",
        "print(\"Model trained successfully.\")\n"
      ],
      "metadata": {
        "colab": {
          "base_uri": "https://localhost:8080/"
        },
        "id": "ss4Hsa7D7Xdv",
        "outputId": "a0c5a0e4-c8e2-46c3-8735-9bc417262dd2"
      },
      "id": "ss4Hsa7D7Xdv",
      "execution_count": 22,
      "outputs": [
        {
          "output_type": "stream",
          "name": "stdout",
          "text": [
            "Model trained successfully.\n"
          ]
        }
      ]
    },
    {
      "cell_type": "code",
      "execution_count": 22,
      "id": "78e49d17",
      "metadata": {
        "id": "78e49d17"
      },
      "outputs": [],
      "source": []
    },
    {
      "cell_type": "markdown",
      "id": "65c6381e",
      "metadata": {
        "id": "65c6381e"
      },
      "source": [
        "### Step 3.3: Test the ML Model. (3%)\n",
        "<span style=\"color:red\">\n",
        "    TODO:\n",
        "    <ul>\n",
        "    <li>use the testing part of the dataset to predic the Bond Prices</li>\n",
        "    <li>compute and show the prediction score</li>\n",
        "    </ul>    \n",
        "</span>"
      ]
    },
    {
      "cell_type": "code",
      "execution_count": 23,
      "id": "da92725b",
      "metadata": {
        "colab": {
          "base_uri": "https://localhost:8080/"
        },
        "id": "da92725b",
        "outputId": "a2d85dbe-e31f-4106-b7de-bce6f4452d39"
      },
      "outputs": [
        {
          "output_type": "stream",
          "name": "stdout",
          "text": [
            "R^2 Score: 0.9701334173096842\n",
            "MAE: 0.8578230958663202\n",
            "MSE: 6.619246941485486\n",
            "RMSE: 2.572789719640042\n"
          ]
        }
      ],
      "source": [
        "import numpy as np\n",
        "# Make predictions\n",
        "y_pred = model.predict(X_test)\n",
        "\n",
        "# Evaluate the model\n",
        "print(\"R^2 Score:\", model.score(X_test, y_test))\n",
        "print(\"MAE:\", metrics.mean_absolute_error(y_test, y_pred))\n",
        "print(\"MSE:\", metrics.mean_squared_error(y_test, y_pred))\n",
        "rmse = np.sqrt(metrics.mean_squared_error(y_test, y_pred))\n",
        "print(\"RMSE:\", rmse)\n"
      ]
    },
    {
      "cell_type": "code",
      "source": [
        "print(\"Predicted Bond Prices:\")\n",
        "print(y_pred)\n"
      ],
      "metadata": {
        "colab": {
          "base_uri": "https://localhost:8080/"
        },
        "id": "AGdbF8si8whL",
        "outputId": "592a750d-f02c-4643-8d3b-9ad359dc28a5"
      },
      "id": "AGdbF8si8whL",
      "execution_count": 24,
      "outputs": [
        {
          "output_type": "stream",
          "name": "stdout",
          "text": [
            "Predicted Bond Prices:\n",
            "[101.82624  98.6116   98.59015 ... 104.96191 113.08589 111.1345 ]\n"
          ]
        }
      ]
    },
    {
      "cell_type": "code",
      "source": [
        "# Show predicted vs actual prices\n",
        "comparison = pd.DataFrame({\n",
        "    \"Actual Price\": y_test.values,\n",
        "    \"Predicted Price\": y_pred\n",
        "})\n",
        "\n",
        "print(comparison.head(10))  # Show first 10 rows\n"
      ],
      "metadata": {
        "colab": {
          "base_uri": "https://localhost:8080/"
        },
        "id": "3utTJkzz8y0-",
        "outputId": "b2275593-e3f8-412f-9a36-3b45af46b8d7"
      },
      "id": "3utTJkzz8y0-",
      "execution_count": 25,
      "outputs": [
        {
          "output_type": "stream",
          "name": "stdout",
          "text": [
            "   Actual Price  Predicted Price\n",
            "0       101.747        101.82624\n",
            "1        98.210         98.61160\n",
            "2        98.590         98.59015\n",
            "3       112.816        110.96124\n",
            "4        92.300         92.30976\n",
            "5       102.291        101.98311\n",
            "6       110.657        109.24067\n",
            "7       108.605        108.60215\n",
            "8       101.738        103.67601\n",
            "9       136.400        136.40482\n"
          ]
        }
      ]
    }
  ],
  "metadata": {
    "kernelspec": {
      "display_name": "Python 3 (ipykernel)",
      "language": "python",
      "name": "python3"
    },
    "language_info": {
      "codemirror_mode": {
        "name": "ipython",
        "version": 3
      },
      "file_extension": ".py",
      "mimetype": "text/x-python",
      "name": "python",
      "nbconvert_exporter": "python",
      "pygments_lexer": "ipython3",
      "version": "3.11.5"
    },
    "colab": {
      "provenance": [],
      "include_colab_link": true
    }
  },
  "nbformat": 4,
  "nbformat_minor": 5
}