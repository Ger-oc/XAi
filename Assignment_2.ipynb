{
  "cells": [
    {
      "cell_type": "markdown",
      "metadata": {
        "id": "view-in-github",
        "colab_type": "text"
      },
      "source": [
        "<a href=\"https://colab.research.google.com/github/Ger-oc/XAi/blob/main/Assignment_2.ipynb\" target=\"_parent\"><img src=\"https://colab.research.google.com/assets/colab-badge.svg\" alt=\"Open In Colab\"/></a>"
      ]
    },
    {
      "cell_type": "markdown",
      "id": "b8e5ed62",
      "metadata": {
        "id": "b8e5ed62"
      },
      "source": [
        "<div>\n",
        "<img src=\"https://drive.google.com/uc?export=view&id=1vK33e_EqaHgBHcbRV_m38hx6IkG0blK_\" width=\"350\"/>\n",
        "</div>\n",
        "\n",
        "# **Artificial Intelligence - MSc**\n",
        "\n",
        "## CS6462 - PROBABILISTIC AND EXPLAINABLE AI\n",
        "## SEM2 2024/5\n",
        "\n",
        "### CS6462 Assignment 2 - Bayesian Networks, ML with Python\n",
        "\n",
        "### Instructor: Emil Vassev\n",
        "March 13th, 2025\n",
        "<br><br>\n",
        "Copyright (C) 2025 - All rights reserved, do not copy or distribute without permission of the author.\n",
        "***"
      ]
    },
    {
      "cell_type": "markdown",
      "id": "6c2603d7",
      "metadata": {
        "id": "6c2603d7"
      },
      "source": [
        "## Submission Info\n",
        "### Student Name: <span style=\"color:red\">TODO: add your name here</span>\n",
        "### Student Surname: <span style=\"color:red\">TODO: add your surname here</span>\n",
        "### Student ID: <span style=\"color:red\">TODO: add your student ID here</span>\n",
        "### Date of Final Submission: <span style=\"color:red\">TODO: put the date when you submitted for grading</span>\n",
        "***"
      ]
    },
    {
      "cell_type": "markdown",
      "id": "a2b8d751",
      "metadata": {
        "id": "a2b8d751"
      },
      "source": [
        "# Task #1: Bayesian Networks (50%)\n",
        "\n",
        "In this e-tivity, you are asked to build a Bayesian Network by following the steps outlined in “**Notebook Lesson: Building Bayesian Networks with Python**”. This Bayesian Network needs to cover a real-life scenario, which is a modified version of the “Recommendation Letter” example provided by the lectures.\n",
        "## The real-life scenario\n",
        "Let’s suppose that a UL student is taking the CS6264 module “Probabilistic and Explainable AI”. The student’s grade for this module will depend on their intelligence (low or high), module difficulty (easy, hard), and their health status (sick or healthy). Our student asks their professor for a recommendation letter. To come up with the idea of the quality of that recommendation letter (weak or strong), the professor can only look at the student’s grade (A, B or C) and the student’s forum activity (not active, moderate or active). Hence, the actual quality of the letter depends stochastically on the grade and on the forum activity.\n",
        "\n",
        "### Here are the steps you need to follow:"
      ]
    },
    {
      "cell_type": "markdown",
      "id": "a2788722",
      "metadata": {
        "id": "a2788722"
      },
      "source": [
        "## Step 1: Create the DAG of the Bayesian Network (10%)"
      ]
    },
    {
      "cell_type": "markdown",
      "id": "6b20db4c",
      "metadata": {
        "id": "6b20db4c"
      },
      "source": [
        "### Step 1.1. Describe the problem (2%)\n",
        "Outline the problem in terms of:\n",
        "<ul>\n",
        "<li>random variables and their domain</li>\n",
        "<li>dependencies among these random variables</li>\n",
        "<ul>"
      ]
    },
    {
      "cell_type": "markdown",
      "id": "dc9249ff",
      "metadata": {
        "id": "dc9249ff"
      },
      "source": [
        "<span style=\"color:red\">TODO: your description goes here</span>"
      ]
    },
    {
      "cell_type": "markdown",
      "id": "ee5b9a4b",
      "metadata": {
        "id": "ee5b9a4b"
      },
      "source": [
        "### Step 1.2. Draw and show the DAG (2%)"
      ]
    },
    {
      "cell_type": "code",
      "execution_count": null,
      "id": "7ed86963",
      "metadata": {
        "id": "7ed86963"
      },
      "outputs": [],
      "source": [
        "# your code goes here"
      ]
    },
    {
      "cell_type": "markdown",
      "id": "c0ecd215",
      "metadata": {
        "id": "c0ecd215"
      },
      "source": [
        "### Step 1.3. Create the DAG of the Bayesian Network by using the pgmpy library (5%)"
      ]
    },
    {
      "cell_type": "code",
      "execution_count": null,
      "id": "db48a940",
      "metadata": {
        "id": "db48a940"
      },
      "outputs": [],
      "source": [
        "# your code goes here"
      ]
    },
    {
      "cell_type": "markdown",
      "id": "c4a839dc",
      "metadata": {
        "id": "c4a839dc"
      },
      "source": [
        "### Step 1.4. Show the DAG of the Bayesian Network (1%)"
      ]
    },
    {
      "cell_type": "code",
      "execution_count": null,
      "id": "cd305a3b",
      "metadata": {
        "id": "cd305a3b"
      },
      "outputs": [],
      "source": [
        "# your code goes here"
      ]
    },
    {
      "cell_type": "markdown",
      "id": "e9de73a9",
      "metadata": {
        "id": "e9de73a9"
      },
      "source": [
        "## Step 2: Create the Conditional Probability Distributions of the Bayesian Network (25%)"
      ]
    },
    {
      "cell_type": "markdown",
      "id": "bd3ae2ef",
      "metadata": {
        "id": "bd3ae2ef"
      },
      "source": [
        "### Step 2.1: Build the probability distribution tables with TabularCPD (22%)"
      ]
    },
    {
      "cell_type": "code",
      "execution_count": null,
      "id": "c350d2fb",
      "metadata": {
        "id": "c350d2fb"
      },
      "outputs": [],
      "source": [
        "# your code goes here"
      ]
    },
    {
      "cell_type": "markdown",
      "id": "9fc20d41",
      "metadata": {
        "id": "9fc20d41"
      },
      "source": [
        "### Step 2.2: Associate the distribution models with the network structure (2%)"
      ]
    },
    {
      "cell_type": "code",
      "execution_count": null,
      "id": "b4241adf",
      "metadata": {
        "id": "b4241adf"
      },
      "outputs": [],
      "source": [
        "# your code goes here"
      ]
    },
    {
      "cell_type": "markdown",
      "id": "b6b85948",
      "metadata": {
        "id": "b6b85948"
      },
      "source": [
        "### Step 2.3: Check the model (1%)"
      ]
    },
    {
      "cell_type": "code",
      "execution_count": null,
      "id": "9c60a865",
      "metadata": {
        "id": "9c60a865"
      },
      "outputs": [],
      "source": [
        "# your code goes here"
      ]
    },
    {
      "cell_type": "markdown",
      "id": "ce96e2a3",
      "metadata": {
        "id": "ce96e2a3"
      },
      "source": [
        "## Step 3: Inference with the Bayesian Network (15%)"
      ]
    },
    {
      "cell_type": "markdown",
      "id": "5a52a7fa",
      "metadata": {
        "id": "5a52a7fa"
      },
      "source": [
        "### Step 3.1: Infer Posterior Probability of having a grade A if the evidence is a strong recommendation letter (5%)"
      ]
    },
    {
      "cell_type": "code",
      "execution_count": null,
      "id": "06b6fdc3",
      "metadata": {
        "id": "06b6fdc3"
      },
      "outputs": [],
      "source": [
        "# your code goes here"
      ]
    },
    {
      "cell_type": "code",
      "execution_count": null,
      "id": "308a9df3",
      "metadata": {
        "id": "308a9df3"
      },
      "outputs": [],
      "source": [
        "# show the posterior probability results\n",
        "# your code goes here"
      ]
    },
    {
      "cell_type": "markdown",
      "id": "9b258b7f",
      "metadata": {
        "id": "9b258b7f"
      },
      "source": [
        "### Step 3.2: Infer Prior Probability of having a strong recommendation letter (no evidence) (5%)"
      ]
    },
    {
      "cell_type": "code",
      "execution_count": null,
      "id": "a1acf2f0",
      "metadata": {
        "id": "a1acf2f0"
      },
      "outputs": [],
      "source": [
        "# your code goes here"
      ]
    },
    {
      "cell_type": "code",
      "execution_count": null,
      "id": "98b85fc8",
      "metadata": {
        "id": "98b85fc8"
      },
      "outputs": [],
      "source": [
        "# show the prior probability results\n",
        "# your code goes here"
      ]
    },
    {
      "cell_type": "markdown",
      "id": "f8e8fba0",
      "metadata": {
        "id": "f8e8fba0"
      },
      "source": [
        "### Step 3.3: Infer Prior Probability of having a strong recommendation letter with a weak forum activity as a prior evidence (5%)"
      ]
    },
    {
      "cell_type": "code",
      "execution_count": null,
      "id": "806bbe99",
      "metadata": {
        "id": "806bbe99"
      },
      "outputs": [],
      "source": [
        "# your code goes here"
      ]
    },
    {
      "cell_type": "code",
      "execution_count": null,
      "id": "c403a277",
      "metadata": {
        "id": "c403a277"
      },
      "outputs": [],
      "source": [
        "# show the prior probability results\n",
        "# your code goes here"
      ]
    },
    {
      "cell_type": "markdown",
      "id": "ea801431",
      "metadata": {
        "id": "ea801431"
      },
      "source": [
        "# Task #2: Machine Learning with Python (50%)"
      ]
    },
    {
      "cell_type": "markdown",
      "id": "b2a3b454",
      "metadata": {
        "id": "b2a3b454"
      },
      "source": [
        "In this task, you are asked to follow the ML process to:\n",
        "\n",
        "* preprocess a provided dataset, so it will become suitable for ML operations;\n",
        "* select an appropriate ML model, so it will cope with the specifics of data and ML tasks;\n",
        "* train the selected ML model on the preprocessed dataset;\n",
        "* test the selected ML model on the preprocessed dataset.\n",
        "\n",
        "Please, consult the \"**Notebook Lesson: Machine Learning with Python**\" for the specifics of the different ML models, the Data Preprocessing staeps and the specifics of Model Training and Testing.\n",
        "\n",
        "## The Dataset\n",
        "The provided dataset covers bond trading operations (buy and sell) on a financial market. The data is labeled and provided in its raw format, so it needs to be preprocessed."
      ]
    },
    {
      "cell_type": "markdown",
      "id": "2373b561",
      "metadata": {
        "id": "2373b561"
      },
      "source": [
        "The provided dataset can be loaded as following:"
      ]
    },
    {
      "cell_type": "code",
      "execution_count": null,
      "id": "815833f1",
      "metadata": {
        "id": "815833f1",
        "outputId": "bf749b21-8dca-430b-ddb0-bca0ca62e49d"
      },
      "outputs": [
        {
          "data": {
            "text/html": [
              "<div>\n",
              "<style scoped>\n",
              "    .dataframe tbody tr th:only-of-type {\n",
              "        vertical-align: middle;\n",
              "    }\n",
              "\n",
              "    .dataframe tbody tr th {\n",
              "        vertical-align: top;\n",
              "    }\n",
              "\n",
              "    .dataframe thead th {\n",
              "        text-align: right;\n",
              "    }\n",
              "</style>\n",
              "<table border=\"1\" class=\"dataframe\">\n",
              "  <thead>\n",
              "    <tr style=\"text-align: right;\">\n",
              "      <th></th>\n",
              "      <th>NoRelatedSym</th>\n",
              "      <th>Symbol</th>\n",
              "      <th>SymbolSfx</th>\n",
              "      <th>SecurityID</th>\n",
              "      <th>SecurityIDSource</th>\n",
              "      <th>SecurityType</th>\n",
              "      <th>MaturityDate</th>\n",
              "      <th>IssueDate</th>\n",
              "      <th>Side</th>\n",
              "      <th>OrderQty</th>\n",
              "      <th>...</th>\n",
              "      <th>NoPartIDs</th>\n",
              "      <th>PartyID</th>\n",
              "      <th>DealerID</th>\n",
              "      <th>DealerTraderID</th>\n",
              "      <th>CustomerTraderID</th>\n",
              "      <th>CustomerID</th>\n",
              "      <th>PartyIDSource</th>\n",
              "      <th>PartyRole</th>\n",
              "      <th>DealerCount</th>\n",
              "      <th>OrdSubType</th>\n",
              "    </tr>\n",
              "  </thead>\n",
              "  <tbody>\n",
              "    <tr>\n",
              "      <th>0</th>\n",
              "      <td>1</td>\n",
              "      <td>135087L93</td>\n",
              "      <td>WI</td>\n",
              "      <td>NaN</td>\n",
              "      <td>1</td>\n",
              "      <td>BOND</td>\n",
              "      <td>9/1/2026</td>\n",
              "      <td>4/16/2021 0:00</td>\n",
              "      <td>BUY</td>\n",
              "      <td>2400000</td>\n",
              "      <td>...</td>\n",
              "      <td>1</td>\n",
              "      <td>1</td>\n",
              "      <td>334</td>\n",
              "      <td>10792.0</td>\n",
              "      <td>6549</td>\n",
              "      <td>129</td>\n",
              "      <td>D</td>\n",
              "      <td>13</td>\n",
              "      <td>5</td>\n",
              "      <td>OUTRIGHT</td>\n",
              "    </tr>\n",
              "    <tr>\n",
              "      <th>1</th>\n",
              "      <td>1</td>\n",
              "      <td>135087L93</td>\n",
              "      <td>WI</td>\n",
              "      <td>NaN</td>\n",
              "      <td>1</td>\n",
              "      <td>BOND</td>\n",
              "      <td>9/1/2026</td>\n",
              "      <td>4/16/2021 0:00</td>\n",
              "      <td>BUY</td>\n",
              "      <td>2400000</td>\n",
              "      <td>...</td>\n",
              "      <td>1</td>\n",
              "      <td>1</td>\n",
              "      <td>335</td>\n",
              "      <td>117793.0</td>\n",
              "      <td>6549</td>\n",
              "      <td>129</td>\n",
              "      <td>D</td>\n",
              "      <td>13</td>\n",
              "      <td>5</td>\n",
              "      <td>OUTRIGHT</td>\n",
              "    </tr>\n",
              "    <tr>\n",
              "      <th>2</th>\n",
              "      <td>1</td>\n",
              "      <td>135087L93</td>\n",
              "      <td>WI</td>\n",
              "      <td>NaN</td>\n",
              "      <td>1</td>\n",
              "      <td>BOND</td>\n",
              "      <td>9/1/2026</td>\n",
              "      <td>4/16/2021 0:00</td>\n",
              "      <td>BUY</td>\n",
              "      <td>2400000</td>\n",
              "      <td>...</td>\n",
              "      <td>1</td>\n",
              "      <td>1</td>\n",
              "      <td>325</td>\n",
              "      <td>119290.0</td>\n",
              "      <td>6549</td>\n",
              "      <td>129</td>\n",
              "      <td>D</td>\n",
              "      <td>13</td>\n",
              "      <td>5</td>\n",
              "      <td>OUTRIGHT</td>\n",
              "    </tr>\n",
              "    <tr>\n",
              "      <th>3</th>\n",
              "      <td>1</td>\n",
              "      <td>135087L93</td>\n",
              "      <td>WI</td>\n",
              "      <td>NaN</td>\n",
              "      <td>1</td>\n",
              "      <td>BOND</td>\n",
              "      <td>9/1/2026</td>\n",
              "      <td>4/16/2021 0:00</td>\n",
              "      <td>BUY</td>\n",
              "      <td>2400000</td>\n",
              "      <td>...</td>\n",
              "      <td>1</td>\n",
              "      <td>1</td>\n",
              "      <td>327</td>\n",
              "      <td>113852.0</td>\n",
              "      <td>6549</td>\n",
              "      <td>129</td>\n",
              "      <td>D</td>\n",
              "      <td>13</td>\n",
              "      <td>5</td>\n",
              "      <td>OUTRIGHT</td>\n",
              "    </tr>\n",
              "    <tr>\n",
              "      <th>4</th>\n",
              "      <td>1</td>\n",
              "      <td>135087L93</td>\n",
              "      <td>WI</td>\n",
              "      <td>NaN</td>\n",
              "      <td>1</td>\n",
              "      <td>BOND</td>\n",
              "      <td>9/1/2026</td>\n",
              "      <td>4/16/2021 0:00</td>\n",
              "      <td>BUY</td>\n",
              "      <td>2400000</td>\n",
              "      <td>...</td>\n",
              "      <td>1</td>\n",
              "      <td>1</td>\n",
              "      <td>337</td>\n",
              "      <td>117795.0</td>\n",
              "      <td>6549</td>\n",
              "      <td>129</td>\n",
              "      <td>D</td>\n",
              "      <td>13</td>\n",
              "      <td>5</td>\n",
              "      <td>OUTRIGHT</td>\n",
              "    </tr>\n",
              "    <tr>\n",
              "      <th>5</th>\n",
              "      <td>1</td>\n",
              "      <td>135087M76</td>\n",
              "      <td>WI</td>\n",
              "      <td>NaN</td>\n",
              "      <td>1</td>\n",
              "      <td>BOND</td>\n",
              "      <td>11/1/2023</td>\n",
              "      <td>8/9/2021 0:00</td>\n",
              "      <td>SELL</td>\n",
              "      <td>15000000</td>\n",
              "      <td>...</td>\n",
              "      <td>1</td>\n",
              "      <td>1</td>\n",
              "      <td>325</td>\n",
              "      <td>119752.0</td>\n",
              "      <td>7019</td>\n",
              "      <td>277</td>\n",
              "      <td>D</td>\n",
              "      <td>13</td>\n",
              "      <td>4</td>\n",
              "      <td>OUTRIGHT</td>\n",
              "    </tr>\n",
              "    <tr>\n",
              "      <th>6</th>\n",
              "      <td>1</td>\n",
              "      <td>135087M76</td>\n",
              "      <td>WI</td>\n",
              "      <td>NaN</td>\n",
              "      <td>1</td>\n",
              "      <td>BOND</td>\n",
              "      <td>11/1/2023</td>\n",
              "      <td>8/9/2021 0:00</td>\n",
              "      <td>SELL</td>\n",
              "      <td>15000000</td>\n",
              "      <td>...</td>\n",
              "      <td>1</td>\n",
              "      <td>1</td>\n",
              "      <td>336</td>\n",
              "      <td>117794.0</td>\n",
              "      <td>7019</td>\n",
              "      <td>277</td>\n",
              "      <td>D</td>\n",
              "      <td>13</td>\n",
              "      <td>4</td>\n",
              "      <td>OUTRIGHT</td>\n",
              "    </tr>\n",
              "    <tr>\n",
              "      <th>7</th>\n",
              "      <td>1</td>\n",
              "      <td>135087M76</td>\n",
              "      <td>WI</td>\n",
              "      <td>NaN</td>\n",
              "      <td>1</td>\n",
              "      <td>BOND</td>\n",
              "      <td>11/1/2023</td>\n",
              "      <td>8/9/2021 0:00</td>\n",
              "      <td>SELL</td>\n",
              "      <td>15000000</td>\n",
              "      <td>...</td>\n",
              "      <td>1</td>\n",
              "      <td>1</td>\n",
              "      <td>323</td>\n",
              "      <td>117786.0</td>\n",
              "      <td>7019</td>\n",
              "      <td>277</td>\n",
              "      <td>D</td>\n",
              "      <td>13</td>\n",
              "      <td>4</td>\n",
              "      <td>OUTRIGHT</td>\n",
              "    </tr>\n",
              "    <tr>\n",
              "      <th>8</th>\n",
              "      <td>1</td>\n",
              "      <td>135087M76</td>\n",
              "      <td>WI</td>\n",
              "      <td>NaN</td>\n",
              "      <td>1</td>\n",
              "      <td>BOND</td>\n",
              "      <td>11/1/2023</td>\n",
              "      <td>8/9/2021 0:00</td>\n",
              "      <td>SELL</td>\n",
              "      <td>15000000</td>\n",
              "      <td>...</td>\n",
              "      <td>1</td>\n",
              "      <td>1</td>\n",
              "      <td>337</td>\n",
              "      <td>117795.0</td>\n",
              "      <td>7019</td>\n",
              "      <td>277</td>\n",
              "      <td>D</td>\n",
              "      <td>13</td>\n",
              "      <td>4</td>\n",
              "      <td>OUTRIGHT</td>\n",
              "    </tr>\n",
              "    <tr>\n",
              "      <th>9</th>\n",
              "      <td>1</td>\n",
              "      <td>135087L93</td>\n",
              "      <td>WI</td>\n",
              "      <td>NaN</td>\n",
              "      <td>1</td>\n",
              "      <td>BOND</td>\n",
              "      <td>9/1/2026</td>\n",
              "      <td>4/16/2021 0:00</td>\n",
              "      <td>SELL</td>\n",
              "      <td>600000</td>\n",
              "      <td>...</td>\n",
              "      <td>1</td>\n",
              "      <td>1</td>\n",
              "      <td>335</td>\n",
              "      <td>117793.0</td>\n",
              "      <td>11532</td>\n",
              "      <td>177</td>\n",
              "      <td>D</td>\n",
              "      <td>13</td>\n",
              "      <td>4</td>\n",
              "      <td>OUTRIGHT</td>\n",
              "    </tr>\n",
              "  </tbody>\n",
              "</table>\n",
              "<p>10 rows × 27 columns</p>\n",
              "</div>"
            ],
            "text/plain": [
              "   NoRelatedSym     Symbol SymbolSfx  SecurityID  SecurityIDSource  \\\n",
              "0             1  135087L93        WI         NaN                 1   \n",
              "1             1  135087L93        WI         NaN                 1   \n",
              "2             1  135087L93        WI         NaN                 1   \n",
              "3             1  135087L93        WI         NaN                 1   \n",
              "4             1  135087L93        WI         NaN                 1   \n",
              "5             1  135087M76        WI         NaN                 1   \n",
              "6             1  135087M76        WI         NaN                 1   \n",
              "7             1  135087M76        WI         NaN                 1   \n",
              "8             1  135087M76        WI         NaN                 1   \n",
              "9             1  135087L93        WI         NaN                 1   \n",
              "\n",
              "  SecurityType MaturityDate       IssueDate  Side  OrderQty  ... NoPartIDs  \\\n",
              "0         BOND     9/1/2026  4/16/2021 0:00   BUY   2400000  ...         1   \n",
              "1         BOND     9/1/2026  4/16/2021 0:00   BUY   2400000  ...         1   \n",
              "2         BOND     9/1/2026  4/16/2021 0:00   BUY   2400000  ...         1   \n",
              "3         BOND     9/1/2026  4/16/2021 0:00   BUY   2400000  ...         1   \n",
              "4         BOND     9/1/2026  4/16/2021 0:00   BUY   2400000  ...         1   \n",
              "5         BOND    11/1/2023   8/9/2021 0:00  SELL  15000000  ...         1   \n",
              "6         BOND    11/1/2023   8/9/2021 0:00  SELL  15000000  ...         1   \n",
              "7         BOND    11/1/2023   8/9/2021 0:00  SELL  15000000  ...         1   \n",
              "8         BOND    11/1/2023   8/9/2021 0:00  SELL  15000000  ...         1   \n",
              "9         BOND     9/1/2026  4/16/2021 0:00  SELL    600000  ...         1   \n",
              "\n",
              "  PartyID  DealerID DealerTraderID  CustomerTraderID  CustomerID  \\\n",
              "0       1       334        10792.0              6549         129   \n",
              "1       1       335       117793.0              6549         129   \n",
              "2       1       325       119290.0              6549         129   \n",
              "3       1       327       113852.0              6549         129   \n",
              "4       1       337       117795.0              6549         129   \n",
              "5       1       325       119752.0              7019         277   \n",
              "6       1       336       117794.0              7019         277   \n",
              "7       1       323       117786.0              7019         277   \n",
              "8       1       337       117795.0              7019         277   \n",
              "9       1       335       117793.0             11532         177   \n",
              "\n",
              "   PartyIDSource  PartyRole  DealerCount  OrdSubType  \n",
              "0              D         13            5    OUTRIGHT  \n",
              "1              D         13            5    OUTRIGHT  \n",
              "2              D         13            5    OUTRIGHT  \n",
              "3              D         13            5    OUTRIGHT  \n",
              "4              D         13            5    OUTRIGHT  \n",
              "5              D         13            4    OUTRIGHT  \n",
              "6              D         13            4    OUTRIGHT  \n",
              "7              D         13            4    OUTRIGHT  \n",
              "8              D         13            4    OUTRIGHT  \n",
              "9              D         13            4    OUTRIGHT  \n",
              "\n",
              "[10 rows x 27 columns]"
            ]
          },
          "execution_count": 13,
          "metadata": {},
          "output_type": "execute_result"
        }
      ],
      "source": [
        "import pandas as pd\n",
        "\n",
        "url_dataset = \"https://raw.githubusercontent.com/evassev/ET5003_SEM1_2022/main/Etivities/data/trade_combined.csv\"\n",
        "df = pd.read_csv(url_dataset)\n",
        "\n",
        "df.head(10)"
      ]
    },
    {
      "cell_type": "markdown",
      "id": "87383a67",
      "metadata": {
        "id": "87383a67"
      },
      "source": [
        "## Target: In this task you are asked to predict the  <span style=\"color:red\">Bond Price</span>."
      ]
    },
    {
      "cell_type": "markdown",
      "id": "00c2e2b6",
      "metadata": {
        "id": "00c2e2b6"
      },
      "source": [
        "## Note: In the following steps use the dataframe object <span style=\"color:red\">df</span>.  "
      ]
    },
    {
      "cell_type": "markdown",
      "id": "b7ede5a8",
      "metadata": {
        "id": "b7ede5a8"
      },
      "source": [
        "## Here are the steps you need to follow:"
      ]
    },
    {
      "cell_type": "markdown",
      "id": "9c4daace",
      "metadata": {
        "id": "9c4daace"
      },
      "source": [
        "## Step 1: Determine the ML Model: Supervised-Classification, Supervised-Regression, or Unsupervised ML Model.  (5%)"
      ]
    },
    {
      "cell_type": "markdown",
      "id": "008535e9",
      "metadata": {
        "id": "008535e9"
      },
      "source": [
        "<span style=\"color:red\">TODO: your rationale goes here</span>"
      ]
    },
    {
      "cell_type": "markdown",
      "id": "3065b01f",
      "metadata": {
        "id": "3065b01f"
      },
      "source": [
        "## Step 2: Data Preprocessing.  (35%)"
      ]
    },
    {
      "cell_type": "markdown",
      "id": "754a7f0b",
      "metadata": {
        "id": "754a7f0b"
      },
      "source": [
        "### Step 2.1: Specifics of the dataset.  (5%)\n",
        "<span style=\"color:red\">\n",
        "    TODO: Show the specifics of the dataset in terms of:\n",
        "    <ul>\n",
        "    <li>shape</li>\n",
        "    <li>columns (features)</li>\n",
        "    <li>data types</li>\n",
        "    <li>statistics for the 'Price' feature</li>\n",
        "    <li>plot the 'Price' feature</li>\n",
        "    </ul>    \n",
        "</span>"
      ]
    },
    {
      "cell_type": "markdown",
      "id": "9456830b",
      "metadata": {
        "id": "9456830b"
      },
      "source": [
        "### Step 2.2: Data Cleaning: Remove features with unique values for each row in the dataset. (5%)\n",
        "<span style=\"color:red\">\n",
        "    TODO:\n",
        "    <ul>\n",
        "    <li>Show the features with unique values for each row in the dataset.</li>\n",
        "    <li>Remove the features with unique values for each row in the dataset.</li>\n",
        "    </ul>    \n",
        "</span>"
      ]
    },
    {
      "cell_type": "markdown",
      "id": "f92bcb93",
      "metadata": {
        "id": "f92bcb93"
      },
      "source": [
        "### Step 2.3: Data Cleaning: Remove features with one unique value for the entire dataset. (5%)\n",
        "<span style=\"color:red\">\n",
        "    TODO:\n",
        "    <ul>\n",
        "    <li>Show the features with one unique value for the entire dataset.</li>\n",
        "    <li>Remove the features with one unique value for the entire dataset.</li>\n",
        "    </ul>    \n",
        "</span>"
      ]
    },
    {
      "cell_type": "markdown",
      "id": "a27777b8",
      "metadata": {
        "id": "a27777b8"
      },
      "source": [
        "### Step 2.4: Data Cleaning: Remove records with null (NAN) values. (5%)\n",
        "<span style=\"color:red\">\n",
        "    TODO:\n",
        "    <ul>\n",
        "    <li>Show the number of null values per feature.</li>\n",
        "    <li>For any feature, remove the rows containg a null value.</li>\n",
        "    </ul>    \n",
        "</span>"
      ]
    },
    {
      "cell_type": "markdown",
      "id": "991a885a",
      "metadata": {
        "id": "991a885a"
      },
      "source": [
        "### Step 2.5: Data Transformation: Convert all non-numeric features to numeric. (15%)\n",
        "<span style=\"color:red\">\n",
        "    TODO:\n",
        "    <ul>\n",
        "    <li>Show all non-numeric features.</li>\n",
        "    <li>Convert the non-numeric features to numeric.</li>\n",
        "    </ul>    \n",
        "</span>"
      ]
    },
    {
      "cell_type": "markdown",
      "id": "e0a1c418",
      "metadata": {
        "id": "e0a1c418"
      },
      "source": [
        "## Step 3: Model Training and Testing.  (10%)"
      ]
    },
    {
      "cell_type": "code",
      "execution_count": null,
      "id": "8a146d81",
      "metadata": {
        "id": "8a146d81",
        "outputId": "b261e81e-6e1a-4929-dd96-6b82b4e2ccdc"
      },
      "outputs": [
        {
          "data": {
            "text/plain": [
              "(20000, 27)"
            ]
          },
          "execution_count": 14,
          "metadata": {},
          "output_type": "execute_result"
        }
      ],
      "source": [
        "df.shape"
      ]
    },
    {
      "cell_type": "code",
      "execution_count": null,
      "id": "5841e331",
      "metadata": {
        "id": "5841e331",
        "outputId": "75765221-36a7-4876-8f3b-290d511b4098"
      },
      "outputs": [
        {
          "data": {
            "text/html": [
              "<div>\n",
              "<style scoped>\n",
              "    .dataframe tbody tr th:only-of-type {\n",
              "        vertical-align: middle;\n",
              "    }\n",
              "\n",
              "    .dataframe tbody tr th {\n",
              "        vertical-align: top;\n",
              "    }\n",
              "\n",
              "    .dataframe thead th {\n",
              "        text-align: right;\n",
              "    }\n",
              "</style>\n",
              "<table border=\"1\" class=\"dataframe\">\n",
              "  <thead>\n",
              "    <tr style=\"text-align: right;\">\n",
              "      <th></th>\n",
              "      <th>NoRelatedSym</th>\n",
              "      <th>Symbol</th>\n",
              "      <th>SymbolSfx</th>\n",
              "      <th>SecurityID</th>\n",
              "      <th>SecurityIDSource</th>\n",
              "      <th>SecurityType</th>\n",
              "      <th>MaturityDate</th>\n",
              "      <th>IssueDate</th>\n",
              "      <th>Side</th>\n",
              "      <th>OrderQty</th>\n",
              "      <th>...</th>\n",
              "      <th>NoPartIDs</th>\n",
              "      <th>PartyID</th>\n",
              "      <th>DealerID</th>\n",
              "      <th>DealerTraderID</th>\n",
              "      <th>CustomerTraderID</th>\n",
              "      <th>CustomerID</th>\n",
              "      <th>PartyIDSource</th>\n",
              "      <th>PartyRole</th>\n",
              "      <th>DealerCount</th>\n",
              "      <th>OrdSubType</th>\n",
              "    </tr>\n",
              "  </thead>\n",
              "  <tbody>\n",
              "    <tr>\n",
              "      <th>0</th>\n",
              "      <td>1</td>\n",
              "      <td>135087L93</td>\n",
              "      <td>WI</td>\n",
              "      <td>NaN</td>\n",
              "      <td>1</td>\n",
              "      <td>BOND</td>\n",
              "      <td>9/1/2026</td>\n",
              "      <td>4/16/2021 0:00</td>\n",
              "      <td>BUY</td>\n",
              "      <td>2400000</td>\n",
              "      <td>...</td>\n",
              "      <td>1</td>\n",
              "      <td>1</td>\n",
              "      <td>334</td>\n",
              "      <td>10792.0</td>\n",
              "      <td>6549</td>\n",
              "      <td>129</td>\n",
              "      <td>D</td>\n",
              "      <td>13</td>\n",
              "      <td>5</td>\n",
              "      <td>OUTRIGHT</td>\n",
              "    </tr>\n",
              "    <tr>\n",
              "      <th>1</th>\n",
              "      <td>1</td>\n",
              "      <td>135087L93</td>\n",
              "      <td>WI</td>\n",
              "      <td>NaN</td>\n",
              "      <td>1</td>\n",
              "      <td>BOND</td>\n",
              "      <td>9/1/2026</td>\n",
              "      <td>4/16/2021 0:00</td>\n",
              "      <td>BUY</td>\n",
              "      <td>2400000</td>\n",
              "      <td>...</td>\n",
              "      <td>1</td>\n",
              "      <td>1</td>\n",
              "      <td>335</td>\n",
              "      <td>117793.0</td>\n",
              "      <td>6549</td>\n",
              "      <td>129</td>\n",
              "      <td>D</td>\n",
              "      <td>13</td>\n",
              "      <td>5</td>\n",
              "      <td>OUTRIGHT</td>\n",
              "    </tr>\n",
              "    <tr>\n",
              "      <th>2</th>\n",
              "      <td>1</td>\n",
              "      <td>135087L93</td>\n",
              "      <td>WI</td>\n",
              "      <td>NaN</td>\n",
              "      <td>1</td>\n",
              "      <td>BOND</td>\n",
              "      <td>9/1/2026</td>\n",
              "      <td>4/16/2021 0:00</td>\n",
              "      <td>BUY</td>\n",
              "      <td>2400000</td>\n",
              "      <td>...</td>\n",
              "      <td>1</td>\n",
              "      <td>1</td>\n",
              "      <td>325</td>\n",
              "      <td>119290.0</td>\n",
              "      <td>6549</td>\n",
              "      <td>129</td>\n",
              "      <td>D</td>\n",
              "      <td>13</td>\n",
              "      <td>5</td>\n",
              "      <td>OUTRIGHT</td>\n",
              "    </tr>\n",
              "    <tr>\n",
              "      <th>3</th>\n",
              "      <td>1</td>\n",
              "      <td>135087L93</td>\n",
              "      <td>WI</td>\n",
              "      <td>NaN</td>\n",
              "      <td>1</td>\n",
              "      <td>BOND</td>\n",
              "      <td>9/1/2026</td>\n",
              "      <td>4/16/2021 0:00</td>\n",
              "      <td>BUY</td>\n",
              "      <td>2400000</td>\n",
              "      <td>...</td>\n",
              "      <td>1</td>\n",
              "      <td>1</td>\n",
              "      <td>327</td>\n",
              "      <td>113852.0</td>\n",
              "      <td>6549</td>\n",
              "      <td>129</td>\n",
              "      <td>D</td>\n",
              "      <td>13</td>\n",
              "      <td>5</td>\n",
              "      <td>OUTRIGHT</td>\n",
              "    </tr>\n",
              "    <tr>\n",
              "      <th>4</th>\n",
              "      <td>1</td>\n",
              "      <td>135087L93</td>\n",
              "      <td>WI</td>\n",
              "      <td>NaN</td>\n",
              "      <td>1</td>\n",
              "      <td>BOND</td>\n",
              "      <td>9/1/2026</td>\n",
              "      <td>4/16/2021 0:00</td>\n",
              "      <td>BUY</td>\n",
              "      <td>2400000</td>\n",
              "      <td>...</td>\n",
              "      <td>1</td>\n",
              "      <td>1</td>\n",
              "      <td>337</td>\n",
              "      <td>117795.0</td>\n",
              "      <td>6549</td>\n",
              "      <td>129</td>\n",
              "      <td>D</td>\n",
              "      <td>13</td>\n",
              "      <td>5</td>\n",
              "      <td>OUTRIGHT</td>\n",
              "    </tr>\n",
              "    <tr>\n",
              "      <th>5</th>\n",
              "      <td>1</td>\n",
              "      <td>135087M76</td>\n",
              "      <td>WI</td>\n",
              "      <td>NaN</td>\n",
              "      <td>1</td>\n",
              "      <td>BOND</td>\n",
              "      <td>11/1/2023</td>\n",
              "      <td>8/9/2021 0:00</td>\n",
              "      <td>SELL</td>\n",
              "      <td>15000000</td>\n",
              "      <td>...</td>\n",
              "      <td>1</td>\n",
              "      <td>1</td>\n",
              "      <td>325</td>\n",
              "      <td>119752.0</td>\n",
              "      <td>7019</td>\n",
              "      <td>277</td>\n",
              "      <td>D</td>\n",
              "      <td>13</td>\n",
              "      <td>4</td>\n",
              "      <td>OUTRIGHT</td>\n",
              "    </tr>\n",
              "    <tr>\n",
              "      <th>6</th>\n",
              "      <td>1</td>\n",
              "      <td>135087M76</td>\n",
              "      <td>WI</td>\n",
              "      <td>NaN</td>\n",
              "      <td>1</td>\n",
              "      <td>BOND</td>\n",
              "      <td>11/1/2023</td>\n",
              "      <td>8/9/2021 0:00</td>\n",
              "      <td>SELL</td>\n",
              "      <td>15000000</td>\n",
              "      <td>...</td>\n",
              "      <td>1</td>\n",
              "      <td>1</td>\n",
              "      <td>336</td>\n",
              "      <td>117794.0</td>\n",
              "      <td>7019</td>\n",
              "      <td>277</td>\n",
              "      <td>D</td>\n",
              "      <td>13</td>\n",
              "      <td>4</td>\n",
              "      <td>OUTRIGHT</td>\n",
              "    </tr>\n",
              "    <tr>\n",
              "      <th>7</th>\n",
              "      <td>1</td>\n",
              "      <td>135087M76</td>\n",
              "      <td>WI</td>\n",
              "      <td>NaN</td>\n",
              "      <td>1</td>\n",
              "      <td>BOND</td>\n",
              "      <td>11/1/2023</td>\n",
              "      <td>8/9/2021 0:00</td>\n",
              "      <td>SELL</td>\n",
              "      <td>15000000</td>\n",
              "      <td>...</td>\n",
              "      <td>1</td>\n",
              "      <td>1</td>\n",
              "      <td>323</td>\n",
              "      <td>117786.0</td>\n",
              "      <td>7019</td>\n",
              "      <td>277</td>\n",
              "      <td>D</td>\n",
              "      <td>13</td>\n",
              "      <td>4</td>\n",
              "      <td>OUTRIGHT</td>\n",
              "    </tr>\n",
              "    <tr>\n",
              "      <th>8</th>\n",
              "      <td>1</td>\n",
              "      <td>135087M76</td>\n",
              "      <td>WI</td>\n",
              "      <td>NaN</td>\n",
              "      <td>1</td>\n",
              "      <td>BOND</td>\n",
              "      <td>11/1/2023</td>\n",
              "      <td>8/9/2021 0:00</td>\n",
              "      <td>SELL</td>\n",
              "      <td>15000000</td>\n",
              "      <td>...</td>\n",
              "      <td>1</td>\n",
              "      <td>1</td>\n",
              "      <td>337</td>\n",
              "      <td>117795.0</td>\n",
              "      <td>7019</td>\n",
              "      <td>277</td>\n",
              "      <td>D</td>\n",
              "      <td>13</td>\n",
              "      <td>4</td>\n",
              "      <td>OUTRIGHT</td>\n",
              "    </tr>\n",
              "    <tr>\n",
              "      <th>9</th>\n",
              "      <td>1</td>\n",
              "      <td>135087L93</td>\n",
              "      <td>WI</td>\n",
              "      <td>NaN</td>\n",
              "      <td>1</td>\n",
              "      <td>BOND</td>\n",
              "      <td>9/1/2026</td>\n",
              "      <td>4/16/2021 0:00</td>\n",
              "      <td>SELL</td>\n",
              "      <td>600000</td>\n",
              "      <td>...</td>\n",
              "      <td>1</td>\n",
              "      <td>1</td>\n",
              "      <td>335</td>\n",
              "      <td>117793.0</td>\n",
              "      <td>11532</td>\n",
              "      <td>177</td>\n",
              "      <td>D</td>\n",
              "      <td>13</td>\n",
              "      <td>4</td>\n",
              "      <td>OUTRIGHT</td>\n",
              "    </tr>\n",
              "  </tbody>\n",
              "</table>\n",
              "<p>10 rows × 27 columns</p>\n",
              "</div>"
            ],
            "text/plain": [
              "   NoRelatedSym     Symbol SymbolSfx  SecurityID  SecurityIDSource  \\\n",
              "0             1  135087L93        WI         NaN                 1   \n",
              "1             1  135087L93        WI         NaN                 1   \n",
              "2             1  135087L93        WI         NaN                 1   \n",
              "3             1  135087L93        WI         NaN                 1   \n",
              "4             1  135087L93        WI         NaN                 1   \n",
              "5             1  135087M76        WI         NaN                 1   \n",
              "6             1  135087M76        WI         NaN                 1   \n",
              "7             1  135087M76        WI         NaN                 1   \n",
              "8             1  135087M76        WI         NaN                 1   \n",
              "9             1  135087L93        WI         NaN                 1   \n",
              "\n",
              "  SecurityType MaturityDate       IssueDate  Side  OrderQty  ... NoPartIDs  \\\n",
              "0         BOND     9/1/2026  4/16/2021 0:00   BUY   2400000  ...         1   \n",
              "1         BOND     9/1/2026  4/16/2021 0:00   BUY   2400000  ...         1   \n",
              "2         BOND     9/1/2026  4/16/2021 0:00   BUY   2400000  ...         1   \n",
              "3         BOND     9/1/2026  4/16/2021 0:00   BUY   2400000  ...         1   \n",
              "4         BOND     9/1/2026  4/16/2021 0:00   BUY   2400000  ...         1   \n",
              "5         BOND    11/1/2023   8/9/2021 0:00  SELL  15000000  ...         1   \n",
              "6         BOND    11/1/2023   8/9/2021 0:00  SELL  15000000  ...         1   \n",
              "7         BOND    11/1/2023   8/9/2021 0:00  SELL  15000000  ...         1   \n",
              "8         BOND    11/1/2023   8/9/2021 0:00  SELL  15000000  ...         1   \n",
              "9         BOND     9/1/2026  4/16/2021 0:00  SELL    600000  ...         1   \n",
              "\n",
              "  PartyID  DealerID DealerTraderID  CustomerTraderID  CustomerID  \\\n",
              "0       1       334        10792.0              6549         129   \n",
              "1       1       335       117793.0              6549         129   \n",
              "2       1       325       119290.0              6549         129   \n",
              "3       1       327       113852.0              6549         129   \n",
              "4       1       337       117795.0              6549         129   \n",
              "5       1       325       119752.0              7019         277   \n",
              "6       1       336       117794.0              7019         277   \n",
              "7       1       323       117786.0              7019         277   \n",
              "8       1       337       117795.0              7019         277   \n",
              "9       1       335       117793.0             11532         177   \n",
              "\n",
              "   PartyIDSource  PartyRole  DealerCount  OrdSubType  \n",
              "0              D         13            5    OUTRIGHT  \n",
              "1              D         13            5    OUTRIGHT  \n",
              "2              D         13            5    OUTRIGHT  \n",
              "3              D         13            5    OUTRIGHT  \n",
              "4              D         13            5    OUTRIGHT  \n",
              "5              D         13            4    OUTRIGHT  \n",
              "6              D         13            4    OUTRIGHT  \n",
              "7              D         13            4    OUTRIGHT  \n",
              "8              D         13            4    OUTRIGHT  \n",
              "9              D         13            4    OUTRIGHT  \n",
              "\n",
              "[10 rows x 27 columns]"
            ]
          },
          "execution_count": 15,
          "metadata": {},
          "output_type": "execute_result"
        }
      ],
      "source": [
        "df.head(10)"
      ]
    },
    {
      "cell_type": "markdown",
      "id": "1bdfd108",
      "metadata": {
        "id": "1bdfd108"
      },
      "source": [
        "### Step 3.1: Select and Import a ML Algorithm. (2%)\n",
        "<span style=\"color:red\">\n",
        "    TODO: Based on your rationale provided in Step 1, import one of the following algorithms:\n",
        "    <ul>\n",
        "    <li>for Supervised Classification ML use <b>'from sklearn.ensemble import RandomForestClassifier'</b></li>\n",
        "    <li>for Supervised Regression ML use <b>'from sklearn.ensemble import RandomForestRegressor'</b></li>\n",
        "    <li>for Unsupervised ML use <b>'from sklearn.cluster import KMeans'</b></li>\n",
        "    </ul>    \n",
        "</span>"
      ]
    },
    {
      "cell_type": "code",
      "execution_count": null,
      "id": "f9b993cd",
      "metadata": {
        "id": "f9b993cd"
      },
      "outputs": [],
      "source": [
        "from sklearn.model_selection import train_test_split"
      ]
    },
    {
      "cell_type": "markdown",
      "id": "64ae4203",
      "metadata": {
        "id": "64ae4203"
      },
      "source": [
        "### Step 3.2: Train the ML Model. (5%)\n",
        "<span style=\"color:red\">\n",
        "    TODO:\n",
        "    <ul>\n",
        "    <li>from the preprocessed dataset, extract 𝑋 - a dataset of all the features but 'Price'</li>\n",
        "    <li>from the preprocessed dataset, extract 𝑌  - vector that contains all the values of 'Price'</li>\n",
        "    <li>slice the dataset: 80% for training and 20% for testing</li>\n",
        "    <li>create an instance of the selected ML algorithm and train</li>\n",
        "    </ul>    \n",
        "</span>"
      ]
    },
    {
      "cell_type": "code",
      "execution_count": null,
      "id": "78e49d17",
      "metadata": {
        "id": "78e49d17"
      },
      "outputs": [],
      "source": [
        "from sklearn import metrics"
      ]
    },
    {
      "cell_type": "markdown",
      "id": "65c6381e",
      "metadata": {
        "id": "65c6381e"
      },
      "source": [
        "### Step 3.3: Test the ML Model. (3%)\n",
        "<span style=\"color:red\">\n",
        "    TODO:\n",
        "    <ul>\n",
        "    <li>use the testing part of the dataset to predic the Bond Prices</li>\n",
        "    <li>compute and show the prediction score</li>\n",
        "    </ul>    \n",
        "</span>"
      ]
    },
    {
      "cell_type": "code",
      "execution_count": null,
      "id": "da92725b",
      "metadata": {
        "id": "da92725b"
      },
      "outputs": [],
      "source": []
    }
  ],
  "metadata": {
    "kernelspec": {
      "display_name": "Python 3 (ipykernel)",
      "language": "python",
      "name": "python3"
    },
    "language_info": {
      "codemirror_mode": {
        "name": "ipython",
        "version": 3
      },
      "file_extension": ".py",
      "mimetype": "text/x-python",
      "name": "python",
      "nbconvert_exporter": "python",
      "pygments_lexer": "ipython3",
      "version": "3.11.5"
    },
    "colab": {
      "provenance": [],
      "include_colab_link": true
    }
  },
  "nbformat": 4,
  "nbformat_minor": 5
}